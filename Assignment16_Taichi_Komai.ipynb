{
  "nbformat": 4,
  "nbformat_minor": 0,
  "metadata": {
    "colab": {
      "provenance": [],
      "authorship_tag": "ABX9TyOGQSH9Lzh4AWkRNkftt25M",
      "include_colab_link": true
    },
    "kernelspec": {
      "name": "python3",
      "display_name": "Python 3"
    },
    "language_info": {
      "name": "python"
    }
  },
  "cells": [
    {
      "cell_type": "markdown",
      "metadata": {
        "id": "view-in-github",
        "colab_type": "text"
      },
      "source": [
        "<a href=\"https://colab.research.google.com/github/tkoma1122/CSC221_tkoma001/blob/main/Assignment16_Taichi_Komai.ipynb\" target=\"_parent\"><img src=\"https://colab.research.google.com/assets/colab-badge.svg\" alt=\"Open In Colab\"/></a>"
      ]
    },
    {
      "cell_type": "markdown",
      "source": [
        "# 1-1"
      ],
      "metadata": {
        "id": "1heUOxZXsoMU"
      }
    },
    {
      "cell_type": "code",
      "execution_count": null,
      "metadata": {
        "colab": {
          "base_uri": "https://localhost:8080/"
        },
        "id": "dXc_vU-Psisn",
        "outputId": "e58c3002-4ffb-40e3-be7c-94bebfe9a713"
      },
      "outputs": [
        {
          "output_type": "execute_result",
          "data": {
            "text/plain": [
              "10657.75"
            ]
          },
          "metadata": {},
          "execution_count": 1
        }
      ],
      "source": [
        "6000 + 4523.50 + 134.25"
      ]
    },
    {
      "cell_type": "code",
      "source": [
        "_ + 6192.75"
      ],
      "metadata": {
        "colab": {
          "base_uri": "https://localhost:8080/"
        },
        "id": "fuJ9mxKhufkv",
        "outputId": "5cd47b39-e282-42c6-ad2a-23114afc1d82"
      },
      "execution_count": null,
      "outputs": [
        {
          "output_type": "execute_result",
          "data": {
            "text/plain": [
              "16850.5"
            ]
          },
          "metadata": {},
          "execution_count": 2
        }
      ]
    },
    {
      "cell_type": "markdown",
      "source": [
        "I learned \"_ +\" can other choice of calculation."
      ],
      "metadata": {
        "id": "fftR4nu2unot"
      }
    },
    {
      "cell_type": "markdown",
      "source": [
        "# 1-2"
      ],
      "metadata": {
        "id": "VyOEhqyZu6vn"
      }
    },
    {
      "cell_type": "code",
      "source": [
        "print('Hello World')"
      ],
      "metadata": {
        "colab": {
          "base_uri": "https://localhost:8080/"
        },
        "id": "vEsA-WuCumQr",
        "outputId": "c2013646-d948-42ac-b336-f2fa21315b2b"
      },
      "execution_count": null,
      "outputs": [
        {
          "output_type": "stream",
          "name": "stdout",
          "text": [
            "Hello World\n"
          ]
        }
      ]
    },
    {
      "cell_type": "markdown",
      "source": [
        "I already learned UNIX and I know what I do to run the code."
      ],
      "metadata": {
        "id": "P_b5M-yuq47O"
      }
    },
    {
      "cell_type": "markdown",
      "source": [
        "# 1-3"
      ],
      "metadata": {
        "id": "8bRfMqZ9rHz6"
      }
    },
    {
      "cell_type": "code",
      "source": [
        "2 + 3 * 4"
      ],
      "metadata": {
        "id": "wWYGGqelvPCI",
        "colab": {
          "base_uri": "https://localhost:8080/"
        },
        "outputId": "2ac73b45-9177-44ef-b95f-f7ca10bb7c62"
      },
      "execution_count": null,
      "outputs": [
        {
          "output_type": "execute_result",
          "data": {
            "text/plain": [
              "14"
            ]
          },
          "metadata": {},
          "execution_count": 11
        }
      ]
    },
    {
      "cell_type": "code",
      "source": [
        "principal = 1000\n",
        "rate = 0.05\n",
        "numyears = 5\n",
        "year = 1\n",
        "#while year <= numyears:\n",
        "  #principal = principal * (1 + rate)\n",
        "  #print(year, principal)\n",
        "  #year =+ 1\n",
        "  #print(f'{year:>3d} {principal:0.2f}')"
      ],
      "metadata": {
        "id": "4CZFyW5WrYgt"
      },
      "execution_count": null,
      "outputs": []
    },
    {
      "cell_type": "markdown",
      "source": [
        "The list of the numbers are clear to understand"
      ],
      "metadata": {
        "id": "GtU2So_4tHmb"
      }
    },
    {
      "cell_type": "markdown",
      "source": [
        "# 1-4"
      ],
      "metadata": {
        "id": "v4_A2a745ksW"
      }
    },
    {
      "cell_type": "code",
      "source": [
        "a = 0b11001001\n",
        "mask = 0b11110000\n",
        "x = (a & mask) >> 4"
      ],
      "metadata": {
        "id": "Lwn6kTKrr-Jj"
      },
      "execution_count": null,
      "outputs": []
    },
    {
      "cell_type": "code",
      "source": [
        "x = x + 1\n",
        "#y = y * n\n",
        "\n",
        "x += 1\n",
        "#y *= n"
      ],
      "metadata": {
        "id": "L3m4vZa76Ebp"
      },
      "execution_count": null,
      "outputs": []
    },
    {
      "cell_type": "markdown",
      "source": [
        "I didn't know that Python doesn't have (++) and (--) operators."
      ],
      "metadata": {
        "id": "0NknjcBD6lEy"
      }
    },
    {
      "cell_type": "markdown",
      "source": [
        "# 1-5"
      ],
      "metadata": {
        "id": "Xfr_UfLc61eS"
      }
    },
    {
      "cell_type": "code",
      "source": [
        "#if a < b:\n",
        "  #print('computer says yes')\n",
        "\n",
        "#else:\n",
        "  #print('computer says no')\n",
        "\n",
        "#if a < b:\n",
        "  #pass\n",
        "#else:\n",
        " # print('computer says No')"
      ],
      "metadata": {
        "id": "hSW7L47a6YmD"
      },
      "execution_count": null,
      "outputs": []
    },
    {
      "cell_type": "markdown",
      "source": [
        "pass means do nothing.\n",
        "Understanding while loop and break, continue commands.\n"
      ],
      "metadata": {
        "id": "nIIUHtp4zX4I"
      }
    },
    {
      "cell_type": "markdown",
      "source": [
        "# 1-6"
      ],
      "metadata": {
        "id": "tKyWio_3zsCD"
      }
    },
    {
      "cell_type": "markdown",
      "source": [
        "print with the string is basic but displays that have a variety of selections."
      ],
      "metadata": {
        "id": "bGqmD3i6am23"
      }
    },
    {
      "cell_type": "markdown",
      "source": [
        "# 1-7"
      ],
      "metadata": {
        "id": "QTySDusfbNMt"
      }
    },
    {
      "cell_type": "markdown",
      "source": [
        "use \"end = ' '\" to omit the extra lines is new knowledge for me."
      ],
      "metadata": {
        "id": "6-Cpdrs8bp2H"
      }
    },
    {
      "cell_type": "markdown",
      "source": [
        "# 1-8"
      ],
      "metadata": {
        "id": "PFEJ9viXb73i"
      }
    },
    {
      "cell_type": "markdown",
      "source": [
        "the list is stats from 0."
      ],
      "metadata": {
        "id": "Kos-z_aIb9F9"
      }
    },
    {
      "cell_type": "markdown",
      "source": [
        "If create empty list and put Dave in it, the list will display 'D', 'a', 'v', 'e'."
      ],
      "metadata": {
        "id": "p4k7XkPLcDyd"
      }
    },
    {
      "cell_type": "markdown",
      "source": [
        "# 1-9"
      ],
      "metadata": {
        "id": "s339ZTEvg_zk"
      }
    },
    {
      "cell_type": "code",
      "source": [
        "holding = ('GOOG', 100, 490.10)\n",
        "address = ('www.python.org', 80)\n",
        "\n",
        "print(address)"
      ],
      "metadata": {
        "colab": {
          "base_uri": "https://localhost:8080/"
        },
        "id": "as9fuJVKbOZe",
        "outputId": "33b55e07-df89-41a7-dbe7-4007b25b6407"
      },
      "execution_count": null,
      "outputs": [
        {
          "output_type": "stream",
          "name": "stdout",
          "text": [
            "('www.python.org', 80)\n"
          ]
        }
      ]
    },
    {
      "cell_type": "markdown",
      "source": [
        "a tuple can be customized by defining the category."
      ],
      "metadata": {
        "id": "DeLq1Cvjhwfa"
      }
    },
    {
      "cell_type": "markdown",
      "source": [
        "# 1-10"
      ],
      "metadata": {
        "id": "UneHkEodn8QH"
      }
    },
    {
      "cell_type": "markdown",
      "source": [
        "to add the item in the set, use .add command and to delete the items in it, use .delete command.\n",
        "If I wanna add and delete at the same time, use .update command."
      ],
      "metadata": {
        "id": "z6V3ExEdZGxI"
      }
    },
    {
      "cell_type": "markdown",
      "source": [
        "# 1-11"
      ],
      "metadata": {
        "id": "KGOtcvCGZiqC"
      }
    },
    {
      "cell_type": "code",
      "source": [
        "# a = {\n",
        "    #'name' : 'GOOG'\n",
        "    #'shares' : 100\n",
        "    #'price' : 490.10\n",
        "#}\n"
      ],
      "metadata": {
        "id": "AWxGDCc0Zqk7"
      },
      "execution_count": 2,
      "outputs": []
    },
    {
      "cell_type": "markdown",
      "source": [
        "The keys always appear in the same order as the items were initially inserted into the dictionary."
      ],
      "metadata": {
        "id": "TDpC6xk4Zj-k"
      }
    },
    {
      "cell_type": "markdown",
      "source": [
        "# 1-12"
      ],
      "metadata": {
        "id": "8wQn1Y6VwFeN"
      }
    },
    {
      "cell_type": "code",
      "source": [
        "for n in [1, 2, 3, 4, 5, 6, 7, 8, 9]:\n",
        "  print(f'2 to the {n} power is {2**n}.')"
      ],
      "metadata": {
        "colab": {
          "base_uri": "https://localhost:8080/"
        },
        "id": "86Xl3syPwbwe",
        "outputId": "4e265bb8-b5c5-43da-bb9c-638552fe07ea"
      },
      "execution_count": 3,
      "outputs": [
        {
          "output_type": "stream",
          "name": "stdout",
          "text": [
            "2 to the 1 power is 2.\n",
            "2 to the 2 power is 4.\n",
            "2 to the 3 power is 8.\n",
            "2 to the 4 power is 16.\n",
            "2 to the 5 power is 32.\n",
            "2 to the 6 power is 64.\n",
            "2 to the 7 power is 128.\n",
            "2 to the 8 power is 256.\n",
            "2 to the 9 power is 512.\n"
          ]
        }
      ]
    },
    {
      "cell_type": "code",
      "source": [
        "a = range(5)\n",
        "print(a)"
      ],
      "metadata": {
        "colab": {
          "base_uri": "https://localhost:8080/"
        },
        "id": "NnvMFe9iw8UI",
        "outputId": "1fe79980-9257-45d2-ab03-eeeaf43affdb"
      },
      "execution_count": 4,
      "outputs": [
        {
          "output_type": "stream",
          "name": "stdout",
          "text": [
            "range(0, 5)\n"
          ]
        }
      ]
    },
    {
      "cell_type": "markdown",
      "source": [
        "for looping can be used for not only integers but also string and float."
      ],
      "metadata": {
        "id": "1k372jrVwI0s"
      }
    },
    {
      "cell_type": "markdown",
      "source": [
        "# 1-13"
      ],
      "metadata": {
        "id": "oKZRyFP0xfC9"
      }
    },
    {
      "cell_type": "code",
      "source": [
        "def remainder(a, b):\n",
        "  q = a//b\n",
        "  r = a - q * b\n",
        "  return r"
      ],
      "metadata": {
        "id": "1T8BKGtJxj7l"
      },
      "execution_count": 5,
      "outputs": []
    },
    {
      "cell_type": "markdown",
      "source": [
        "This function is unique in that it allows you to give instructions all at once by executing this function."
      ],
      "metadata": {
        "id": "QEElx9FdyKMB"
      }
    },
    {
      "cell_type": "markdown",
      "source": [
        "# 1-14"
      ],
      "metadata": {
        "id": "91NTQEKayMfV"
      }
    },
    {
      "cell_type": "markdown",
      "source": [
        "try:\n",
        "finally: #\n",
        "Code that will be executed no matter what, for example, cleanup operations\n"
      ],
      "metadata": {
        "id": "n-g-IXzGyZDf"
      }
    },
    {
      "cell_type": "markdown",
      "source": [
        "# 1-15"
      ],
      "metadata": {
        "id": "D3NdGcLOytNN"
      }
    },
    {
      "cell_type": "markdown",
      "source": [
        "The SystemExit exception in Python is a special exception that, when raised, causes the interpreter to exit. It is often used to terminate a program."
      ],
      "metadata": {
        "id": "tE0UR5yJzKJX"
      }
    },
    {
      "cell_type": "code",
      "source": [
        "try:\n",
        "    # Some code that may raise an exception\n",
        "    raise SystemExit(\"Exiting the program\")\n",
        "except SystemExit as se:\n",
        "    print(f\"Caught SystemExit: {se}\")\n"
      ],
      "metadata": {
        "colab": {
          "base_uri": "https://localhost:8080/"
        },
        "id": "mGr_PaRfxyym",
        "outputId": "f4d79e11-4683-482f-ce56-7946e32cc265"
      },
      "execution_count": 6,
      "outputs": [
        {
          "output_type": "stream",
          "name": "stdout",
          "text": [
            "Caught SystemExit: Exiting the program\n"
          ]
        }
      ]
    },
    {
      "cell_type": "markdown",
      "source": [
        "# 1-16"
      ],
      "metadata": {
        "id": "pnzvmJORzT4K"
      }
    },
    {
      "cell_type": "code",
      "source": [
        "class MyClass:\n",
        "    attribute = \"example\"\n",
        "\n",
        "    def method(self):\n",
        "        return \"This is a method.\"\n",
        "\n",
        "my_object = MyClass()  # Creating an instance of MyClass\n",
        "\n",
        "# Creating an instance of MyClass\n",
        "obj = MyClass()\n",
        "\n",
        "# Accessing attributes\n",
        "print(obj.attribute)  # Output: example\n",
        "\n",
        "# Calling methods\n",
        "result = obj.method()\n",
        "print(result)  # Output: This is a method.\n"
      ],
      "metadata": {
        "colab": {
          "base_uri": "https://localhost:8080/"
        },
        "id": "gIefcaIBzTjp",
        "outputId": "ccadee18-5586-48e1-fcc9-a97191797b2c"
      },
      "execution_count": 7,
      "outputs": [
        {
          "output_type": "stream",
          "name": "stdout",
          "text": [
            "example\n",
            "This is a method.\n"
          ]
        }
      ]
    },
    {
      "cell_type": "markdown",
      "source": [
        "# 1-17"
      ],
      "metadata": {
        "id": "f5kcWBvTzshW"
      }
    },
    {
      "cell_type": "markdown",
      "source": [
        "Modules allow you to logically organize your Python code, making it easier to manage and reuse."
      ],
      "metadata": {
        "id": "gAYhHA4H0Kc8"
      }
    },
    {
      "cell_type": "markdown",
      "source": [
        "# 1-18"
      ],
      "metadata": {
        "id": "lFdYhAJ40LO5"
      }
    },
    {
      "cell_type": "code",
      "source": [
        "# Example Python script (myscript.py)\n",
        "\n",
        "def greet(name):\n",
        "    return f\"Hello, {name}!\"\n",
        "\n",
        "if __name__ == \"__main__\":\n",
        "    user_name = input(\"Enter your name: \")\n",
        "    message = greet(user_name)\n",
        "    print(message)\n",
        "\n"
      ],
      "metadata": {
        "colab": {
          "base_uri": "https://localhost:8080/"
        },
        "id": "NfJgpEM5zQyx",
        "outputId": "6556670c-dd42-4eea-c995-f846da4503fd"
      },
      "execution_count": 9,
      "outputs": [
        {
          "output_type": "stream",
          "name": "stdout",
          "text": [
            "Enter your name: Taichi\n",
            "Hello, Taichi!\n"
          ]
        }
      ]
    },
    {
      "cell_type": "markdown",
      "source": [
        " sequences of Python instructions or commands saved in a file. Python scripts are commonly used for automating repetitive tasks, performing specific operations, or executing a series of instructions."
      ],
      "metadata": {
        "id": "mVB2o1Wf0sEv"
      }
    },
    {
      "cell_type": "markdown",
      "source": [
        "# 1-19"
      ],
      "metadata": {
        "id": "2w2MvZnB1hr6"
      }
    },
    {
      "cell_type": "markdown",
      "source": [
        "A package can contain subpackages and modules, and it is often used to structure larger Python projects. The presence of a special file named __init__.py in a directory indicates that the directory should be treated as a Python package."
      ],
      "metadata": {
        "id": "wYsW3zTB17pu"
      }
    },
    {
      "cell_type": "markdown",
      "source": [
        "# 1-20"
      ],
      "metadata": {
        "id": "ILRMgBE619cS"
      }
    },
    {
      "cell_type": "markdown",
      "source": [
        "Structuring a Python application involves organizing your code and files in a way that makes it readable, maintainable, and scalable. A well-structured application follows best practices for project layout, code organization, and separation of concerns."
      ],
      "metadata": {
        "id": "lWCqcQbv2OJZ"
      }
    },
    {
      "cell_type": "markdown",
      "source": [
        "# 1-21"
      ],
      "metadata": {
        "id": "kAKaW6Rh2RUS"
      }
    },
    {
      "cell_type": "markdown",
      "source": [
        "Managing third-party packages in a Python project is an essential aspect of software development. The standard tool for managing Python packages is pip, which allows you to install, upgrade, and uninstall packages easily."
      ],
      "metadata": {
        "id": "JRC4y-Cy25M2"
      }
    }
  ]
}