{
  "nbformat": 4,
  "nbformat_minor": 0,
  "metadata": {
    "colab": {
      "provenance": [],
      "authorship_tag": "ABX9TyPqpBNWtkbwN8pG8zj6CYZc",
      "include_colab_link": true
    },
    "kernelspec": {
      "name": "python3",
      "display_name": "Python 3"
    },
    "language_info": {
      "name": "python"
    }
  },
  "cells": [
    {
      "cell_type": "markdown",
      "metadata": {
        "id": "view-in-github",
        "colab_type": "text"
      },
      "source": [
        "<a href=\"https://colab.research.google.com/github/tkoma1122/CSC221_tkoma001/blob/main/Week1A.ipynb\" target=\"_parent\"><img src=\"https://colab.research.google.com/assets/colab-badge.svg\" alt=\"Open In Colab\"/></a>"
      ]
    },
    {
      "cell_type": "code",
      "execution_count": 1,
      "metadata": {
        "colab": {
          "base_uri": "https://localhost:8080/"
        },
        "id": "183g54INBvNg",
        "outputId": "31a6e3b0-0c90-43f7-e165-8e58b2becfaf"
      },
      "outputs": [
        {
          "output_type": "stream",
          "name": "stdout",
          "text": [
            "1232\n"
          ]
        }
      ],
      "source": [
        "a = 1232\n",
        "print (a)"
      ]
    },
    {
      "cell_type": "code",
      "source": [
        "b = a + 1\n",
        "print (b)"
      ],
      "metadata": {
        "colab": {
          "base_uri": "https://localhost:8080/"
        },
        "id": "oGMmcKwdB5Nv",
        "outputId": "77aac872-4a4e-4d3b-da9a-e46453fb815e"
      },
      "execution_count": 2,
      "outputs": [
        {
          "output_type": "stream",
          "name": "stdout",
          "text": [
            "1233\n"
          ]
        }
      ]
    },
    {
      "cell_type": "code",
      "source": [
        "%%file tai1.py\n",
        "abc = 200\n",
        "print(abc)"
      ],
      "metadata": {
        "colab": {
          "base_uri": "https://localhost:8080/"
        },
        "id": "1DSSG9yzCP2e",
        "outputId": "062518a9-7a44-47ba-9094-36ae6e5605cf"
      },
      "execution_count": 3,
      "outputs": [
        {
          "output_type": "stream",
          "name": "stdout",
          "text": [
            "Writing tai1.py\n"
          ]
        }
      ]
    },
    {
      "cell_type": "code",
      "source": [
        "print('Hello World')"
      ],
      "metadata": {
        "colab": {
          "base_uri": "https://localhost:8080/"
        },
        "id": "SbXY9FfQZ41z",
        "outputId": "ea325282-c04f-40be-a9ff-8c9f6509c192"
      },
      "execution_count": 1,
      "outputs": [
        {
          "output_type": "stream",
          "name": "stdout",
          "text": [
            "Hello World\n"
          ]
        }
      ]
    },
    {
      "cell_type": "code",
      "source": [
        "import tai1"
      ],
      "metadata": {
        "id": "9jowg6MECqBh"
      },
      "execution_count": 6,
      "outputs": []
    }
  ]
}