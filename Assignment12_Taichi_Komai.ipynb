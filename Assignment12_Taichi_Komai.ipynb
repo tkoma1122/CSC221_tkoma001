{
  "nbformat": 4,
  "nbformat_minor": 0,
  "metadata": {
    "colab": {
      "provenance": []
    },
    "kernelspec": {
      "name": "python3",
      "display_name": "Python 3"
    },
    "language_info": {
      "name": "python"
    }
  },
  "cells": [
    {
      "cell_type": "markdown",
      "source": [
        "1, Money Counter"
      ],
      "metadata": {
        "id": "mGSvgpfsPVDH"
      }
    },
    {
      "cell_type": "code",
      "execution_count": 6,
      "metadata": {
        "colab": {
          "base_uri": "https://localhost:8080/"
        },
        "id": "L7v5173oPCqG",
        "outputId": "6f716306-97dd-42fd-f502-35b2b2debdd5"
      },
      "outputs": [
        {
          "output_type": "stream",
          "name": "stdout",
          "text": [
            "Wallet 1:\n",
            "1.00\n",
            "5.00\n",
            "10.00\n",
            "0.01\n",
            "0.25\n",
            "0.10\n",
            "Total Money in Wallet 1: 16.36\n",
            "\n",
            "Wallet 2:\n",
            "5.00\n",
            "5.00\n",
            "20.00\n",
            "0.05\n",
            "0.10\n",
            "0.01\n",
            "0.25\n",
            "Total Money in Wallet 2: 30.41\n",
            "\n"
          ]
        }
      ],
      "source": [
        "class Money:\n",
        "    def __init__(self, value):\n",
        "        self.value = value\n",
        "\n",
        "class Bills(Money):\n",
        "    pass\n",
        "\n",
        "class Coins(Money):\n",
        "    pass\n",
        "\n",
        "class One(Bills):\n",
        "    def __init__(self):\n",
        "        Money.__init__(self, 1.0)\n",
        "\n",
        "class Five(Bills):\n",
        "    def __init__(self):\n",
        "        Money.__init__(self, 5.0)\n",
        "\n",
        "class Ten(Bills):\n",
        "    def __init__(self):\n",
        "        Money.__init__(self, 10.0)\n",
        "\n",
        "class Twenty(Bills):\n",
        "    def __init__(self):\n",
        "        Money.__init__(self, 20.0)\n",
        "\n",
        "class Penny(Coins):\n",
        "    def __init__(self):\n",
        "        Money.__init__(self, 0.01)\n",
        "\n",
        "class Nickel(Coins):\n",
        "    def __init__(self):\n",
        "        Money.__init__(self, 0.05)\n",
        "\n",
        "class Dime(Coins):\n",
        "    def __init__(self):\n",
        "        Money.__init__(self, 0.10)\n",
        "\n",
        "class Quarter(Coins):\n",
        "    def __init__(self):\n",
        "        Money.__init__(self, 0.25)\n",
        "\n",
        "# Create wallets with various bills and coins\n",
        "wallet1 = [One(), Five(), Ten(), Penny(), Quarter(), Dime()]\n",
        "wallet2 = [Five(), Five(), Twenty(), Nickel(), Dime(), Penny(), Quarter()]\n",
        "\n",
        "# Calculate the sum of all money in the wallets\n",
        "def calculate_total(wallet):\n",
        "    total = 0\n",
        "    for money in wallet:\n",
        "        total += money.value\n",
        "    return total\n",
        "\n",
        "# Print all bills and coins in the wallet and the sum of them\n",
        "def print_wallet(wallet, wallet_number):\n",
        "    print(f\"Wallet {wallet_number}:\")\n",
        "    for item in wallet:\n",
        "        print(f\"{item.value:.2f}\")\n",
        "    total_value = calculate_total(wallet)\n",
        "    print(f\"Total Money in Wallet {wallet_number}: {total_value:.2f}\\n\")\n",
        "\n",
        "print_wallet(wallet1, 1)\n",
        "print_wallet(wallet2, 2)\n"
      ]
    },
    {
      "cell_type": "code",
      "source": [
        "class Product:\n",
        "    def __init__(self, name, price):\n",
        "        self.name = name\n",
        "        self.price = price\n",
        "\n",
        "class Food(Product):\n",
        "    pass\n",
        "\n",
        "class Beverage(Product):\n",
        "    pass\n",
        "\n",
        "class Fruit(Food):\n",
        "    def __init__(self, name, price, weight):\n",
        "        super().__init__(name, price)\n",
        "        self.weight = weight\n",
        "\n",
        "class Meat(Food):\n",
        "    def __init__(self, name, price, weight):\n",
        "        super().__init__(name, price)\n",
        "        self.weight = weight\n",
        "\n",
        "class Soda(Beverage):\n",
        "    def __init__(self, name, price, volume):\n",
        "        super().__init__(name, price)\n",
        "        self.volume = volume\n",
        "\n",
        "class Coffee(Beverage):\n",
        "    def __init__(self, name, price, volume):\n",
        "        super().__init__(name, price)\n",
        "        self.volume = volume\n",
        "\n",
        "# Create a shopping cart with various food and beverage items\n",
        "cart = [Fruit(\"Apple\", 1.00, 0.2),\n",
        "        Meat(\"Chicken\", 5.00, 0.5),\n",
        "        Soda(\"Cola\", 1.50, 0.5),\n",
        "        Coffee(\"Latte\", 3.00, 0.3)]\n",
        "\n",
        "# Calculate the total cost of items in the shopping cart\n",
        "def calculate_total_cost(cart):\n",
        "    total_cost = sum(item.price for item in cart)\n",
        "    return total_cost\n",
        "\n",
        "# Print all products and the sum of them\n",
        "def print_shopping_cart(cart):\n",
        "    print(\"Shopping Cart:\")\n",
        "    for item in cart:\n",
        "        print(f\"{item.name}: ${item.price:.2f}\")\n",
        "    total_cost = calculate_total_cost(cart)\n",
        "    print(f\"Total Cost: ${total_cost:.2f}\")\n",
        "\n",
        "print_shopping_cart(cart)\n"
      ],
      "metadata": {
        "colab": {
          "base_uri": "https://localhost:8080/"
        },
        "id": "5lhWQQwbPgrB",
        "outputId": "8a4f9409-5bf1-4b30-e66e-8bf4467ddf8f"
      },
      "execution_count": 7,
      "outputs": [
        {
          "output_type": "stream",
          "name": "stdout",
          "text": [
            "Shopping Cart:\n",
            "Apple: $1.00\n",
            "Chicken: $5.00\n",
            "Cola: $1.50\n",
            "Latte: $3.00\n",
            "Total Cost: $10.50\n"
          ]
        }
      ]
    },
    {
      "cell_type": "code",
      "source": [],
      "metadata": {
        "id": "oKhD4xFPR4HD"
      },
      "execution_count": null,
      "outputs": []
    }
  ]
}