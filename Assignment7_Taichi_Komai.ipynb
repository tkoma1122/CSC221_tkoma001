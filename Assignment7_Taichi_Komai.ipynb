{
  "nbformat": 4,
  "nbformat_minor": 0,
  "metadata": {
    "colab": {
      "provenance": []
    },
    "kernelspec": {
      "name": "python3",
      "display_name": "Python 3"
    },
    "language_info": {
      "name": "python"
    }
  },
  "cells": [
    {
      "cell_type": "code",
      "execution_count": null,
      "metadata": {
        "colab": {
          "base_uri": "https://localhost:8080/"
        },
        "id": "NWTgpQU1AmTM",
        "outputId": "8bfea0a0-b911-48bf-85ea-a5ba8fd4dbda"
      },
      "outputs": [
        {
          "output_type": "stream",
          "name": "stdout",
          "text": [
            "green\n",
            "5\n"
          ]
        }
      ],
      "source": [
        "alien_0 = {'color': 'green', 'points': 5}\n",
        "\n",
        "print(alien_0['color'])\n",
        "print(alien_0['points'])"
      ]
    },
    {
      "cell_type": "code",
      "source": [
        "alien_0 = {'color': 'green'}\n",
        "print(alien_0['color'])"
      ],
      "metadata": {
        "colab": {
          "base_uri": "https://localhost:8080/"
        },
        "id": "xw1OaHGwBZ4k",
        "outputId": "d801312d-a23a-4071-da8b-477893d0a785"
      },
      "execution_count": null,
      "outputs": [
        {
          "output_type": "stream",
          "name": "stdout",
          "text": [
            "green\n"
          ]
        }
      ]
    },
    {
      "cell_type": "code",
      "source": [
        "alien_0 = {'color': 'green', 'points': 5}\n",
        "\n",
        "new_points = alien_0['points']\n",
        "print(f\"You just earned {new_points} points!\")"
      ],
      "metadata": {
        "colab": {
          "base_uri": "https://localhost:8080/"
        },
        "id": "qbYkglWSBvpv",
        "outputId": "f0d6fe38-13df-4ac5-84c0-3d69634b759e"
      },
      "execution_count": null,
      "outputs": [
        {
          "output_type": "stream",
          "name": "stdout",
          "text": [
            "You just earned 5 points!\n"
          ]
        }
      ]
    },
    {
      "cell_type": "code",
      "source": [
        "alien_0 = {'color': 'green', 'points': 5}\n",
        "print(alien_0)\n",
        "\n",
        "alien_0['x_position'] = 0\n",
        "alien_0['y_position'] = 25\n",
        "print(alien_0)"
      ],
      "metadata": {
        "colab": {
          "base_uri": "https://localhost:8080/"
        },
        "id": "XUaak-dOCCcU",
        "outputId": "e9631166-4468-4576-9fd3-6483745b0082"
      },
      "execution_count": null,
      "outputs": [
        {
          "output_type": "stream",
          "name": "stdout",
          "text": [
            "{'color': 'green', 'points': 5}\n",
            "{'color': 'green', 'points': 5, 'x_position': 0, 'y_position': 25}\n"
          ]
        }
      ]
    },
    {
      "cell_type": "code",
      "source": [
        "alien_0 = {}\n",
        "alien_0['color'] = 'green'\n",
        "alien_0['points'] = 5\n",
        "\n",
        "print(alien_0)"
      ],
      "metadata": {
        "colab": {
          "base_uri": "https://localhost:8080/"
        },
        "id": "oa-8QJCTCS4d",
        "outputId": "8f6357d9-7884-4a02-ef36-2dc4a04d392f"
      },
      "execution_count": null,
      "outputs": [
        {
          "output_type": "stream",
          "name": "stdout",
          "text": [
            "{'color': 'green', 'points': 5}\n"
          ]
        }
      ]
    },
    {
      "cell_type": "code",
      "source": [
        "alien_0 = {'color': 'green'}\n",
        "print(f\"The alien is {alien_0['color']}.\")\n",
        "alien_0['color'] = 'yellow'\n",
        "print(f\"The alien is now {alien_0['color']}.\")"
      ],
      "metadata": {
        "colab": {
          "base_uri": "https://localhost:8080/"
        },
        "id": "oI83kns-Cyxi",
        "outputId": "a931ca01-9793-4047-f449-4be00cad74db"
      },
      "execution_count": null,
      "outputs": [
        {
          "output_type": "stream",
          "name": "stdout",
          "text": [
            "The alien is green.\n",
            "The alien is now yellow.\n"
          ]
        }
      ]
    },
    {
      "cell_type": "code",
      "source": [
        "alien_0 = {'x_position': 0, 'y_posiotion': 25, 'speed': 'medium'}\n",
        "print(f\"Original position: {alien_0['x_position']}\")\n",
        "\n",
        "# Move the alien to the right.\n",
        "# Determine how far to move the alien based on its current speed.\n",
        "if alien_0['speed'] == 'slow':\n",
        "  x_increment = 1\n",
        "elif alien_0['speed'] == 'medium':\n",
        "  x_increment = 2\n",
        "else:\n",
        "  # This must be a fast alien.\n",
        "  x_increment == 3\n",
        "\n",
        "# The new position is the old position plus the increment.\n",
        "alien_0['x_position'] = alien_0['x_position'] + x_increment\n",
        "\n",
        "print(f\"New position: {alien_0['x_position']}\")"
      ],
      "metadata": {
        "colab": {
          "base_uri": "https://localhost:8080/"
        },
        "id": "GJ3qZsA_DCY3",
        "outputId": "060e9559-5e2e-4df4-8bdc-a76efc84ac59"
      },
      "execution_count": null,
      "outputs": [
        {
          "output_type": "stream",
          "name": "stdout",
          "text": [
            "Original position: 0\n",
            "New position: 2\n"
          ]
        }
      ]
    },
    {
      "cell_type": "code",
      "source": [
        "alien_0 = {'color': 'green', 'points': 5}\n",
        "print(alien_0)\n",
        "\n",
        "del alien_0['points']\n",
        "print(alien_0)"
      ],
      "metadata": {
        "colab": {
          "base_uri": "https://localhost:8080/"
        },
        "id": "wRmrlWjtEtiE",
        "outputId": "1c4e177f-f506-4c42-da80-8b93205a09c8"
      },
      "execution_count": null,
      "outputs": [
        {
          "output_type": "stream",
          "name": "stdout",
          "text": [
            "{'color': 'green', 'points': 5}\n",
            "{'color': 'green'}\n"
          ]
        }
      ]
    },
    {
      "cell_type": "code",
      "source": [
        "favorite_languages = {\n",
        "    'jen': 'python',\n",
        "    'sarah': 'c',\n",
        "    'edward': 'rust',\n",
        "    'phil': 'python'\n",
        "    }\n",
        "\n",
        "language = favorite_languages['sarah'].title()\n",
        "print(f\"Sarah's favorite language is {language}.\")"
      ],
      "metadata": {
        "colab": {
          "base_uri": "https://localhost:8080/"
        },
        "id": "y5JMcEIDHAfd",
        "outputId": "fd9bcf7a-39b6-4790-84e6-107ab01c4f9c"
      },
      "execution_count": null,
      "outputs": [
        {
          "output_type": "stream",
          "name": "stdout",
          "text": [
            "Sarah's favorite language is C.\n"
          ]
        }
      ]
    },
    {
      "cell_type": "code",
      "source": [
        "alien_0 = {'color': 'green', 'speed': 'slow'}\n",
        "#print(alien_0['points''])"
      ],
      "metadata": {
        "id": "AoOg7cJ0HpHK"
      },
      "execution_count": 2,
      "outputs": []
    },
    {
      "cell_type": "markdown",
      "source": [
        "To not show the errors, I put # before the print function."
      ],
      "metadata": {
        "id": "NVA-BrkfR04R"
      }
    },
    {
      "cell_type": "code",
      "source": [
        "alien_0 = {'color': 'green', 'speed': 'slow'}\n",
        "\n",
        "point_value = alien_0.get('points', 'no point value assigned.')\n",
        "print(point_value)"
      ],
      "metadata": {
        "colab": {
          "base_uri": "https://localhost:8080/"
        },
        "id": "0YJ0_zzuRto2",
        "outputId": "08530290-f37e-4ff3-e1b4-68352fd53077"
      },
      "execution_count": 3,
      "outputs": [
        {
          "output_type": "stream",
          "name": "stdout",
          "text": [
            "no point value assigned.\n"
          ]
        }
      ]
    },
    {
      "cell_type": "code",
      "source": [
        "user_0 = {\n",
        "    'username': 'efermi',\n",
        "    'first': 'enrico',\n",
        "    'last': 'fermi',\n",
        "}\n",
        "for key, value in user_0.items():\n",
        "  print(f\"\\nKey: {key}\")\n",
        "  print(f\"Value: {value}\")"
      ],
      "metadata": {
        "colab": {
          "base_uri": "https://localhost:8080/"
        },
        "id": "yKXvkM5y_xJF",
        "outputId": "5f2e950b-f551-4b07-90d7-c9dc9855eec5"
      },
      "execution_count": 4,
      "outputs": [
        {
          "output_type": "stream",
          "name": "stdout",
          "text": [
            "\n",
            "Key: username\n",
            "Value: efermi\n",
            "\n",
            "Key: first\n",
            "Value: enrico\n",
            "\n",
            "Key: last\n",
            "Value: fermi\n"
          ]
        }
      ]
    },
    {
      "cell_type": "code",
      "source": [
        "user_0 = {\n",
        "    'username': 'efermi',\n",
        "    'first': 'enrico',\n",
        "    'last': 'fermi',\n",
        "}\n",
        "for k, value in user_0.items():\n",
        "  print(f\"\\nKey: {key}\")\n",
        "  print(f\"Value: {value}\")"
      ],
      "metadata": {
        "colab": {
          "base_uri": "https://localhost:8080/"
        },
        "id": "o_VSmiOIAW4z",
        "outputId": "abc138d3-6d3b-4cb0-9fd4-924c63594c34"
      },
      "execution_count": 5,
      "outputs": [
        {
          "output_type": "stream",
          "name": "stdout",
          "text": [
            "\n",
            "Key: last\n",
            "Value: efermi\n",
            "\n",
            "Key: last\n",
            "Value: enrico\n",
            "\n",
            "Key: last\n",
            "Value: fermi\n"
          ]
        }
      ]
    },
    {
      "cell_type": "code",
      "source": [
        "favorite_languages = {\n",
        "    'jen': 'python',\n",
        "    'sarah': 'c',\n",
        "    'edward': 'rust',\n",
        "    'phil': 'python'\n",
        "    }\n",
        "\n",
        "for name, language in favorite_languages.items():\n",
        "  print(f\"{name.title()}'s favorite language is {language.title()}.\")"
      ],
      "metadata": {
        "colab": {
          "base_uri": "https://localhost:8080/"
        },
        "id": "2gPulcZmAgq5",
        "outputId": "a5c16c45-e600-47cf-b130-2f54a126d4f3"
      },
      "execution_count": 6,
      "outputs": [
        {
          "output_type": "stream",
          "name": "stdout",
          "text": [
            "Jen's favorite language is Python.\n",
            "Sarah's favorite language is C.\n",
            "Edward's favorite language is Rust.\n",
            "Phil's favorite language is Python.\n"
          ]
        }
      ]
    },
    {
      "cell_type": "code",
      "source": [
        "favorite_languages = {\n",
        "    'jen': 'python',\n",
        "    'sarah': 'c',\n",
        "    'edward': 'rust',\n",
        "    'phil': 'python'\n",
        "    }\n",
        "\n",
        "for name in favorite_languages.keys():\n",
        "  print(name.title())"
      ],
      "metadata": {
        "colab": {
          "base_uri": "https://localhost:8080/"
        },
        "id": "7BBYbSbrA609",
        "outputId": "2199a70b-298d-42ef-8d07-32bb2631522d"
      },
      "execution_count": 7,
      "outputs": [
        {
          "output_type": "stream",
          "name": "stdout",
          "text": [
            "Jen\n",
            "Sarah\n",
            "Edward\n",
            "Phil\n"
          ]
        }
      ]
    },
    {
      "cell_type": "code",
      "source": [
        "favorite_languages = {\n",
        "    'jen': 'python',\n",
        "    'sarah': 'c',\n",
        "    'edward': 'rust',\n",
        "    'phil': 'python'\n",
        "    }\n",
        "\n",
        "friends = ['phil', 'sarah']\n",
        "for name in favorite_languages.keys():\n",
        "  print(f\"Hi {name.title()}\")\n",
        "\n",
        "  if name in friends:\n",
        "    language = favorite_languages[name].title()\n",
        "    print(f\"\\t{name.title()}, I see you love {language}.\")"
      ],
      "metadata": {
        "colab": {
          "base_uri": "https://localhost:8080/"
        },
        "id": "Giu00FsQBIzC",
        "outputId": "8e9d9353-a203-4ba0-9d9b-497f87e3ac40"
      },
      "execution_count": 10,
      "outputs": [
        {
          "output_type": "stream",
          "name": "stdout",
          "text": [
            "Hi Jen\n",
            "Hi Sarah\n",
            "\tSarah, I see you love C.\n",
            "Hi Edward\n",
            "Hi Phil\n",
            "\tPhil, I see you love Python.\n"
          ]
        }
      ]
    },
    {
      "cell_type": "code",
      "source": [
        "favorite_languages = {\n",
        "    'jen': 'python',\n",
        "    'sarah': 'c',\n",
        "    'edward': 'rust',\n",
        "    'phil': 'python'\n",
        "    }\n",
        "\n",
        "if 'erin' not in favorite_languages.keys():\n",
        "  print(\"Erin, please take our poll!\")"
      ],
      "metadata": {
        "colab": {
          "base_uri": "https://localhost:8080/"
        },
        "id": "7uZdA8odBwu-",
        "outputId": "3322ba5e-6496-4707-920e-4abb96896490"
      },
      "execution_count": 11,
      "outputs": [
        {
          "output_type": "stream",
          "name": "stdout",
          "text": [
            "Erin, please take our poll!\n"
          ]
        }
      ]
    },
    {
      "cell_type": "code",
      "source": [
        "favorite_languages = {\n",
        "    'jen': 'python',\n",
        "    'sarah': 'c',\n",
        "    'edward': 'rust',\n",
        "    'phil': 'python'\n",
        "    }\n",
        "\n",
        "for name in sorted(favorite_languages.keys()):\n",
        "  print(f\"{name.title()}, thank you for takingthe poll.\")"
      ],
      "metadata": {
        "colab": {
          "base_uri": "https://localhost:8080/"
        },
        "id": "UtRNqpPwCMvX",
        "outputId": "2361cbb9-f8e3-4908-cb13-53f6d5d71e48"
      },
      "execution_count": 12,
      "outputs": [
        {
          "output_type": "stream",
          "name": "stdout",
          "text": [
            "Edward, thank you for takingthe poll.\n",
            "Jen, thank you for takingthe poll.\n",
            "Phil, thank you for takingthe poll.\n",
            "Sarah, thank you for takingthe poll.\n"
          ]
        }
      ]
    },
    {
      "cell_type": "code",
      "source": [
        "favorite_languages = {\n",
        "    'jen': 'python',\n",
        "    'sarah': 'c',\n",
        "    'edward': 'rust',\n",
        "    'phil': 'python'\n",
        "    }\n",
        "\n",
        "print(\"The following languages have been mentioned:\")\n",
        "for language in favorite_languages.values():\n",
        "  print(language.title())"
      ],
      "metadata": {
        "colab": {
          "base_uri": "https://localhost:8080/"
        },
        "id": "gYwO4C5eCcmN",
        "outputId": "89c54558-052f-4d7b-8f63-46c4eaf058a5"
      },
      "execution_count": 14,
      "outputs": [
        {
          "output_type": "stream",
          "name": "stdout",
          "text": [
            "The following languages have been mentioned:\n",
            "Python\n",
            "C\n",
            "Rust\n",
            "Python\n"
          ]
        }
      ]
    },
    {
      "cell_type": "code",
      "source": [
        "favorite_languages = {\n",
        "    'jen': 'python',\n",
        "    'sarah': 'c',\n",
        "    'edward': 'rust',\n",
        "    'phil': 'python'\n",
        "    }\n",
        "\n",
        "print(\"The following languages have been mentioned:\")\n",
        "for language in set(favorite_languages.values()):\n",
        "  print(language.title())"
      ],
      "metadata": {
        "colab": {
          "base_uri": "https://localhost:8080/"
        },
        "id": "mh-MpsA-CvwN",
        "outputId": "d5a363d6-5877-49a0-c6cf-6da950bddd75"
      },
      "execution_count": 15,
      "outputs": [
        {
          "output_type": "stream",
          "name": "stdout",
          "text": [
            "The following languages have been mentioned:\n",
            "C\n",
            "Python\n",
            "Rust\n"
          ]
        }
      ]
    },
    {
      "cell_type": "code",
      "source": [
        "alien_0 = {'color': 'green', 'points': 5}\n",
        "alien_1 = {'color': 'yellow', 'points': 10}\n",
        "alien_2 = {'color': 'red', 'points': 15}\n",
        "\n",
        "aliens = [alien_0, alien_1, alien_2]\n",
        "\n",
        "for alien in aliens:\n",
        "  print(alien)"
      ],
      "metadata": {
        "colab": {
          "base_uri": "https://localhost:8080/"
        },
        "id": "VuPVSqQeDAbd",
        "outputId": "90244385-78f3-4ec7-e11c-eb89740ce6dc"
      },
      "execution_count": 16,
      "outputs": [
        {
          "output_type": "stream",
          "name": "stdout",
          "text": [
            "{'color': 'green', 'points': 5}\n",
            "{'color': 'yellow', 'points': 10}\n",
            "{'color': 'red', 'points': 15}\n"
          ]
        }
      ]
    },
    {
      "cell_type": "code",
      "source": [
        "# Make an entry list for storing aliens.\n",
        "aliens = []\n",
        "\n",
        "# Make 30 green aliens.\n",
        "for alien_number in range(30):\n",
        "  new_alien = {'color': 'green', 'points': 5, 'speed': 'slow'}\n",
        "  aliens.append(new_alien)\n",
        "\n",
        "# Show the first 5 aliens.\n",
        "for alien in aliens[:5]:\n",
        "  print(alien)\n",
        "print(\"...\")\n",
        "\n",
        "# Show how many aliens have been created.\n",
        "print(f\"Total number of aliens: {len(aliens)}\")"
      ],
      "metadata": {
        "colab": {
          "base_uri": "https://localhost:8080/"
        },
        "id": "zoYLhUamDrJ_",
        "outputId": "bbd49006-05c5-47d8-c213-ca8bae40172a"
      },
      "execution_count": 18,
      "outputs": [
        {
          "output_type": "stream",
          "name": "stdout",
          "text": [
            "{'color': 'green', 'points': 5, 'speed': 'slow'}\n",
            "{'color': 'green', 'points': 5, 'speed': 'slow'}\n",
            "{'color': 'green', 'points': 5, 'speed': 'slow'}\n",
            "{'color': 'green', 'points': 5, 'speed': 'slow'}\n",
            "{'color': 'green', 'points': 5, 'speed': 'slow'}\n",
            "...\n",
            "Total number of aliens: 30\n"
          ]
        }
      ]
    },
    {
      "cell_type": "code",
      "source": [
        "# Make an entry list for storing aliens.\n",
        "aliens = []\n",
        "\n",
        "# Make 30 green aliens.\n",
        "for alien_number in range(30):\n",
        "  new_alien = {'color': 'green', 'points': 5, 'speed': 'slow'}\n",
        "  aliens.append(new_alien)\n",
        "\n",
        "for alien in aliens[:3]:\n",
        "  if alien['color'] == 'green':\n",
        "    alien['color'] == 'yellow'\n",
        "    alien['speed'] == 'medium'\n",
        "    alien['points'] == 10\n",
        "\n",
        "# Show the first 5 aliens.\n",
        "for alien in aliens[:5]:\n",
        "  print(alien)\n",
        "print(\"...\")"
      ],
      "metadata": {
        "colab": {
          "base_uri": "https://localhost:8080/"
        },
        "id": "YKSbWYJiEtpp",
        "outputId": "70f49650-e4b1-4041-f943-504372c47a8a"
      },
      "execution_count": 19,
      "outputs": [
        {
          "output_type": "stream",
          "name": "stdout",
          "text": [
            "{'color': 'green', 'points': 5, 'speed': 'slow'}\n",
            "{'color': 'green', 'points': 5, 'speed': 'slow'}\n",
            "{'color': 'green', 'points': 5, 'speed': 'slow'}\n",
            "{'color': 'green', 'points': 5, 'speed': 'slow'}\n",
            "{'color': 'green', 'points': 5, 'speed': 'slow'}\n",
            "...\n"
          ]
        }
      ]
    },
    {
      "cell_type": "code",
      "source": [
        "# Make an entry list for storing aliens.\n",
        "aliens = []\n",
        "\n",
        "# Make 30 green aliens.\n",
        "for alien_number in range(30):\n",
        "  new_alien = {'color': 'green', 'points': 5, 'speed': 'slow'}\n",
        "  aliens.append(new_alien)\n",
        "\n",
        "for alien in aliens[:3]:\n",
        "  if alien['color'] == 'green':\n",
        "    alien['color'] == 'yellow'\n",
        "    alien['speed'] == 'medium'\n",
        "    alien['points'] == 10\n",
        "  elif alien['color'] == 'yellow':\n",
        "    alien['color'] = 'red'\n",
        "    alien['speed'] = 'fast'\n",
        "    alien['points'] = 15\n",
        "\n",
        "# Show the first 5 aliens.\n",
        "for alien in aliens[:5]:\n",
        "  print(alien)\n",
        "print(\"...\")"
      ],
      "metadata": {
        "colab": {
          "base_uri": "https://localhost:8080/"
        },
        "id": "ye3OjFjdFfCH",
        "outputId": "d4d17629-3a1f-4bc6-8b35-be182e64af65"
      },
      "execution_count": 21,
      "outputs": [
        {
          "output_type": "stream",
          "name": "stdout",
          "text": [
            "{'color': 'green', 'points': 5, 'speed': 'slow'}\n",
            "{'color': 'green', 'points': 5, 'speed': 'slow'}\n",
            "{'color': 'green', 'points': 5, 'speed': 'slow'}\n",
            "{'color': 'green', 'points': 5, 'speed': 'slow'}\n",
            "{'color': 'green', 'points': 5, 'speed': 'slow'}\n",
            "...\n"
          ]
        }
      ]
    },
    {
      "cell_type": "code",
      "source": [
        "# Store information about a pizza being ordered.\n",
        "pizza = {\n",
        "    'crust': 'thick',\n",
        "    'toppings': ['mushrooms', 'extra cheese'],\n",
        "}\n",
        "\n",
        "# Summarize the order.\n",
        "print(f\"You ordered a {pizza['crust']}-crust pizza \"\n",
        "    \"with the following toppings:\")\n",
        "\n",
        "for topping in pizza['toppings']:\n",
        "  print(f\"\\t{topping}\")"
      ],
      "metadata": {
        "colab": {
          "base_uri": "https://localhost:8080/"
        },
        "id": "pD_wl8VGF3EI",
        "outputId": "27e353ee-1bbb-40bb-9ef6-eef87d646f63"
      },
      "execution_count": 23,
      "outputs": [
        {
          "output_type": "stream",
          "name": "stdout",
          "text": [
            "You ordered a thick-crust pizza with the following toppings:\n",
            "\tmushrooms\n",
            "\textra cheese\n"
          ]
        }
      ]
    },
    {
      "cell_type": "code",
      "source": [
        "favorite_languages = {\n",
        "    'jen': ['python', 'rust'],\n",
        "    'sarah': ['c'],\n",
        "    'edward': ['rust', 'go'],\n",
        "    'phil': ['python', 'heskell']\n",
        "}\n",
        "\n",
        "for name, languages in favorite_languages.items():\n",
        "  print(f\"\\n{name.title()}'s favorite languages are:\")\n",
        "  for language in languages:\n",
        "    print(f\"\\t{language.title()}\")"
      ],
      "metadata": {
        "colab": {
          "base_uri": "https://localhost:8080/"
        },
        "id": "zpGp4JO6HBAk",
        "outputId": "170e6ede-10c8-4b8b-f3ee-236a5e4beb7e"
      },
      "execution_count": 24,
      "outputs": [
        {
          "output_type": "stream",
          "name": "stdout",
          "text": [
            "\n",
            "Jen's favorite languages are:\n",
            "\tPython\n",
            "\tRust\n",
            "\n",
            "Sarah's favorite languages are:\n",
            "\tC\n",
            "\n",
            "Edward's favorite languages are:\n",
            "\tRust\n",
            "\tGo\n",
            "\n",
            "Phil's favorite languages are:\n",
            "\tPython\n",
            "\tHeskell\n"
          ]
        }
      ]
    },
    {
      "cell_type": "code",
      "source": [
        "users = {\n",
        "    'aeinstein': {\n",
        "        'first': 'albert',\n",
        "        'last': 'aeinstein',\n",
        "        'location': 'princeton',\n",
        "    },\n",
        "    'mcurie': {\n",
        "        'first': 'marie',\n",
        "        'last': 'curie',\n",
        "        'location': 'paris',\n",
        "    },\n",
        "}\n",
        "\n",
        "for username, user_info in users.items():\n",
        "  print(f\"\\nUsername: {username}\")\n",
        "  full_name = f\"{user_info['first']} {user_info['last']}\"\n",
        "  location = user_info['location']\n",
        "\n",
        "  print(f\"\\tFull name: {full_name.title()}\")\n",
        "  print(f\"\\tLocation: {location.title()}\")"
      ],
      "metadata": {
        "colab": {
          "base_uri": "https://localhost:8080/"
        },
        "id": "_xpKbM8CHyOY",
        "outputId": "941f13a1-0d9d-41ec-bad4-6546fcf701d1"
      },
      "execution_count": 26,
      "outputs": [
        {
          "output_type": "stream",
          "name": "stdout",
          "text": [
            "\n",
            "Username: aeinstein\n",
            "\tFull name: Albert Aeinstein\n",
            "\tLocation: Princeton\n",
            "\n",
            "Username: mcurie\n",
            "\tFull name: Marie Curie\n",
            "\tLocation: Paris\n"
          ]
        }
      ]
    },
    {
      "cell_type": "markdown",
      "source": [
        "Try it yourself 6-1, 6-2, 6-3, 6-4 and 6-11"
      ],
      "metadata": {
        "id": "vU1Pa0IFJ3cs"
      }
    },
    {
      "cell_type": "code",
      "source": [
        "person_info = {\n",
        "    'first_name': 'Andrew',\n",
        "    'last_name': 'Garfield',\n",
        "    'age': 40,\n",
        "    'city': 'Los Angels',\n",
        "}\n",
        "\n",
        "print(\"First Name:\", person_info[\"first_name\"])\n",
        "print(\"Last Name:\", person_info[\"last_name\"])\n",
        "print(\"Age:\", person_info[\"age\"])\n",
        "print(\"City:\", person_info[\"city\"])"
      ],
      "metadata": {
        "colab": {
          "base_uri": "https://localhost:8080/"
        },
        "id": "vLuaykSaJINu",
        "outputId": "339bfa07-537d-4631-c3c6-9bf021cceff5"
      },
      "execution_count": 28,
      "outputs": [
        {
          "output_type": "stream",
          "name": "stdout",
          "text": [
            "First Name: Andrew\n",
            "Last Name: Garfield\n",
            "Age: 40\n",
            "City: Los Angels\n"
          ]
        }
      ]
    },
    {
      "cell_type": "code",
      "source": [
        "favorite_numbers = {\n",
        "    'Andrew': 7,\n",
        "    'Wendy': 12,\n",
        "    'Lia': 3,\n",
        "    'Yuna': 8,\n",
        "    'Eve': 5\n",
        "}\n",
        "\n",
        "for name, number in favorite_numbers.items():\n",
        "    print(f\"{name}'s favorite number is {number}.\")\n",
        "\n",
        "favorite_numbers['Felix'] = 9\n",
        "favorite_numbers['Lindy'] = 15\n",
        "\n",
        "print(\"\\nUpdated Favorite Numbers:\")\n",
        "for name, number in favorite_numbers.items():\n",
        "    print(f\"{name}'s favorite number is {number}.\")"
      ],
      "metadata": {
        "colab": {
          "base_uri": "https://localhost:8080/"
        },
        "id": "JYtLwj61MC2n",
        "outputId": "a71488b9-e90d-4668-d0d3-7f85a6f5ead1"
      },
      "execution_count": 30,
      "outputs": [
        {
          "output_type": "stream",
          "name": "stdout",
          "text": [
            "Andrew's favorite number is 7.\n",
            "Wendy's favorite number is 12.\n",
            "Lia's favorite number is 3.\n",
            "Yuna's favorite number is 8.\n",
            "Eve's favorite number is 5.\n",
            "\n",
            "Updated Favorite Numbers:\n",
            "Andrew's favorite number is 7.\n",
            "Wendy's favorite number is 12.\n",
            "Lia's favorite number is 3.\n",
            "Yuna's favorite number is 8.\n",
            "Eve's favorite number is 5.\n",
            "Felix's favorite number is 9.\n",
            "Lindy's favorite number is 15.\n"
          ]
        }
      ]
    },
    {
      "cell_type": "code",
      "source": [
        "programming_glossary = {\n",
        "    \"variable\": \"A named storage location in memory used to store data.\",\n",
        "    \"function\": \"A reusable block of code that performs a specific task or set of tasks.\",\n",
        "    \"loop\": \"A control structure that repeats a set of instructions until a specific condition is met.\",\n",
        "    \"list\": \"An ordered collection of elements that can hold different data types.\",\n",
        "    \"conditional statement\": \"A control structure that allows you to make decisions in your code.\"\n",
        "}\n",
        "\n",
        "for word, meaning in programming_glossary.items():\n",
        "    print(f\"{word}: {meaning}\\n\")"
      ],
      "metadata": {
        "colab": {
          "base_uri": "https://localhost:8080/"
        },
        "id": "Mrl4GYgaM1_m",
        "outputId": "737c33b5-0f9d-4384-adce-5a6257a660ec"
      },
      "execution_count": 31,
      "outputs": [
        {
          "output_type": "stream",
          "name": "stdout",
          "text": [
            "variable: A named storage location in memory used to store data.\n",
            "\n",
            "function: A reusable block of code that performs a specific task or set of tasks.\n",
            "\n",
            "loop: A control structure that repeats a set of instructions until a specific condition is met.\n",
            "\n",
            "list: An ordered collection of elements that can hold different data types.\n",
            "\n",
            "conditional statement: A control structure that allows you to make decisions in your code.\n",
            "\n"
          ]
        }
      ]
    },
    {
      "cell_type": "code",
      "source": [
        "programming_glossary = {\n",
        "    \"variable\": \"A named storage location in memory used to store data.\",\n",
        "    \"function\": \"A reusable block of code that performs a specific task or set of tasks.\",\n",
        "    \"loop\": \"A control structure that repeats a set of instructions until a specific condition is met.\",\n",
        "    \"list\": \"An ordered collection of elements that can hold different data types.\",\n",
        "    \"conditional statement\": \"A control structure that allows you to make decisions in your code.\",\n",
        "    \"dictionary\": \"A data structure that stores key-value pairs.\",\n",
        "    \"module\": \"A file containing Python code that can be imported and reused in other programs.\",\n",
        "    \"string\": \"A sequence of characters, such as text, enclosed in quotes.\",\n",
        "    \"parameter\": \"A variable used in a function to accept arguments passed to the function.\",\n",
        "    \"argument\": \"A value passed to a function when calling it.\"\n",
        "}\n",
        "\n",
        "for word, meaning in programming_glossary.items():\n",
        "    print(f\"{word}: {meaning}\\n\")"
      ],
      "metadata": {
        "colab": {
          "base_uri": "https://localhost:8080/"
        },
        "id": "OSzFQYgaN6hb",
        "outputId": "200fbad1-0a0c-4a30-d65a-0dd93e35c8d3"
      },
      "execution_count": 32,
      "outputs": [
        {
          "output_type": "stream",
          "name": "stdout",
          "text": [
            "variable: A named storage location in memory used to store data.\n",
            "\n",
            "function: A reusable block of code that performs a specific task or set of tasks.\n",
            "\n",
            "loop: A control structure that repeats a set of instructions until a specific condition is met.\n",
            "\n",
            "list: An ordered collection of elements that can hold different data types.\n",
            "\n",
            "conditional statement: A control structure that allows you to make decisions in your code.\n",
            "\n",
            "dictionary: A data structure that stores key-value pairs.\n",
            "\n",
            "module: A file containing Python code that can be imported and reused in other programs.\n",
            "\n",
            "string: A sequence of characters, such as text, enclosed in quotes.\n",
            "\n",
            "parameter: A variable used in a function to accept arguments passed to the function.\n",
            "\n",
            "argument: A value passed to a function when calling it.\n",
            "\n"
          ]
        }
      ]
    },
    {
      "cell_type": "code",
      "source": [
        "cities = {\n",
        "    'new_york': {\n",
        "        'country': 'United States',\n",
        "        'population': 8398748,\n",
        "        'fact': 'New York City is known as \"The Big Apple.\"'\n",
        "    },\n",
        "    'london': {\n",
        "        'country': 'United Kingdom',\n",
        "        'population': 8787892,\n",
        "        'fact': 'The Tower of London is home to the Crown Jewels of the British monarchy.'\n",
        "    },\n",
        "    'paris': {\n",
        "        'country': 'France',\n",
        "        'population': 2140526,\n",
        "        'fact': 'The Eiffel Tower was completed in 1889 as the entrance arch for the 1889 World\\'s Fair.'\n",
        "    }\n",
        "}\n",
        "\n",
        "for city, info in cities.items():\n",
        "    print(f\"City: {city.title()}\")\n",
        "    print(f\"Country: {info['country']}\")\n",
        "    print(f\"Population: {info['population']}\")\n",
        "    print(f\"Interesting Fact: {info['fact']}\")\n",
        "    print()"
      ],
      "metadata": {
        "colab": {
          "base_uri": "https://localhost:8080/"
        },
        "id": "8FiXfjq8OUQT",
        "outputId": "6bc48328-a91b-45cc-8651-87caf09747d2"
      },
      "execution_count": 33,
      "outputs": [
        {
          "output_type": "stream",
          "name": "stdout",
          "text": [
            "City: New_York\n",
            "Country: United States\n",
            "Population: 8398748\n",
            "Interesting Fact: New York City is known as \"The Big Apple.\"\n",
            "\n",
            "City: London\n",
            "Country: United Kingdom\n",
            "Population: 8787892\n",
            "Interesting Fact: The Tower of London is home to the Crown Jewels of the British monarchy.\n",
            "\n",
            "City: Paris\n",
            "Country: France\n",
            "Population: 2140526\n",
            "Interesting Fact: The Eiffel Tower was completed in 1889 as the entrance arch for the 1889 World's Fair.\n",
            "\n"
          ]
        }
      ]
    },
    {
      "cell_type": "code",
      "source": [
        "favorite_numbers = {\n",
        "    'Andrew': 7,\n",
        "    'Lia': 12,\n",
        "    'Ariana': 3,\n",
        "    'Hitoshi': 9,\n",
        "    'Wendy': 6,\n",
        "}\n",
        "\n",
        "def add_favorite_number():\n",
        "    name = input(\"Enter the person's name: \").lower()\n",
        "    number = int(input(\"Enter their favorite number: \"))\n",
        "    favorite_numbers[name] = number\n",
        "\n",
        "while True:\n",
        "    print(\"\\n--- Favorite Numbers ---\")\n",
        "    print(\"1. Show all favorite numbers\")\n",
        "    print(\"2. Add a new favorite number\")\n",
        "    print(\"3. Quit\")\n",
        "\n",
        "    choice = input(\"Enter your choice (1/2/3): \")\n",
        "\n",
        "    if choice == '1':\n",
        "        print(\"\\nFavorite Numbers:\")\n",
        "        for name, number in favorite_numbers.items():\n",
        "            print(f\"{name.title()}: {number}\")\n",
        "    elif choice == '2':\n",
        "        add_favorite_number()\n",
        "        print(\"Favorite number added!\")\n",
        "    elif choice == '3':\n",
        "        break\n",
        "    else:\n",
        "        print(\"Invalid choice. Please select 1, 2, or 3.\")"
      ],
      "metadata": {
        "colab": {
          "base_uri": "https://localhost:8080/"
        },
        "id": "lQ05a3WjPCWS",
        "outputId": "4323c1f7-119c-4f49-f0e9-0d278789785f"
      },
      "execution_count": 35,
      "outputs": [
        {
          "name": "stdout",
          "output_type": "stream",
          "text": [
            "\n",
            "--- Favorite Numbers ---\n",
            "1. Show all favorite numbers\n",
            "2. Add a new favorite number\n",
            "3. Quit\n",
            "Enter your choice (1/2/3): 1\n",
            "\n",
            "Favorite Numbers:\n",
            "Andrew: 7\n",
            "Lia: 12\n",
            "Ariana: 3\n",
            "Hitoshi: 9\n",
            "Wendy: 6\n",
            "\n",
            "--- Favorite Numbers ---\n",
            "1. Show all favorite numbers\n",
            "2. Add a new favorite number\n",
            "3. Quit\n",
            "Enter your choice (1/2/3): 2\n",
            "Enter the person's name: Keisuke\n",
            "Enter their favorite number: 94\n",
            "Favorite number added!\n",
            "\n",
            "--- Favorite Numbers ---\n",
            "1. Show all favorite numbers\n",
            "2. Add a new favorite number\n",
            "3. Quit\n",
            "Enter your choice (1/2/3): 1\n",
            "\n",
            "Favorite Numbers:\n",
            "Andrew: 7\n",
            "Lia: 12\n",
            "Ariana: 3\n",
            "Hitoshi: 9\n",
            "Wendy: 6\n",
            "Keisuke: 94\n",
            "\n",
            "--- Favorite Numbers ---\n",
            "1. Show all favorite numbers\n",
            "2. Add a new favorite number\n",
            "3. Quit\n",
            "Enter your choice (1/2/3): 3\n"
          ]
        }
      ]
    }
  ]
}