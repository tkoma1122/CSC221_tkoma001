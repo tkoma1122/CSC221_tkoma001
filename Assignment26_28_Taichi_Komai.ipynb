{
  "nbformat": 4,
  "nbformat_minor": 0,
  "metadata": {
    "colab": {
      "provenance": [],
      "authorship_tag": "ABX9TyM6ZnuHU/S06uY2l112x4AH",
      "include_colab_link": true
    },
    "kernelspec": {
      "name": "python3",
      "display_name": "Python 3"
    },
    "language_info": {
      "name": "python"
    }
  },
  "cells": [
    {
      "cell_type": "markdown",
      "metadata": {
        "id": "view-in-github",
        "colab_type": "text"
      },
      "source": [
        "<a href=\"https://colab.research.google.com/github/tkoma1122/CSC221_tkoma001/blob/main/Assignment26_28_Taichi_Komai.ipynb\" target=\"_parent\"><img src=\"https://colab.research.google.com/assets/colab-badge.svg\" alt=\"Open In Colab\"/></a>"
      ]
    },
    {
      "cell_type": "markdown",
      "source": [
        "###Cell 1: Demonstrate int, float, and string"
      ],
      "metadata": {
        "id": "bvqSzgF8J7iN"
      }
    },
    {
      "cell_type": "code",
      "execution_count": 1,
      "metadata": {
        "id": "wL9CMF-hJjAM"
      },
      "outputs": [],
      "source": [
        "# Int, float, and string demonstration\n",
        "integer_variable = 5\n",
        "float_variable = 3.14\n",
        "string_variable = \"Hello, world!\"\n"
      ]
    },
    {
      "cell_type": "markdown",
      "source": [
        "###Cell 2: Show how an f-string works (f'Something like this with {something} in it.')"
      ],
      "metadata": {
        "id": "PPQ9hRC0KGFR"
      }
    },
    {
      "cell_type": "code",
      "source": [
        "# F-string example\n",
        "something = \"example\"\n",
        "formatted_string = f'Something like this with {something} in it.'\n",
        "print(formatted_string)"
      ],
      "metadata": {
        "colab": {
          "base_uri": "https://localhost:8080/"
        },
        "id": "juNK-74bKD6o",
        "outputId": "819049a2-32a6-4edd-dc14-26dbef3f967d"
      },
      "execution_count": 8,
      "outputs": [
        {
          "output_type": "stream",
          "name": "stdout",
          "text": [
            "Something like this with example in it.\n"
          ]
        }
      ]
    },
    {
      "cell_type": "markdown",
      "source": [
        "###Cell 3: Demonstrate some methods of the string class"
      ],
      "metadata": {
        "id": "S_tDPE7FKN9E"
      }
    },
    {
      "cell_type": "code",
      "source": [
        "# String methods demonstration\n",
        "sample_string = \"Hello, World!\"\n",
        "# Example methods:\n",
        "uppercase_string = sample_string.upper()\n",
        "lowercase_string = sample_string.lower()\n"
      ],
      "metadata": {
        "id": "LzERRK0UKRVG"
      },
      "execution_count": 3,
      "outputs": []
    },
    {
      "cell_type": "markdown",
      "source": [
        "###Cell 4: Do something with a list"
      ],
      "metadata": {
        "id": "ywU0sLwMKT_d"
      }
    },
    {
      "cell_type": "code",
      "source": [
        "# Working with a list\n",
        "my_list = [1, 2, 3, 4, 5]\n",
        "# Example: Append an element to the list\n",
        "my_list.append(6)\n"
      ],
      "metadata": {
        "id": "qCZNzO6MKTSD"
      },
      "execution_count": 4,
      "outputs": []
    },
    {
      "cell_type": "markdown",
      "source": [
        "###Cell 5: Do something with a list of lists"
      ],
      "metadata": {
        "id": "5dS3FU79KaNV"
      }
    },
    {
      "cell_type": "code",
      "source": [
        "# List of lists example\n",
        "list_of_lists = [[1, 2, 3], [4, 5, 6], [7, 8, 9]]\n"
      ],
      "metadata": {
        "id": "pKGzA4wwKZh8"
      },
      "execution_count": 5,
      "outputs": []
    },
    {
      "cell_type": "markdown",
      "source": [
        "###Cell 6: Show how to print a list in sorted order without changing it."
      ],
      "metadata": {
        "id": "jQV3dLSxKgCg"
      }
    },
    {
      "cell_type": "code",
      "source": [
        "# Sorting a list without changing it\n",
        "sorted_list = sorted(my_list)\n",
        "print(sorted_list)"
      ],
      "metadata": {
        "colab": {
          "base_uri": "https://localhost:8080/"
        },
        "id": "Br-dPaQiKfhw",
        "outputId": "719573bc-5486-4af8-8a04-af9005acdd2d"
      },
      "execution_count": 7,
      "outputs": [
        {
          "output_type": "stream",
          "name": "stdout",
          "text": [
            "[1, 2, 3, 4, 5, 6]\n"
          ]
        }
      ]
    },
    {
      "cell_type": "markdown",
      "source": [
        "###Cell 7: Printing a series of numbers using for and range"
      ],
      "metadata": {
        "id": "wx7atYgtKmYh"
      }
    },
    {
      "cell_type": "code",
      "source": [
        "# Printing a series of numbers using for and range\n",
        "for num in range(1, 11):\n",
        "    print(num)\n"
      ],
      "metadata": {
        "colab": {
          "base_uri": "https://localhost:8080/"
        },
        "id": "6tPrvKEnKlye",
        "outputId": "4c664704-a01f-4829-eb28-ee3da802c822"
      },
      "execution_count": 9,
      "outputs": [
        {
          "output_type": "stream",
          "name": "stdout",
          "text": [
            "1\n",
            "2\n",
            "3\n",
            "4\n",
            "5\n",
            "6\n",
            "7\n",
            "8\n",
            "9\n",
            "10\n"
          ]
        }
      ]
    },
    {
      "cell_type": "markdown",
      "source": [
        "###Cell 8: Printing a series of squares of all numbers from 1 to 1000 that are not multiples of 7 using list comprehension."
      ],
      "metadata": {
        "id": "zCxoP3JCK9dL"
      }
    },
    {
      "cell_type": "code",
      "source": [
        "# Printing squares of numbers not multiples of 7 using list comprehension\n",
        "squares = [x**2 for x in range(1, 1001) if x % 7 != 0]\n",
        "print(squares)"
      ],
      "metadata": {
        "colab": {
          "base_uri": "https://localhost:8080/"
        },
        "id": "0Ug7pXNZK8lA",
        "outputId": "7093f2ef-6233-437e-bd5a-68599f0257a9"
      },
      "execution_count": 11,
      "outputs": [
        {
          "output_type": "stream",
          "name": "stdout",
          "text": [
            "[1, 4, 9, 16, 25, 36, 64, 81, 100, 121, 144, 169, 225, 256, 289, 324, 361, 400, 484, 529, 576, 625, 676, 729, 841, 900, 961, 1024, 1089, 1156, 1296, 1369, 1444, 1521, 1600, 1681, 1849, 1936, 2025, 2116, 2209, 2304, 2500, 2601, 2704, 2809, 2916, 3025, 3249, 3364, 3481, 3600, 3721, 3844, 4096, 4225, 4356, 4489, 4624, 4761, 5041, 5184, 5329, 5476, 5625, 5776, 6084, 6241, 6400, 6561, 6724, 6889, 7225, 7396, 7569, 7744, 7921, 8100, 8464, 8649, 8836, 9025, 9216, 9409, 9801, 10000, 10201, 10404, 10609, 10816, 11236, 11449, 11664, 11881, 12100, 12321, 12769, 12996, 13225, 13456, 13689, 13924, 14400, 14641, 14884, 15129, 15376, 15625, 16129, 16384, 16641, 16900, 17161, 17424, 17956, 18225, 18496, 18769, 19044, 19321, 19881, 20164, 20449, 20736, 21025, 21316, 21904, 22201, 22500, 22801, 23104, 23409, 24025, 24336, 24649, 24964, 25281, 25600, 26244, 26569, 26896, 27225, 27556, 27889, 28561, 28900, 29241, 29584, 29929, 30276, 30976, 31329, 31684, 32041, 32400, 32761, 33489, 33856, 34225, 34596, 34969, 35344, 36100, 36481, 36864, 37249, 37636, 38025, 38809, 39204, 39601, 40000, 40401, 40804, 41616, 42025, 42436, 42849, 43264, 43681, 44521, 44944, 45369, 45796, 46225, 46656, 47524, 47961, 48400, 48841, 49284, 49729, 50625, 51076, 51529, 51984, 52441, 52900, 53824, 54289, 54756, 55225, 55696, 56169, 57121, 57600, 58081, 58564, 59049, 59536, 60516, 61009, 61504, 62001, 62500, 63001, 64009, 64516, 65025, 65536, 66049, 66564, 67600, 68121, 68644, 69169, 69696, 70225, 71289, 71824, 72361, 72900, 73441, 73984, 75076, 75625, 76176, 76729, 77284, 77841, 78961, 79524, 80089, 80656, 81225, 81796, 82944, 83521, 84100, 84681, 85264, 85849, 87025, 87616, 88209, 88804, 89401, 90000, 91204, 91809, 92416, 93025, 93636, 94249, 95481, 96100, 96721, 97344, 97969, 98596, 99856, 100489, 101124, 101761, 102400, 103041, 104329, 104976, 105625, 106276, 106929, 107584, 108900, 109561, 110224, 110889, 111556, 112225, 113569, 114244, 114921, 115600, 116281, 116964, 118336, 119025, 119716, 120409, 121104, 121801, 123201, 123904, 124609, 125316, 126025, 126736, 128164, 128881, 129600, 130321, 131044, 131769, 133225, 133956, 134689, 135424, 136161, 136900, 138384, 139129, 139876, 140625, 141376, 142129, 143641, 144400, 145161, 145924, 146689, 147456, 148996, 149769, 150544, 151321, 152100, 152881, 154449, 155236, 156025, 156816, 157609, 158404, 160000, 160801, 161604, 162409, 163216, 164025, 165649, 166464, 167281, 168100, 168921, 169744, 171396, 172225, 173056, 173889, 174724, 175561, 177241, 178084, 178929, 179776, 180625, 181476, 183184, 184041, 184900, 185761, 186624, 187489, 189225, 190096, 190969, 191844, 192721, 193600, 195364, 196249, 197136, 198025, 198916, 199809, 201601, 202500, 203401, 204304, 205209, 206116, 207936, 208849, 209764, 210681, 211600, 212521, 214369, 215296, 216225, 217156, 218089, 219024, 220900, 221841, 222784, 223729, 224676, 225625, 227529, 228484, 229441, 230400, 231361, 232324, 234256, 235225, 236196, 237169, 238144, 239121, 241081, 242064, 243049, 244036, 245025, 246016, 248004, 249001, 250000, 251001, 252004, 253009, 255025, 256036, 257049, 258064, 259081, 260100, 262144, 263169, 264196, 265225, 266256, 267289, 269361, 270400, 271441, 272484, 273529, 274576, 276676, 277729, 278784, 279841, 280900, 281961, 284089, 285156, 286225, 287296, 288369, 289444, 291600, 292681, 293764, 294849, 295936, 297025, 299209, 300304, 301401, 302500, 303601, 304704, 306916, 308025, 309136, 310249, 311364, 312481, 314721, 315844, 316969, 318096, 319225, 320356, 322624, 323761, 324900, 326041, 327184, 328329, 330625, 331776, 332929, 334084, 335241, 336400, 338724, 339889, 341056, 342225, 343396, 344569, 346921, 348100, 349281, 350464, 351649, 352836, 355216, 356409, 357604, 358801, 360000, 361201, 363609, 364816, 366025, 367236, 368449, 369664, 372100, 373321, 374544, 375769, 376996, 378225, 380689, 381924, 383161, 384400, 385641, 386884, 389376, 390625, 391876, 393129, 394384, 395641, 398161, 399424, 400689, 401956, 403225, 404496, 407044, 408321, 409600, 410881, 412164, 413449, 416025, 417316, 418609, 419904, 421201, 422500, 425104, 426409, 427716, 429025, 430336, 431649, 434281, 435600, 436921, 438244, 439569, 440896, 443556, 444889, 446224, 447561, 448900, 450241, 452929, 454276, 455625, 456976, 458329, 459684, 462400, 463761, 465124, 466489, 467856, 469225, 471969, 473344, 474721, 476100, 477481, 478864, 481636, 483025, 484416, 485809, 487204, 488601, 491401, 492804, 494209, 495616, 497025, 498436, 501264, 502681, 504100, 505521, 506944, 508369, 511225, 512656, 514089, 515524, 516961, 518400, 521284, 522729, 524176, 525625, 527076, 528529, 531441, 532900, 534361, 535824, 537289, 538756, 541696, 543169, 544644, 546121, 547600, 549081, 552049, 553536, 555025, 556516, 558009, 559504, 562500, 564001, 565504, 567009, 568516, 570025, 573049, 574564, 576081, 577600, 579121, 580644, 583696, 585225, 586756, 588289, 589824, 591361, 594441, 595984, 597529, 599076, 600625, 602176, 605284, 606841, 608400, 609961, 611524, 613089, 616225, 617796, 619369, 620944, 622521, 624100, 627264, 628849, 630436, 632025, 633616, 635209, 638401, 640000, 641601, 643204, 644809, 646416, 649636, 651249, 652864, 654481, 656100, 657721, 660969, 662596, 664225, 665856, 667489, 669124, 672400, 674041, 675684, 677329, 678976, 680625, 683929, 685584, 687241, 688900, 690561, 692224, 695556, 697225, 698896, 700569, 702244, 703921, 707281, 708964, 710649, 712336, 714025, 715716, 719104, 720801, 722500, 724201, 725904, 727609, 731025, 732736, 734449, 736164, 737881, 739600, 743044, 744769, 746496, 748225, 749956, 751689, 755161, 756900, 758641, 760384, 762129, 763876, 767376, 769129, 770884, 772641, 774400, 776161, 779689, 781456, 783225, 784996, 786769, 788544, 792100, 793881, 795664, 797449, 799236, 801025, 804609, 806404, 808201, 810000, 811801, 813604, 817216, 819025, 820836, 822649, 824464, 826281, 829921, 831744, 833569, 835396, 837225, 839056, 842724, 844561, 846400, 848241, 850084, 851929, 855625, 857476, 859329, 861184, 863041, 864900, 868624, 870489, 872356, 874225, 876096, 877969, 881721, 883600, 885481, 887364, 889249, 891136, 894916, 896809, 898704, 900601, 902500, 904401, 908209, 910116, 912025, 913936, 915849, 917764, 921600, 923521, 925444, 927369, 929296, 931225, 935089, 937024, 938961, 940900, 942841, 944784, 948676, 950625, 952576, 954529, 956484, 958441, 962361, 964324, 966289, 968256, 970225, 972196, 976144, 978121, 980100, 982081, 984064, 986049, 990025, 992016, 994009, 996004, 998001, 1000000]\n"
          ]
        }
      ]
    },
    {
      "cell_type": "markdown",
      "source": [
        "###Cell 9: Generating all of the prime numbers from 2 to 1000 using the Sieve of Eratosthenes which I suggest you ask ChatGPT for help on."
      ],
      "metadata": {
        "id": "EbL7BwNvLMno"
      }
    },
    {
      "cell_type": "code",
      "source": [
        "def sieve_of_eratosthenes(n):\n",
        "    sieve = [True] * (n + 1)\n",
        "    sieve[0:2] = [False, False]\n",
        "    p = 2\n",
        "    while p * p <= n:\n",
        "        if sieve[p]:\n",
        "            for i in range(p * p, n + 1, p):\n",
        "                sieve[i] = False\n",
        "        p += 1\n",
        "    return [i for i in range(2, n + 1) if sieve[i]]\n",
        "\n",
        "# Example usage:\n",
        "primes = sieve_of_eratosthenes(1000)\n"
      ],
      "metadata": {
        "id": "Ex9qREj8LF2t"
      },
      "execution_count": 12,
      "outputs": []
    },
    {
      "cell_type": "markdown",
      "source": [
        "###Cell 10: Create a generator from your function above that you can use to print the first N prime numbers. This should look like:\n",
        "\n",
        "for x in my_prime_generator(200):\n",
        "  print(x)"
      ],
      "metadata": {
        "id": "vvlOIfOpLaGD"
      }
    },
    {
      "cell_type": "code",
      "source": [
        "def my_prime_generator(limit):\n",
        "    primes = sieve_of_eratosthenes(10000)  # Generating more primes to accommodate larger N\n",
        "    for prime in primes[:limit]:\n",
        "        yield prime\n",
        "\n",
        "# Using the generator\n",
        "for x in my_prime_generator(200):\n",
        "    print(x)\n"
      ],
      "metadata": {
        "colab": {
          "base_uri": "https://localhost:8080/"
        },
        "id": "geyZXxOALXnN",
        "outputId": "78b874bf-11a9-4434-ea52-bc54b2a6c281"
      },
      "execution_count": 13,
      "outputs": [
        {
          "output_type": "stream",
          "name": "stdout",
          "text": [
            "2\n",
            "3\n",
            "5\n",
            "7\n",
            "11\n",
            "13\n",
            "17\n",
            "19\n",
            "23\n",
            "29\n",
            "31\n",
            "37\n",
            "41\n",
            "43\n",
            "47\n",
            "53\n",
            "59\n",
            "61\n",
            "67\n",
            "71\n",
            "73\n",
            "79\n",
            "83\n",
            "89\n",
            "97\n",
            "101\n",
            "103\n",
            "107\n",
            "109\n",
            "113\n",
            "127\n",
            "131\n",
            "137\n",
            "139\n",
            "149\n",
            "151\n",
            "157\n",
            "163\n",
            "167\n",
            "173\n",
            "179\n",
            "181\n",
            "191\n",
            "193\n",
            "197\n",
            "199\n",
            "211\n",
            "223\n",
            "227\n",
            "229\n",
            "233\n",
            "239\n",
            "241\n",
            "251\n",
            "257\n",
            "263\n",
            "269\n",
            "271\n",
            "277\n",
            "281\n",
            "283\n",
            "293\n",
            "307\n",
            "311\n",
            "313\n",
            "317\n",
            "331\n",
            "337\n",
            "347\n",
            "349\n",
            "353\n",
            "359\n",
            "367\n",
            "373\n",
            "379\n",
            "383\n",
            "389\n",
            "397\n",
            "401\n",
            "409\n",
            "419\n",
            "421\n",
            "431\n",
            "433\n",
            "439\n",
            "443\n",
            "449\n",
            "457\n",
            "461\n",
            "463\n",
            "467\n",
            "479\n",
            "487\n",
            "491\n",
            "499\n",
            "503\n",
            "509\n",
            "521\n",
            "523\n",
            "541\n",
            "547\n",
            "557\n",
            "563\n",
            "569\n",
            "571\n",
            "577\n",
            "587\n",
            "593\n",
            "599\n",
            "601\n",
            "607\n",
            "613\n",
            "617\n",
            "619\n",
            "631\n",
            "641\n",
            "643\n",
            "647\n",
            "653\n",
            "659\n",
            "661\n",
            "673\n",
            "677\n",
            "683\n",
            "691\n",
            "701\n",
            "709\n",
            "719\n",
            "727\n",
            "733\n",
            "739\n",
            "743\n",
            "751\n",
            "757\n",
            "761\n",
            "769\n",
            "773\n",
            "787\n",
            "797\n",
            "809\n",
            "811\n",
            "821\n",
            "823\n",
            "827\n",
            "829\n",
            "839\n",
            "853\n",
            "857\n",
            "859\n",
            "863\n",
            "877\n",
            "881\n",
            "883\n",
            "887\n",
            "907\n",
            "911\n",
            "919\n",
            "929\n",
            "937\n",
            "941\n",
            "947\n",
            "953\n",
            "967\n",
            "971\n",
            "977\n",
            "983\n",
            "991\n",
            "997\n",
            "1009\n",
            "1013\n",
            "1019\n",
            "1021\n",
            "1031\n",
            "1033\n",
            "1039\n",
            "1049\n",
            "1051\n",
            "1061\n",
            "1063\n",
            "1069\n",
            "1087\n",
            "1091\n",
            "1093\n",
            "1097\n",
            "1103\n",
            "1109\n",
            "1117\n",
            "1123\n",
            "1129\n",
            "1151\n",
            "1153\n",
            "1163\n",
            "1171\n",
            "1181\n",
            "1187\n",
            "1193\n",
            "1201\n",
            "1213\n",
            "1217\n",
            "1223\n"
          ]
        }
      ]
    },
    {
      "cell_type": "markdown",
      "source": [
        "###Cell 11: Generate 1000 random integers in a list (random.randint(...)) and print their min, max, sum, and average."
      ],
      "metadata": {
        "id": "2z5DsgHZMBT8"
      }
    },
    {
      "cell_type": "code",
      "source": [
        "import random\n",
        "\n",
        "random_integers = [random.randint(1, 1000) for _ in range(1000)]\n",
        "int_min = min(random_integers)\n",
        "int_max = max(random_integers)\n",
        "int_sum = sum(random_integers)\n",
        "int_avg = int_sum / len(random_integers)\n",
        "\n",
        "# Displaying results\n",
        "print(f\"Min: {int_min}, Max: {int_max}, Sum: {int_sum}, Average: {int_avg}\")\n"
      ],
      "metadata": {
        "colab": {
          "base_uri": "https://localhost:8080/"
        },
        "id": "R8Z14qNjL_8P",
        "outputId": "f1b70d37-dd80-4f14-88a8-04051818d89d"
      },
      "execution_count": 14,
      "outputs": [
        {
          "output_type": "stream",
          "name": "stdout",
          "text": [
            "Min: 3, Max: 1000, Sum: 490797, Average: 490.797\n"
          ]
        }
      ]
    },
    {
      "cell_type": "markdown",
      "source": [
        "###Cell 12: Write a simple function that uses if, elif, and else and show that it works."
      ],
      "metadata": {
        "id": "dXKDw4okMKNV"
      }
    },
    {
      "cell_type": "code",
      "source": [
        "def check_number(number):\n",
        "    if number > 0:\n",
        "        return \"Positive\"\n",
        "    elif number == 0:\n",
        "        return \"Zero\"\n",
        "    else:\n",
        "        return \"Negative\"\n",
        "\n",
        "# Example usage:\n",
        "result = check_number(5)\n",
        "print(result)\n"
      ],
      "metadata": {
        "colab": {
          "base_uri": "https://localhost:8080/"
        },
        "id": "WfuU_dzuMJpu",
        "outputId": "953df9fb-cb0f-4f90-e890-a347e4fcdad9"
      },
      "execution_count": 15,
      "outputs": [
        {
          "output_type": "stream",
          "name": "stdout",
          "text": [
            "Positive\n"
          ]
        }
      ]
    },
    {
      "cell_type": "markdown",
      "source": [
        "###Cell 13: Show me three things from PEP-8 that surprise you"
      ],
      "metadata": {
        "id": "JVuy-RrtMXNA"
      }
    },
    {
      "cell_type": "markdown",
      "source": [
        "*   I was surprised about the length of the line. PEP-8 suggests limiting lines to 79 characters, but it's not a hard rule.\n",
        "*   Secondary, PEP-8 recommends sorting imports, which can be surprising for newcomers.\n",
        "*   Finally, PEP-8 prefers spaces over tabs for indentation, which can be a surprise for developers from other languages."
      ],
      "metadata": {
        "id": "Q0oOi8qgMi8j"
      }
    },
    {
      "cell_type": "markdown",
      "source": [
        "###Cell 14: Create a file using %%file testfile.txt in Colab. The file should contain lines like the following:\n",
        "\n",
        "\n",
        "---\n",
        "\n",
        "\n",
        "\n",
        "*   Amy, cat\n",
        "*   Fred, dog\n",
        "*   Hunter, dog\n",
        "*   Peena, parakeet\n",
        "*   Rover, dog\n",
        "\n",
        "\n"
      ],
      "metadata": {
        "id": "uzbOq2ZQNjjK"
      }
    },
    {
      "cell_type": "code",
      "source": [
        "%%file testfile.txt\n",
        "Amy, cat\n",
        "Fred, dog\n",
        "Hunter, dog\n",
        "Peena, parakeet\n",
        "Rover, dog\n"
      ],
      "metadata": {
        "colab": {
          "base_uri": "https://localhost:8080/"
        },
        "id": "hZPVNBT-MWmS",
        "outputId": "f550c69a-eef2-4201-9672-ca672a1a84a7"
      },
      "execution_count": 16,
      "outputs": [
        {
          "output_type": "stream",
          "name": "stdout",
          "text": [
            "Writing testfile.txt\n"
          ]
        }
      ]
    },
    {
      "cell_type": "markdown",
      "source": [
        "###Cell 15: Read that file in and convert it to a dictionary. Show how you can lookup pet type by using pet name with your dictionary."
      ],
      "metadata": {
        "id": "yfJh17VROLx0"
      }
    },
    {
      "cell_type": "code",
      "source": [
        "# Reading the file and converting to a dictionary\n",
        "pet_dict = {}\n",
        "with open('testfile.txt', 'r') as file:\n",
        "    for line in file:\n",
        "        name, pet = line.strip().split(', ')\n",
        "        pet_dict[name] = pet\n",
        "\n",
        "# Looking up pet type by name\n",
        "print(pet_dict['Amy'])  # Should print 'cat'\n"
      ],
      "metadata": {
        "colab": {
          "base_uri": "https://localhost:8080/"
        },
        "id": "DPc213VwOPJO",
        "outputId": "907c3662-3ef9-43d6-fe9e-107b2b03f96d"
      },
      "execution_count": 17,
      "outputs": [
        {
          "output_type": "stream",
          "name": "stdout",
          "text": [
            "cat\n"
          ]
        }
      ]
    },
    {
      "cell_type": "markdown",
      "source": [
        "###Cell 16: Generate a list of all the unique pet types in the dictionary. Use a set to make this happen."
      ],
      "metadata": {
        "id": "IBOb13QKOSsX"
      }
    },
    {
      "cell_type": "code",
      "source": [
        "# Getting unique pet types\n",
        "unique_pet_types = set(pet_dict.values())\n",
        "print(unique_pet_types)\n"
      ],
      "metadata": {
        "colab": {
          "base_uri": "https://localhost:8080/"
        },
        "id": "47NEoI_2OVYo",
        "outputId": "ed5a8be0-f418-4b07-f528-d9c2f042a59d"
      },
      "execution_count": 18,
      "outputs": [
        {
          "output_type": "stream",
          "name": "stdout",
          "text": [
            "{'parakeet', 'dog', 'cat'}\n"
          ]
        }
      ]
    },
    {
      "cell_type": "markdown",
      "source": [
        "###Cell 17: Use a while loop to print the numbers from 80 down to 16 by 8. Do not use for or range."
      ],
      "metadata": {
        "id": "Go-L0IGcOajp"
      }
    },
    {
      "cell_type": "code",
      "source": [
        "num = 80\n",
        "while num >= 16:\n",
        "    print(num)\n",
        "    num -= 8\n"
      ],
      "metadata": {
        "colab": {
          "base_uri": "https://localhost:8080/"
        },
        "id": "KiDN1YZ4OZ-a",
        "outputId": "69fa0e3e-2ba9-43ad-f2fa-41f3afd05fb8"
      },
      "execution_count": 19,
      "outputs": [
        {
          "output_type": "stream",
          "name": "stdout",
          "text": [
            "80\n",
            "72\n",
            "64\n",
            "56\n",
            "48\n",
            "40\n",
            "32\n",
            "24\n",
            "16\n"
          ]
        }
      ]
    },
    {
      "cell_type": "markdown",
      "source": [
        "###Cell 18: Write a function that takes three numbers and returns their min, max, and sum as a tuple."
      ],
      "metadata": {
        "id": "CQXpD4ujOfrw"
      }
    },
    {
      "cell_type": "code",
      "source": [
        "def min_max_sum(a, b, c):\n",
        "    num_list = [a, b, c]\n",
        "    return min(num_list), max(num_list), sum(num_list)\n",
        "\n",
        "# Example usage:\n",
        "result = min_max_sum(4, 8, 2)\n",
        "print(result)\n"
      ],
      "metadata": {
        "colab": {
          "base_uri": "https://localhost:8080/"
        },
        "id": "MLdiybQEOe97",
        "outputId": "09f73b34-de2a-4618-9f4f-a1714c263de1"
      },
      "execution_count": 20,
      "outputs": [
        {
          "output_type": "stream",
          "name": "stdout",
          "text": [
            "(2, 8, 14)\n"
          ]
        }
      ]
    },
    {
      "cell_type": "markdown",
      "source": [
        "###Cell 19: Write a function that takes any number of numbers and returns their min, max, and sum as a tuple."
      ],
      "metadata": {
        "id": "7evGIvD_QJ4A"
      }
    },
    {
      "cell_type": "code",
      "source": [
        "def min_max_sum_variable(*args):\n",
        "    return min(args), max(args), sum(args)\n",
        "\n",
        "# Example usage:\n",
        "result = min_max_sum_variable(3, 7, 1, 9, 5)\n",
        "print(result)\n"
      ],
      "metadata": {
        "colab": {
          "base_uri": "https://localhost:8080/"
        },
        "id": "mlcPgUuSQJNE",
        "outputId": "ab9b8aa3-d446-4066-9063-787f27b03407"
      },
      "execution_count": 21,
      "outputs": [
        {
          "output_type": "stream",
          "name": "stdout",
          "text": [
            "(1, 9, 25)\n"
          ]
        }
      ]
    },
    {
      "cell_type": "markdown",
      "source": [
        "###Cell 20: Create a decorator called traceroo and use it to print messages showing how your function above executes."
      ],
      "metadata": {
        "id": "jHqXLBQlQR5p"
      }
    },
    {
      "cell_type": "code",
      "source": [
        "def traceroo(func):\n",
        "    def wrapper(*args, **kwargs):\n",
        "        print(f\"Calling function: {func.__name__}\")\n",
        "        result = func(*args, **kwargs)\n",
        "        print(f\"Function {func.__name__} executed\")\n",
        "        return result\n",
        "    return wrapper\n",
        "\n",
        "# Applying the decorator\n",
        "@traceroo\n",
        "def min_max_sum_variable(*args):\n",
        "    return min(args), max(args), sum(args)\n",
        "\n",
        "# Example usage with decorator tracing\n",
        "result = min_max_sum_variable(3, 7, 1, 9, 5)\n",
        "print(result)\n"
      ],
      "metadata": {
        "colab": {
          "base_uri": "https://localhost:8080/"
        },
        "id": "UpVC3UCxQROJ",
        "outputId": "7d51df10-be4f-4919-def5-067e8b33028c"
      },
      "execution_count": 22,
      "outputs": [
        {
          "output_type": "stream",
          "name": "stdout",
          "text": [
            "Calling function: min_max_sum_variable\n",
            "Function min_max_sum_variable executed\n",
            "(1, 9, 25)\n"
          ]
        }
      ]
    },
    {
      "cell_type": "markdown",
      "source": [
        "###Cell 21: Create a class that uses __init__, __repr__, __str__, and __add__. Demonstrate that all of the methods work."
      ],
      "metadata": {
        "id": "tlQqrYJvQYlo"
      }
    },
    {
      "cell_type": "code",
      "source": [
        "class MyClass:\n",
        "    def __init__(self, value):\n",
        "        self.value = value\n",
        "\n",
        "    def __repr__(self):\n",
        "        return f\"MyClass({self.value})\"\n",
        "\n",
        "    def __str__(self):\n",
        "        return f\"Value: {self.value}\"\n",
        "\n",
        "    def __add__(self, other):\n",
        "        return self.value + other.value\n",
        "\n",
        "# Example usage:\n",
        "obj1 = MyClass(5)\n",
        "obj2 = MyClass(10)\n",
        "\n",
        "print(repr(obj1))  # Output: MyClass(5)\n",
        "print(str(obj1))   # Output: Value: 5\n",
        "\n",
        "print(obj1 + obj2) # Output: 15 (sum of values)\n"
      ],
      "metadata": {
        "colab": {
          "base_uri": "https://localhost:8080/"
        },
        "id": "RIW3rsFpQXRH",
        "outputId": "e0563f64-be28-4084-c399-a03aa97abd36"
      },
      "execution_count": 23,
      "outputs": [
        {
          "output_type": "stream",
          "name": "stdout",
          "text": [
            "MyClass(5)\n",
            "Value: 5\n",
            "15\n"
          ]
        }
      ]
    },
    {
      "cell_type": "markdown",
      "source": [
        "###Cell 22: Is your birth date included in the digits of pi? Where? Feel free to use the code from Chapter 10."
      ],
      "metadata": {
        "id": "BLs9Uob5Qgra"
      }
    },
    {
      "cell_type": "code",
      "source": [
        "import math\n",
        "\n",
        "# Generating Pi approximation with desired precision (adjust as needed)\n",
        "precision = 1000  # For instance, generate 1000 digits of Pi\n",
        "pi_digits = str(round(math.pi, precision))\n",
        "\n",
        "# Writing Pi digits to a file named 'pi_digits.txt'\n",
        "with open('pi_digits.txt', 'w') as file:\n",
        "    file.write(pi_digits)\n"
      ],
      "metadata": {
        "id": "kexY8LmsQgC8"
      },
      "execution_count": 27,
      "outputs": []
    },
    {
      "cell_type": "code",
      "source": [
        "birthday = '0303' #set 0303 as example of a birthday\n",
        "\n",
        "with open('pi_digits.txt') as file:\n",
        "    pi = file.read()\n",
        "\n",
        "if birthday in pi:\n",
        "    index = pi.index(birthday)\n",
        "    print(f\"Your birthday appears in the digits of Pi at index {index}.\")\n",
        "else:\n",
        "    print(\"Your birthday doesn't appear in the digits of Pi.\")\n"
      ],
      "metadata": {
        "colab": {
          "base_uri": "https://localhost:8080/"
        },
        "id": "6DlDMwdnQl9B",
        "outputId": "a5878075-78c6-4530-fe92-8b2786f0c8e5"
      },
      "execution_count": 29,
      "outputs": [
        {
          "output_type": "stream",
          "name": "stdout",
          "text": [
            "Your birthday doesn't appear in the digits of Pi.\n"
          ]
        }
      ]
    }
  ]
}