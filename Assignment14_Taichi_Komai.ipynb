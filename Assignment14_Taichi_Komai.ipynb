{
  "nbformat": 4,
  "nbformat_minor": 0,
  "metadata": {
    "colab": {
      "provenance": [],
      "authorship_tag": "ABX9TyNUceycH/Q9g0uv3Kz45kUH",
      "include_colab_link": true
    },
    "kernelspec": {
      "name": "python3",
      "display_name": "Python 3"
    },
    "language_info": {
      "name": "python"
    }
  },
  "cells": [
    {
      "cell_type": "markdown",
      "metadata": {
        "id": "view-in-github",
        "colab_type": "text"
      },
      "source": [
        "<a href=\"https://colab.research.google.com/github/tkoma1122/CSC221_tkoma001/blob/main/Assignment14_Taichi_Komai.ipynb\" target=\"_parent\"><img src=\"https://colab.research.google.com/assets/colab-badge.svg\" alt=\"Open In Colab\"/></a>"
      ]
    },
    {
      "cell_type": "code",
      "execution_count": 1,
      "metadata": {
        "colab": {
          "base_uri": "https://localhost:8080/"
        },
        "id": "7h2cYA3u4CHK",
        "outputId": "44047274-dfb5-4829-c7c7-1a2e9ad3b781"
      },
      "outputs": [
        {
          "output_type": "stream",
          "name": "stdout",
          "text": [
            "Enter a calculation (or 'q' to quit): 5+3\n",
            "Invalid input format. Please enter a calculation in the format 'number op number'.\n",
            "Enter a calculation (or 'q' to quit): 4 + 3\n",
            "4.0 + 3.0 = 7.0\n",
            "Enter a calculation (or 'q' to quit): 2 - 1\n",
            "2.0 - 1.0 = 1.0\n",
            "Enter a calculation (or 'q' to quit): 6 * 3\n",
            "6.0 * 3.0 = 18.0\n",
            "Enter a calculation (or 'q' to quit): 10 / 2\n",
            "10.0 / 2.0 = 5.0\n",
            "Enter a calculation (or 'q' to quit): q\n",
            "Calculator program has ended.\n"
          ]
        }
      ],
      "source": [
        "def calculate_result(num1, operator, num2):\n",
        "    try:\n",
        "        num1 = float(num1)\n",
        "        num2 = float(num2)\n",
        "    except ValueError:\n",
        "        return \"Invalid input. Please enter valid numbers.\"\n",
        "\n",
        "    if operator == '+':\n",
        "        return f\"{num1} + {num2} = {num1 + num2}\"\n",
        "    elif operator == '-':\n",
        "        return f\"{num1} - {num2} = {num1 - num2}\"\n",
        "    elif operator == '*':\n",
        "        return f\"{num1} * {num2} = {num1 * num2}\"\n",
        "    elif operator == '/':\n",
        "        if num2 == 0:\n",
        "            return \"Division by zero is not allowed.\"\n",
        "        else:\n",
        "            return f\"{num1} / {num2} = {num1 / num2}\"\n",
        "    else:\n",
        "        return \"Invalid operator. Please enter +, -, *, /, or 'q' to quit.\"\n",
        "\n",
        "total = 0\n",
        "\n",
        "while True:\n",
        "    user_input = input(\"Enter a calculation (or 'q' to quit): \")\n",
        "    if user_input.lower() == 'q':\n",
        "        break\n",
        "    args = user_input.split(' ')\n",
        "\n",
        "    if len(args) != 3:\n",
        "        print(\"Invalid input format. Please enter a calculation in the format 'number op number'.\")\n",
        "        continue\n",
        "\n",
        "    result = calculate_result(args[0], args[1], args[2])\n",
        "    print(result)\n",
        "\n",
        "print(\"Calculator program has ended.\")\n"
      ]
    },
    {
      "cell_type": "code",
      "source": [
        "import random\n",
        "\n",
        "class Person:\n",
        "    def as_transmitted(self):\n",
        "        pass\n",
        "\n",
        "    def as_received(self):\n",
        "        pass\n",
        "\n",
        "def make_files(my_name, record_count=100):\n",
        "    try:\n",
        "        random.seed(hash(my_name))\n",
        "\n",
        "        people = [Person() for x in range(record_count)]\n",
        "\n",
        "        source_file = open('source.txt', 'w')\n",
        "        received_file1 = open('as_received1.txt', 'w')\n",
        "        received_file2 = open('as_received2.txt', 'w')\n",
        "        received_file3 = open('as_received3.txt', 'w')\n",
        "\n",
        "        all_files = [source_file, received_file1, received_file2, received_file3]\n",
        "\n",
        "        for file in all_files:\n",
        "            file.write('Name, Email, Phone, Pastimes\\n')\n",
        "\n",
        "        source_file_line_count = 0\n",
        "        received_file1_line_count = 0\n",
        "        received_file2_line_count = 0\n",
        "        received_file3_line_count = 0\n",
        "        for person in sorted(people):\n",
        "            source_file.write(person.as_transmitted() + '\\n')\n",
        "            source_file_line_count += 1\n",
        "\n",
        "            choice = random.choice([1, 2, 4, 1, 2, 4, 1, 2, 4, 1, 2, 4, 3, 5, 6])\n",
        "            if choice & 1:\n",
        "                received_file1.write(person.as_received() + '\\n')\n",
        "                received_file1_line_count += 1\n",
        "            if choice & 2:\n",
        "                received_file2.write(person.as_received() + '\\n')\n",
        "                received_file2_line_count += 1\n",
        "            if choice & 4:\n",
        "                received_file3.write(person.as_received() + '\\n')\n",
        "                received_file3_line_count += 1\n",
        "\n",
        "        print(f'source_file written with {source_file_line_count} lines')\n",
        "        print(f'received_file1 written with {received_file1_line_count} lines')\n",
        "        print(f'received_file2 written with {received_file2_line_count} lines')\n",
        "        print(f'received_file3 written with {received_file3_line_count} lines')\n",
        "\n",
        "    except Exception as e:\n",
        "        print(f\"An error occurred while creating files: {str(e)}\")\n",
        "    finally:\n",
        "        for file in all_files:\n",
        "            file.close()\n",
        "\n",
        "def compare_files(file1, file2):\n",
        "    try:\n",
        "        with open(file1, 'r') as f1, open(file2, 'r') as f2:\n",
        "            for line1, line2 in zip(f1, f2):\n",
        "                if line1 != line2:\n",
        "                    return False\n",
        "        return True\n",
        "    except Exception as e:\n",
        "        print(f\"An error occurred while comparing files: {str(e)}\")\n",
        "        return False\n",
        "\n",
        "try:\n",
        "    make_files(my_name='Taichi Komai', record_count=20)\n",
        "except Exception as e:\n",
        "    print(f\"An error occurred while creating files: {str(e)}\")\n",
        "\n",
        "try:\n",
        "    result = compare_files(\"source.txt\", \"corrected.txt\")\n",
        "    if result:\n",
        "        print(\"source.txt and corrected.txt are identical for 20 records.\")\n",
        "    else:\n",
        "        print(\"source.txt and corrected.txt are NOT identical for 20 records.\")\n",
        "except Exception as e:\n",
        "    print(f\"An error occurred while comparing files: {str(e)}\")"
      ],
      "metadata": {
        "colab": {
          "base_uri": "https://localhost:8080/"
        },
        "id": "pJgWW8H-4ICQ",
        "outputId": "82845664-02ce-439b-cfa1-e172cc713e03"
      },
      "execution_count": 1,
      "outputs": [
        {
          "output_type": "stream",
          "name": "stdout",
          "text": [
            "An error occurred while creating files: '<' not supported between instances of 'Person' and 'Person'\n",
            "An error occurred while comparing files: [Errno 2] No such file or directory: 'corrected.txt'\n",
            "source.txt and corrected.txt are NOT identical for 20 records.\n"
          ]
        }
      ]
    },
    {
      "cell_type": "code",
      "source": [],
      "metadata": {
        "id": "SgJPOOe_vK-n"
      },
      "execution_count": null,
      "outputs": []
    }
  ]
}