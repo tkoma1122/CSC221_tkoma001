{
  "nbformat": 4,
  "nbformat_minor": 0,
  "metadata": {
    "colab": {
      "provenance": [],
      "authorship_tag": "ABX9TyN8pdRUPUhTt21bT0dymGQH",
      "include_colab_link": true
    },
    "kernelspec": {
      "name": "python3",
      "display_name": "Python 3"
    },
    "language_info": {
      "name": "python"
    }
  },
  "cells": [
    {
      "cell_type": "markdown",
      "metadata": {
        "id": "view-in-github",
        "colab_type": "text"
      },
      "source": [
        "<a href=\"https://colab.research.google.com/github/tkoma1122/CSC221_tkoma001/blob/main/Assignment22_Taichi_Komai.ipynb\" target=\"_parent\"><img src=\"https://colab.research.google.com/assets/colab-badge.svg\" alt=\"Open In Colab\"/></a>"
      ]
    },
    {
      "cell_type": "code",
      "execution_count": 1,
      "metadata": {
        "colab": {
          "base_uri": "https://localhost:8080/"
        },
        "id": "Hu762rj0ulSp",
        "outputId": "a469ba8c-917a-4832-9039-17932988f89b"
      },
      "outputs": [
        {
          "output_type": "stream",
          "name": "stdout",
          "text": [
            "Vector2D(2, 2)\n",
            "Vector2D(3, 4)\n",
            "Vector2D(-1, 5)\n"
          ]
        }
      ],
      "source": [
        "import math\n",
        "\n",
        "class Vector2D:\n",
        "    def __init__(self, x, y):\n",
        "        self.x = x\n",
        "        self.y = y\n",
        "\n",
        "    def __repr__(self):\n",
        "        return f\"Vector2D({self.x}, {self.y})\"\n",
        "\n",
        "    def __lt__(self, other):\n",
        "        return math.sqrt(self.x**2 + self.y**2) < math.sqrt(other.x**2 + other.y**2)\n",
        "\n",
        "# Creating some vectors\n",
        "vectors = [Vector2D(3, 4), Vector2D(-1, 5), Vector2D(2, 2)]\n",
        "\n",
        "# Sorting by length using the __lt__ method\n",
        "sorted_vectors = sorted(vectors)\n",
        "\n",
        "# Printing sorted vectors\n",
        "for vector in sorted_vectors:\n",
        "    print(vector)\n"
      ]
    },
    {
      "cell_type": "markdown",
      "source": [
        "##Modify the code"
      ],
      "metadata": {
        "id": "OgO3za6DvwsC"
      }
    },
    {
      "cell_type": "code",
      "source": [
        "import math\n",
        "\n",
        "class Vector2D:\n",
        "    def __init__(self, x, y):\n",
        "        self.x = x\n",
        "        self.y = y\n",
        "\n",
        "    def __repr__(self):\n",
        "        return f\"Vector2D({self.x}, {self.y})\"\n",
        "\n",
        "    def __lt__(self, other):\n",
        "      return self.x + self.y < other.x + other.y\n",
        "\n",
        "vectors = [Vector2D(3, 4), Vector2D(-1, 5), Vector2D(2, 2)]\n",
        "\n",
        "sorted_vectors = sorted(vectors)\n",
        "\n",
        "for vector in sorted_vectors:\n",
        "    print(vector)\n"
      ],
      "metadata": {
        "colab": {
          "base_uri": "https://localhost:8080/"
        },
        "id": "bW0IJxoivjbe",
        "outputId": "ae265706-1471-4813-d264-542aa292d135"
      },
      "execution_count": 2,
      "outputs": [
        {
          "output_type": "stream",
          "name": "stdout",
          "text": [
            "Vector2D(-1, 5)\n",
            "Vector2D(2, 2)\n",
            "Vector2D(3, 4)\n"
          ]
        }
      ]
    },
    {
      "cell_type": "code",
      "source": [
        "import math\n",
        "\n",
        "class Vector2D:\n",
        "    def __init__(self, x, y):\n",
        "        self.x = x\n",
        "        self.y = y\n",
        "\n",
        "    def __repr__(self):\n",
        "        return f\"Vector2D({self.x}, {self.y})\"\n",
        "\n",
        "    def __lt__(self, other):\n",
        "        return self.x + self.y < other.x + other.y\n",
        "\n",
        "class Special:\n",
        "  def __getitem__(self, key):\n",
        "        return len(key)\n",
        "\n",
        "s1 = Special()\n",
        "print(s1[\"ned\"])\n",
        "print(s1[\"ned2\"])\n",
        "print(s1[\"ned2\"*5])\n",
        "\n",
        "vectors = [Vector2D(3, 4), Vector2D(-1, 5), Vector2D(2, 2)]\n",
        "\n",
        "sorted_vectors = sorted(vectors)\n",
        "\n",
        "for vector in sorted_vectors:\n",
        "    print(vector)\n"
      ],
      "metadata": {
        "colab": {
          "base_uri": "https://localhost:8080/"
        },
        "id": "n5Usb6Anv1VB",
        "outputId": "76c42018-a9c1-4738-b976-28eeeaa3d3bb"
      },
      "execution_count": 3,
      "outputs": [
        {
          "output_type": "stream",
          "name": "stdout",
          "text": [
            "3\n",
            "4\n",
            "20\n",
            "Vector2D(-1, 5)\n",
            "Vector2D(2, 2)\n",
            "Vector2D(3, 4)\n"
          ]
        }
      ]
    }
  ]
}