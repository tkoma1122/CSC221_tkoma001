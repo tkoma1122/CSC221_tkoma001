{
  "nbformat": 4,
  "nbformat_minor": 0,
  "metadata": {
    "colab": {
      "provenance": []
    },
    "kernelspec": {
      "name": "python3",
      "display_name": "Python 3"
    },
    "language_info": {
      "name": "python"
    }
  },
  "cells": [
    {
      "cell_type": "markdown",
      "source": [
        "Try it Yourself 8-2, 8-3, 8-4, 8-14"
      ],
      "metadata": {
        "id": "axU6IMwetQYt"
      }
    },
    {
      "cell_type": "code",
      "source": [
        "def favorite_book(title):\n",
        "  print(f\"One of my favorite book is {title}.\")\n",
        "\n",
        "favorite_book(\"Alice in Wonderland\")"
      ],
      "metadata": {
        "colab": {
          "base_uri": "https://localhost:8080/"
        },
        "id": "iGRnnaHutStP",
        "outputId": "8a498ab5-0fbb-492c-8028-c0561168d2de"
      },
      "execution_count": 3,
      "outputs": [
        {
          "output_type": "stream",
          "name": "stdout",
          "text": [
            "One of my favorite book is Alice in Wonderland.\n"
          ]
        }
      ]
    },
    {
      "cell_type": "code",
      "source": [
        "def make_shirt(size, message):\n",
        "  print(f\"Shirt size: {size}, Message: {message}\")\n",
        "\n",
        "make_shirt(\"Medium\", \"I love Python\")\n",
        "\n",
        "make_shirt(size=\"Large\", message=\"Python Developer\")"
      ],
      "metadata": {
        "colab": {
          "base_uri": "https://localhost:8080/"
        },
        "id": "Gk_AgzqGuryJ",
        "outputId": "6753cf17-4e60-427f-f97c-91ccf3fb9264"
      },
      "execution_count": 4,
      "outputs": [
        {
          "output_type": "stream",
          "name": "stdout",
          "text": [
            "Shirt size: Medium, Message: I love Python\n",
            "Shirt size: Large, Message: Python Developer\n"
          ]
        }
      ]
    },
    {
      "cell_type": "code",
      "source": [
        "def make_shirt(size=\"Large\", message=\"I love Python\"):\n",
        "    print(f\"Shirt size: {size}, Message: {message}\")\n",
        "\n",
        "make_shirt()\n",
        "\n",
        "make_shirt(size = \"Medium\")\n",
        "make_shirt(size = \"Small\", message = \"Python Developer\")"
      ],
      "metadata": {
        "colab": {
          "base_uri": "https://localhost:8080/"
        },
        "id": "4B1PbBXM8qJa",
        "outputId": "1c58c799-3fec-4d0e-b7f8-c9da34b9f92e"
      },
      "execution_count": 5,
      "outputs": [
        {
          "output_type": "stream",
          "name": "stdout",
          "text": [
            "Shirt size: Large, Message: I love Python\n",
            "Shirt size: Medium, Message: I love Python\n",
            "Shirt size: Small, Message: Python Developer\n"
          ]
        }
      ]
    },
    {
      "cell_type": "code",
      "source": [
        "def make_car(manufacturer, model, **kwargs):\n",
        "    car_info = {\n",
        "        'manufacturer': manufacturer,\n",
        "        'model': model,\n",
        "    }\n",
        "    car_info.update(kwargs)\n",
        "    return car_info\n",
        "\n",
        "car = make_car('subaru', 'outback', color='blue', tow_package=True)\n",
        "\n",
        "print(car)"
      ],
      "metadata": {
        "colab": {
          "base_uri": "https://localhost:8080/"
        },
        "id": "siB_eryN9bgX",
        "outputId": "fe270d18-ec9c-4227-c164-9d9fd563a9a0"
      },
      "execution_count": 6,
      "outputs": [
        {
          "output_type": "stream",
          "name": "stdout",
          "text": [
            "{'manufacturer': 'subaru', 'model': 'outback', 'color': 'blue', 'tow_package': True}\n"
          ]
        }
      ]
    },
    {
      "cell_type": "code",
      "source": [
        "import math\n",
        "\n",
        "def sum_and_sort_numbers(a, b=math.pi):\n",
        "  total = a + b\n",
        "  sorted_numbers = sorted([a, b])\n",
        "  return total, sorted_numbers\n",
        "\n",
        "result_sum, sorted_values = sum_and_sort_numbers(7)\n",
        "print(f\"Sum: {result_sum}, Sorted Numbers: {sorted_values}\")\n",
        "\n",
        "result_sum, sorted_values = sum_and_sort_numbers(3, 5)\n",
        "print(f\"Sum: {result_sum}, Sorted Numbers: {sorted_values}\")"
      ],
      "metadata": {
        "colab": {
          "base_uri": "https://localhost:8080/"
        },
        "id": "rvQ3h9me9v6O",
        "outputId": "13fb0d38-ef4a-43f3-bf78-5183e71cfc2a"
      },
      "execution_count": 7,
      "outputs": [
        {
          "output_type": "stream",
          "name": "stdout",
          "text": [
            "Sum: 10.141592653589793, Sorted Numbers: [3.141592653589793, 7]\n",
            "Sum: 8, Sorted Numbers: [3, 5]\n"
          ]
        }
      ]
    },
    {
      "cell_type": "code",
      "source": [
        "import math\n",
        "\n",
        "def sum_and_sort_numbers(a, b=math.pi):\n",
        "    total = a + b\n",
        "    sorted_numbers = sorted([a, b])\n",
        "    return total, sorted_numbers\n",
        "\n",
        "result_sum, sorted_values = sum_and_sort_numbers(3, 5)\n",
        "assert result_sum == 3 + 5\n",
        "assert sorted_values == [3, 5]\n",
        "\n",
        "result_sum, sorted_values = sum_and_sort_numbers(-2, -6)\n",
        "assert result_sum == -2 + (-6)\n",
        "assert sorted_values == [-6, -2]\n",
        "\n",
        "result_sum, sorted_values = sum_and_sort_numbers(-4, 2)\n",
        "assert result_sum == -4 + 2\n",
        "assert sorted_values == [-4, 2]\n",
        "\n",
        "result_sum, sorted_values = sum_and_sort_numbers(9999, 10000)\n",
        "assert result_sum == 9999 + 10000\n",
        "assert sorted_values == [9999, 10000]\n",
        "\n",
        "print(\"All test cases passed!\")"
      ],
      "metadata": {
        "colab": {
          "base_uri": "https://localhost:8080/"
        },
        "id": "LZaVkHrT_Ng3",
        "outputId": "8c5ef316-ba8b-4879-feb1-5c9b00150f83"
      },
      "execution_count": 13,
      "outputs": [
        {
          "output_type": "stream",
          "name": "stdout",
          "text": [
            "All test cases passed!\n"
          ]
        }
      ]
    },
    {
      "cell_type": "code",
      "source": [
        "import math\n",
        "\n",
        "def sum_and_sort_numbers(a, b=math.pi, verbose=False):\n",
        "    total = a + b\n",
        "    sorted_numbers = sorted([a, b])\n",
        "\n",
        "    if verbose:\n",
        "        print(f\"Input values: a = {a}, b = {b}\")\n",
        "        print(f\"Sum of a and b: {total}\")\n",
        "        print(f\"Sorted numbers: {sorted_numbers}\")\n",
        "\n",
        "    return total, sorted_numbers\n",
        "\n",
        "result, sorted_values = sum_and_sort_numbers(7, verbose=True)"
      ],
      "metadata": {
        "colab": {
          "base_uri": "https://localhost:8080/"
        },
        "id": "hLHugPJF_mzW",
        "outputId": "0f54058b-ce50-4f54-c558-0dcbe32aa655"
      },
      "execution_count": 14,
      "outputs": [
        {
          "output_type": "stream",
          "name": "stdout",
          "text": [
            "Input values: a = 7, b = 3.141592653589793\n",
            "Sum of a and b: 10.141592653589793\n",
            "Sorted numbers: [3.141592653589793, 7]\n"
          ]
        }
      ]
    }
  ]
}