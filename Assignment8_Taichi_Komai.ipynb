{
  "nbformat": 4,
  "nbformat_minor": 0,
  "metadata": {
    "colab": {
      "provenance": []
    },
    "kernelspec": {
      "name": "python3",
      "display_name": "Python 3"
    },
    "language_info": {
      "name": "python"
    }
  },
  "cells": [
    {
      "cell_type": "code",
      "execution_count": 1,
      "metadata": {
        "colab": {
          "base_uri": "https://localhost:8080/"
        },
        "id": "u2OqsJJPToDd",
        "outputId": "c64a79ba-b14d-42f5-ee6e-e520400c1fed"
      },
      "outputs": [
        {
          "output_type": "stream",
          "name": "stdout",
          "text": [
            "Tell me something, and I will repeat it back to you: Hello everyone!\n",
            "Hello everyone!\n"
          ]
        }
      ],
      "source": [
        "message = input(\"Tell me something, and I will repeat it back to you: \")\n",
        "print(message)"
      ]
    },
    {
      "cell_type": "code",
      "source": [
        "name = input(\"Please enter your name: \")\n",
        "print(f\"\\nHello, {name}!\")"
      ],
      "metadata": {
        "colab": {
          "base_uri": "https://localhost:8080/"
        },
        "id": "n4ulNOxlXrzo",
        "outputId": "3cdd1991-3656-4a42-ac02-296af45d2eb4"
      },
      "execution_count": 2,
      "outputs": [
        {
          "output_type": "stream",
          "name": "stdout",
          "text": [
            "Please enter your name: Eric\n",
            "\n",
            "Hello, Eric!\n"
          ]
        }
      ]
    },
    {
      "cell_type": "code",
      "source": [
        "prompt = \"If you share your name, we can personalize the message you see.\"\n",
        "prompt += \"\\nWhat is your first name?\"\n",
        "\n",
        "name = input(prompt)\n",
        "print(f\"\\nHello, {name}!\")"
      ],
      "metadata": {
        "colab": {
          "base_uri": "https://localhost:8080/"
        },
        "id": "7KiRS3HnX-1l",
        "outputId": "ab079c19-39a6-4873-f8fb-5df9c824202f"
      },
      "execution_count": 3,
      "outputs": [
        {
          "output_type": "stream",
          "name": "stdout",
          "text": [
            "If you share your name, we can personalize the message you see.\n",
            "What is your first name?Eric\n",
            "\n",
            "Hello, Eric!\n"
          ]
        }
      ]
    },
    {
      "cell_type": "code",
      "source": [
        "age = input(\"How old are you? \")"
      ],
      "metadata": {
        "colab": {
          "base_uri": "https://localhost:8080/"
        },
        "id": "iyIJPhhYYa_G",
        "outputId": "703d42b2-ac0f-4258-acb7-c56e23d8f7d6"
      },
      "execution_count": 4,
      "outputs": [
        {
          "name": "stdout",
          "output_type": "stream",
          "text": [
            "How old are you? 21\n"
          ]
        }
      ]
    },
    {
      "cell_type": "code",
      "source": [
        "age = input(\"How old are you? \")\n",
        "age"
      ],
      "metadata": {
        "colab": {
          "base_uri": "https://localhost:8080/",
          "height": 53
        },
        "id": "TQ3kj6FMYnzR",
        "outputId": "bc4b78dd-0a3b-48fc-c91c-1aa9efded098"
      },
      "execution_count": 6,
      "outputs": [
        {
          "name": "stdout",
          "output_type": "stream",
          "text": [
            "How old are you? 21\n"
          ]
        },
        {
          "output_type": "execute_result",
          "data": {
            "text/plain": [
              "'21'"
            ],
            "application/vnd.google.colaboratory.intrinsic+json": {
              "type": "string"
            }
          },
          "metadata": {},
          "execution_count": 6
        }
      ]
    },
    {
      "cell_type": "code",
      "source": [
        "age"
      ],
      "metadata": {
        "colab": {
          "base_uri": "https://localhost:8080/",
          "height": 35
        },
        "id": "EePrhhNkZTGK",
        "outputId": "cf2ebf04-c06b-4a60-dbee-a38c43e83340"
      },
      "execution_count": 7,
      "outputs": [
        {
          "output_type": "execute_result",
          "data": {
            "text/plain": [
              "'21'"
            ],
            "application/vnd.google.colaboratory.intrinsic+json": {
              "type": "string"
            }
          },
          "metadata": {},
          "execution_count": 7
        }
      ]
    },
    {
      "cell_type": "code",
      "source": [
        "age >= 18"
      ],
      "metadata": {
        "colab": {
          "base_uri": "https://localhost:8080/",
          "height": 180
        },
        "id": "Z0aqOu9bZrC0",
        "outputId": "21ce4955-a6a3-4c7d-dfc7-ea5c45b5a8a1"
      },
      "execution_count": 8,
      "outputs": [
        {
          "output_type": "error",
          "ename": "TypeError",
          "evalue": "ignored",
          "traceback": [
            "\u001b[0;31m---------------------------------------------------------------------------\u001b[0m",
            "\u001b[0;31mTypeError\u001b[0m                                 Traceback (most recent call last)",
            "\u001b[0;32m<ipython-input-8-4ce6028355cc>\u001b[0m in \u001b[0;36m<cell line: 1>\u001b[0;34m()\u001b[0m\n\u001b[0;32m----> 1\u001b[0;31m \u001b[0mage\u001b[0m \u001b[0;34m>=\u001b[0m \u001b[0;36m18\u001b[0m\u001b[0;34m\u001b[0m\u001b[0;34m\u001b[0m\u001b[0m\n\u001b[0m",
            "\u001b[0;31mTypeError\u001b[0m: '>=' not supported between instances of 'str' and 'int'"
          ]
        }
      ]
    },
    {
      "cell_type": "code",
      "source": [
        "age = input(\"How old are you? \")\n",
        "age = int(age)\n",
        "age >= 18"
      ],
      "metadata": {
        "colab": {
          "base_uri": "https://localhost:8080/"
        },
        "id": "ZfnpHloKZt8Y",
        "outputId": "c91e2fbc-3ab3-4ceb-decd-1c5478c2c090"
      },
      "execution_count": 9,
      "outputs": [
        {
          "name": "stdout",
          "output_type": "stream",
          "text": [
            "How old are you? 21\n"
          ]
        },
        {
          "output_type": "execute_result",
          "data": {
            "text/plain": [
              "True"
            ]
          },
          "metadata": {},
          "execution_count": 9
        }
      ]
    },
    {
      "cell_type": "code",
      "source": [
        "height = input(\"How tall are you, in inches? \")\n",
        "height = int(height)\n",
        "if height >= 48:\n",
        "  print(\"\\nYou're tall enogh to ride!\")\n",
        "else:\n",
        "  print(\"\\nYou'll be able to ride when you're a little older.\")"
      ],
      "metadata": {
        "colab": {
          "base_uri": "https://localhost:8080/"
        },
        "id": "9ogpKo1aZ5rA",
        "outputId": "59c0f1d8-4c7d-48fb-8074-301bae05aaa9"
      },
      "execution_count": 10,
      "outputs": [
        {
          "output_type": "stream",
          "name": "stdout",
          "text": [
            "How tall are you, in inches? 71\n",
            "\n",
            "You're tall enogh to ride!\n"
          ]
        }
      ]
    },
    {
      "cell_type": "code",
      "source": [
        "4 % 3"
      ],
      "metadata": {
        "colab": {
          "base_uri": "https://localhost:8080/"
        },
        "id": "EqdUUK50aYWD",
        "outputId": "de5bab5d-ac38-4990-f580-e396ff5c95f3"
      },
      "execution_count": 11,
      "outputs": [
        {
          "output_type": "execute_result",
          "data": {
            "text/plain": [
              "1"
            ]
          },
          "metadata": {},
          "execution_count": 11
        }
      ]
    },
    {
      "cell_type": "code",
      "source": [
        "5 % 3"
      ],
      "metadata": {
        "colab": {
          "base_uri": "https://localhost:8080/"
        },
        "id": "PpxvKvOQabpz",
        "outputId": "a841049c-8642-4aa7-9667-7c7111ba8d61"
      },
      "execution_count": 12,
      "outputs": [
        {
          "output_type": "execute_result",
          "data": {
            "text/plain": [
              "2"
            ]
          },
          "metadata": {},
          "execution_count": 12
        }
      ]
    },
    {
      "cell_type": "code",
      "source": [
        "6 % 3"
      ],
      "metadata": {
        "colab": {
          "base_uri": "https://localhost:8080/"
        },
        "id": "oAkan3B1admN",
        "outputId": "d961c81c-d97e-4c7d-f7a6-129b5970e379"
      },
      "execution_count": 13,
      "outputs": [
        {
          "output_type": "execute_result",
          "data": {
            "text/plain": [
              "0"
            ]
          },
          "metadata": {},
          "execution_count": 13
        }
      ]
    },
    {
      "cell_type": "code",
      "source": [
        "7 % 3"
      ],
      "metadata": {
        "colab": {
          "base_uri": "https://localhost:8080/"
        },
        "id": "tfiZuD-uafXE",
        "outputId": "58a07372-765c-4dad-df31-47c315c57a5e"
      },
      "execution_count": 15,
      "outputs": [
        {
          "output_type": "execute_result",
          "data": {
            "text/plain": [
              "1"
            ]
          },
          "metadata": {},
          "execution_count": 15
        }
      ]
    },
    {
      "cell_type": "code",
      "source": [
        "number = input(\"Enter a number, and I'll tell you if it's even or odd: \")\n",
        "number = int(number)\n",
        "\n",
        "if number % 2 == 0:\n",
        "  print(f\"\\nThe number {number} is even.\")\n",
        "else:\n",
        "  print(f\"\\nThe number {number} is odd.\")"
      ],
      "metadata": {
        "colab": {
          "base_uri": "https://localhost:8080/"
        },
        "id": "864CF7Gqaopr",
        "outputId": "a5754ada-eea7-4dcd-e16c-efb004553098"
      },
      "execution_count": 16,
      "outputs": [
        {
          "output_type": "stream",
          "name": "stdout",
          "text": [
            "Enter a number, and I'll tell you if it's even or odd: 42\n",
            "\n",
            "The number 42 is even.\n"
          ]
        }
      ]
    },
    {
      "cell_type": "code",
      "source": [
        "current_number = 1\n",
        "while current_number <= 5:\n",
        "  print(current_number)\n",
        "  current_number += 1"
      ],
      "metadata": {
        "colab": {
          "base_uri": "https://localhost:8080/"
        },
        "id": "uGBdvhE6bKUS",
        "outputId": "c338fd17-f8f8-4c0d-fe1c-41463c8dcf8b"
      },
      "execution_count": 17,
      "outputs": [
        {
          "output_type": "stream",
          "name": "stdout",
          "text": [
            "1\n",
            "2\n",
            "3\n",
            "4\n",
            "5\n"
          ]
        }
      ]
    },
    {
      "cell_type": "code",
      "source": [
        "prompt = \"\\nTell me something, and I will repeat it back to you:\"\n",
        "prompt += \"\\nEnter 'quit' to end the program. \"\n",
        "\n",
        "message = \"\"\n",
        "while message != 'quit':\n",
        "  message = input(prompt)\n",
        "  print(message)"
      ],
      "metadata": {
        "colab": {
          "base_uri": "https://localhost:8080/"
        },
        "id": "kx_AuPfwbW_J",
        "outputId": "1fd86cd4-ed2e-44ff-bd54-cd66d7fc6de8"
      },
      "execution_count": 20,
      "outputs": [
        {
          "output_type": "stream",
          "name": "stdout",
          "text": [
            "\n",
            "Tell me something, and I will repeat it back to you:\n",
            "Enter 'quit' to end the program. Hello everyone!\n",
            "Hello everyone!\n",
            "\n",
            "Tell me something, and I will repeat it back to you:\n",
            "Enter 'quit' to end the program. Hello again.\n",
            "Hello again.\n",
            "\n",
            "Tell me something, and I will repeat it back to you:\n",
            "Enter 'quit' to end the program. quit\n",
            "quit\n"
          ]
        }
      ]
    },
    {
      "cell_type": "code",
      "source": [
        "prompt = \"\\nTell me something, and I will repeat it back to you:\"\n",
        "prompt += \"\\nEnter 'quit' to end the program. \"\n",
        "\n",
        "message = \"\"\n",
        "while message != 'quit':\n",
        "  message = input(prompt)\n",
        "\n",
        "  if message != 'quit':\n",
        "    print(message)"
      ],
      "metadata": {
        "colab": {
          "base_uri": "https://localhost:8080/"
        },
        "id": "Kf6OovGMb4zj",
        "outputId": "673d8b50-5b99-456b-dd9b-0c148e2412c7"
      },
      "execution_count": 21,
      "outputs": [
        {
          "name": "stdout",
          "output_type": "stream",
          "text": [
            "\n",
            "Tell me something, and I will repeat it back to you:\n",
            "Enter 'quit' to end the program. Hello everyone!\n",
            "Hello everyone!\n",
            "\n",
            "Tell me something, and I will repeat it back to you:\n",
            "Enter 'quit' to end the program. Hello again.\n",
            "Hello again.\n",
            "\n",
            "Tell me something, and I will repeat it back to you:\n",
            "Enter 'quit' to end the program. quit\n"
          ]
        }
      ]
    },
    {
      "cell_type": "code",
      "source": [
        "prompt = \"\\nTell me something, and I will repeat it back to you:\"\n",
        "prompt += \"\\nEnter 'quit' to end the program. \"\n",
        "\n",
        "active = True\n",
        "while active:\n",
        "  message = input(prompt)\n",
        "\n",
        "  if message == 'quit':\n",
        "    active = False\n",
        "  else:\n",
        "    print(message)"
      ],
      "metadata": {
        "colab": {
          "base_uri": "https://localhost:8080/"
        },
        "id": "Ho_mRaSO20II",
        "outputId": "23dd5a2a-fc32-4bdd-ac4d-a652ac5f429c"
      },
      "execution_count": 22,
      "outputs": [
        {
          "name": "stdout",
          "output_type": "stream",
          "text": [
            "\n",
            "Tell me something, and I will repeat it back to you:\n",
            "Enter 'quit' to end the program. Hello everyone!\n",
            "Hello everyone!\n",
            "\n",
            "Tell me something, and I will repeat it back to you:\n",
            "Enter 'quit' to end the program. Hello again.\n",
            "Hello again.\n",
            "\n",
            "Tell me something, and I will repeat it back to you:\n",
            "Enter 'quit' to end the program. quit\n"
          ]
        }
      ]
    },
    {
      "cell_type": "code",
      "source": [
        "prompt = \"\\nPlease enter the name of a city you have visited:\"\n",
        "prompt += \"\\n(Enter 'quit' when you are finished.) \"\n",
        "\n",
        "while True:\n",
        "  city = input(prompt)\n",
        "\n",
        "  if city == 'quit':\n",
        "    break\n",
        "  else:\n",
        "    print(f\"I'd love to go to {city.title()}\")"
      ],
      "metadata": {
        "colab": {
          "base_uri": "https://localhost:8080/"
        },
        "id": "T7kyu1eq3Si5",
        "outputId": "b4904a2c-a506-45e8-a5a3-1ee8750dc260"
      },
      "execution_count": 24,
      "outputs": [
        {
          "name": "stdout",
          "output_type": "stream",
          "text": [
            "\n",
            "Please enter the name of a city you have visited:\n",
            "(Enter 'quit' when you are finished.) New York\n",
            "I'd love to go to New York\n",
            "\n",
            "Please enter the name of a city you have visited:\n",
            "(Enter 'quit' when you are finished.) San Francisco\n",
            "I'd love to go to San Francisco\n",
            "\n",
            "Please enter the name of a city you have visited:\n",
            "(Enter 'quit' when you are finished.) quit\n"
          ]
        }
      ]
    },
    {
      "cell_type": "code",
      "source": [
        "current_number = 0\n",
        "while current_number < 10:\n",
        "  current_number += 1\n",
        "  if current_number % 2 == 0:\n",
        "    continue\n",
        "\n",
        "  print(current_number)"
      ],
      "metadata": {
        "colab": {
          "base_uri": "https://localhost:8080/"
        },
        "id": "2l-PG4he4B6Z",
        "outputId": "4ebb8f0b-f298-48c0-91e6-374f00df81fa"
      },
      "execution_count": 25,
      "outputs": [
        {
          "output_type": "stream",
          "name": "stdout",
          "text": [
            "1\n",
            "3\n",
            "5\n",
            "7\n",
            "9\n"
          ]
        }
      ]
    },
    {
      "cell_type": "code",
      "source": [
        "x = 1\n",
        "while x <= 5:\n",
        "  print(x)\n",
        "  x += 1"
      ],
      "metadata": {
        "colab": {
          "base_uri": "https://localhost:8080/"
        },
        "id": "Dll8Zw7O4jLB",
        "outputId": "b09f8dc6-1dcb-47ca-902b-6e3767283cc5"
      },
      "execution_count": 26,
      "outputs": [
        {
          "output_type": "stream",
          "name": "stdout",
          "text": [
            "1\n",
            "2\n",
            "3\n",
            "4\n",
            "5\n"
          ]
        }
      ]
    },
    {
      "cell_type": "code",
      "source": [
        "# This loop runs forever!\n",
        "x = 1\n",
        "while x <= 5:\n",
        "  print(x)"
      ],
      "metadata": {
        "id": "BV5-LyEv4qUJ"
      },
      "execution_count": null,
      "outputs": []
    },
    {
      "cell_type": "code",
      "source": [
        "# Start with users that need to be verified,\n",
        "# and an enpty list to hold confirmed users.\n",
        "unconfirmed_users = ['alice', 'brian', 'candace']\n",
        "confirmed_users =[]\n",
        "\n",
        "# Vertify each user until there are no more unconfirmed users.\n",
        "# Move each verified user into the list of confirmed users.\n",
        "while unconfirmed_users:\n",
        "  current_user = unconfirmed_users.pop()\n",
        "\n",
        "  print(f\"Verifying user: {current_user.title()}\")\n",
        "  confirmed_users.append(current_user)\n",
        "\n",
        "# Display all confirmed users.\n",
        "print(\"\\nThe following users have been confirmed:\")\n",
        "for confirmed_user in confirmed_users:\n",
        "  print(confirmed_user.title())"
      ],
      "metadata": {
        "colab": {
          "base_uri": "https://localhost:8080/"
        },
        "id": "MLLL3SJO41w5",
        "outputId": "20cc1d4a-ee69-4aec-bae6-d0ad97cefc2c"
      },
      "execution_count": 28,
      "outputs": [
        {
          "output_type": "stream",
          "name": "stdout",
          "text": [
            "Verifying user: Candace\n",
            "Verifying user: Brian\n",
            "Verifying user: Alice\n",
            "\n",
            "The following users have been confirmed:\n",
            "Candace\n",
            "Brian\n",
            "Alice\n"
          ]
        }
      ]
    },
    {
      "cell_type": "code",
      "source": [
        "pets = ['dog', 'cat', 'dog', 'goldfish', 'cat', 'rabbit', 'cat']\n",
        "print(pets)\n",
        "\n",
        "while 'cat' in pets:\n",
        "  pets.remove('cat')\n",
        "\n",
        "print(pets)"
      ],
      "metadata": {
        "colab": {
          "base_uri": "https://localhost:8080/"
        },
        "id": "amxL_BJc6W9U",
        "outputId": "5cc115f7-c62f-45d7-aadb-987308e077b0"
      },
      "execution_count": 29,
      "outputs": [
        {
          "output_type": "stream",
          "name": "stdout",
          "text": [
            "['dog', 'cat', 'dog', 'goldfish', 'cat', 'rabbit', 'cat']\n",
            "['dog', 'dog', 'goldfish', 'rabbit']\n"
          ]
        }
      ]
    },
    {
      "cell_type": "code",
      "source": [
        "responses = {}\n",
        "# Set a flag to indicate that polling is active.\n",
        "polling_active = True\n",
        "while polling_active:\n",
        "  # Prompt for the person's name and response.\n",
        "  name = input(\"\\nWhat is your name?\")\n",
        "  response = input(\"Which mountain would you like to climb someday? \")\n",
        "\n",
        "  # Store the response in the dictionary.\n",
        "  responses[name] = response\n",
        "\n",
        "  #Find out if anyone else is going to take the poll.\n",
        "  repeat = input(\"Would you like to let another person respond? (yes/no) \")\n",
        "  if repeat == 'no':\n",
        "    polling_active = False\n",
        "\n",
        "# Polling is complete. Show the results.\n",
        "print(\"\\n--- Poll Results ---\")\n",
        "for name, response in responses.items():\n",
        "  print(f\"{name} would like to climb {response}.\")"
      ],
      "metadata": {
        "colab": {
          "base_uri": "https://localhost:8080/"
        },
        "id": "jtTUb_do6rwi",
        "outputId": "3032cbc8-2a29-4e4f-bab4-a13f79ca53f2"
      },
      "execution_count": 33,
      "outputs": [
        {
          "output_type": "stream",
          "name": "stdout",
          "text": [
            "\n",
            "What is your name?Eric\n",
            "Which mountain would you like to climb someday? Denali\n",
            "Would you like to let another person respond? (yes/no) yes\n",
            "\n",
            "What is your name?Lynn\n",
            "Which mountain would you like to climb someday? Devil's Thumb\n",
            "Would you like to let another person respond? (yes/no) no\n",
            "\n",
            "--- Poll Results ---\n",
            "Eric would like to climb Denali.\n",
            "Lynn would like to climb Devil's Thumb.\n"
          ]
        }
      ]
    },
    {
      "cell_type": "markdown",
      "source": [
        "Try it yourself 7-1, 7-3, 7-5, 7-6, and 7-8"
      ],
      "metadata": {
        "id": "8NkdC33V9cFB"
      }
    },
    {
      "cell_type": "code",
      "source": [
        "car_user = input(\"What kind of rentalcar you would like? \")\n",
        "print(f\"Let me see if I can find you a {car_user}.\")"
      ],
      "metadata": {
        "colab": {
          "base_uri": "https://localhost:8080/"
        },
        "id": "9XgpGpW89iTM",
        "outputId": "26f5ee89-4704-4cf2-c34f-559d6581f19e"
      },
      "execution_count": 35,
      "outputs": [
        {
          "output_type": "stream",
          "name": "stdout",
          "text": [
            "What kind of rentalcar you would like? Subaru\n",
            "Let me see if I can find you a Subaru.\n"
          ]
        }
      ]
    },
    {
      "cell_type": "code",
      "source": [
        " number = int(input(\"Enter a number: \"))\n",
        "\n",
        " if number % 10 == 0:\n",
        "  print(f\"{number} is a multiple of 10.\")\n",
        "else:\n",
        "  print(f\"{number} is not a multiple of 10.\")"
      ],
      "metadata": {
        "colab": {
          "base_uri": "https://localhost:8080/"
        },
        "id": "qEsJRpzb-rkj",
        "outputId": "cb665ae6-554a-481a-a526-40a25826177c"
      },
      "execution_count": 2,
      "outputs": [
        {
          "output_type": "stream",
          "name": "stdout",
          "text": [
            "Enter a number: 10\n",
            "10 is a multiple of 10.\n"
          ]
        }
      ]
    },
    {
      "cell_type": "code",
      "source": [
        "while True:\n",
        "    try:\n",
        "        age = int(input(\"Enter your age (or type '0' to exit): \"))\n",
        "\n",
        "        if age < 0:\n",
        "            print(\"Age cannot be negative. Please enter a valid age.\")\n",
        "        elif age == 0:\n",
        "            print(\"Exiting the program.\")\n",
        "            break\n",
        "        elif age < 3:\n",
        "            print(\"Your ticket is free.\")\n",
        "        elif age >= 3 and age <= 12:\n",
        "            print(\"Your ticket costs $10.\")\n",
        "        else:\n",
        "            print(\"Your ticket costs $15.\")\n",
        "    except ValueError:\n",
        "        print(\"Invalid input. Please enter a valid age.\")"
      ],
      "metadata": {
        "colab": {
          "base_uri": "https://localhost:8080/"
        },
        "id": "doEUfG2RZOII",
        "outputId": "417fde32-7daf-4163-c84e-113b8c4878b9"
      },
      "execution_count": 4,
      "outputs": [
        {
          "output_type": "stream",
          "name": "stdout",
          "text": [
            "Enter your age (or type '0' to exit): 21\n",
            "Your ticket costs $15.\n",
            "Enter your age (or type '0' to exit): e\n",
            "Invalid input. Please enter a valid age.\n",
            "Enter your age (or type '0' to exit): 18\n",
            "Your ticket costs $15.\n",
            "Enter your age (or type '0' to exit): 2\n",
            "Your ticket is free.\n",
            "Enter your age (or type '0' to exit): 11\n",
            "Your ticket costs $10.\n",
            "Enter your age (or type '0' to exit): 0\n",
            "Exiting the program.\n"
          ]
        }
      ]
    },
    {
      "cell_type": "code",
      "source": [
        "print(\"Enter your pizza toppings. Type 'quit' to exit.\")\n",
        "while True:\n",
        "    topping = input(\"Add a topping: \")\n",
        "    if topping == 'quit':\n",
        "        break\n",
        "    print(f\"Adding {topping} to your pizza.\")\n",
        "\n",
        "active = True\n",
        "print(\"Enter your pizza toppings. Type 'quit' to exit.\")\n",
        "while active:\n",
        "    topping = input(\"Add a topping: \")\n",
        "    if topping == 'quit':\n",
        "        active = False\n",
        "    else:\n",
        "        print(f\"Adding {topping} to your pizza.\")\n",
        "\n",
        "print(\"Enter your pizza toppings. Type 'quit' to exit.\")\n",
        "while True:\n",
        "    topping = input(\"Add a topping: \")\n",
        "    if topping == 'quit':\n",
        "        break\n",
        "    print(f\"Adding {topping} to your pizza.\")"
      ],
      "metadata": {
        "colab": {
          "base_uri": "https://localhost:8080/"
        },
        "id": "M3LDm76IZ9ry",
        "outputId": "64b9f99a-2ba1-43c1-86e5-915e6a8744de"
      },
      "execution_count": 5,
      "outputs": [
        {
          "name": "stdout",
          "output_type": "stream",
          "text": [
            "Enter your pizza toppings. Type 'quit' to exit.\n",
            "Add a topping: pepperoni\n",
            "Adding pepperoni to your pizza.\n",
            "Add a topping: extra cheese\n",
            "Adding extra cheese to your pizza.\n",
            "Add a topping: quit\n",
            "Enter your pizza toppings. Type 'quit' to exit.\n",
            "Add a topping: tomato\n",
            "Adding tomato to your pizza.\n",
            "Add a topping: ham\n",
            "Adding ham to your pizza.\n",
            "Add a topping: quit\n",
            "Enter your pizza toppings. Type 'quit' to exit.\n",
            "Add a topping: becon\n",
            "Adding becon to your pizza.\n",
            "Add a topping: mayonase\n",
            "Adding mayonase to your pizza.\n",
            "Add a topping: quit\n"
          ]
        }
      ]
    },
    {
      "cell_type": "code",
      "source": [
        "while True:\n",
        "    try:\n",
        "        age = int(input(\"Enter your age (or type '0' to exit): \"))\n",
        "\n",
        "        if age < 0:\n",
        "            print(\"Age cannot be negative. Please enter a valid age.\")\n",
        "        elif age == 0:\n",
        "            print(\"Exiting the program.\")\n",
        "            break\n",
        "        elif age < 3:\n",
        "            print(\"Your ticket is free.\")\n",
        "        elif age >= 3 and age <= 12:\n",
        "            print(\"Your ticket costs $10.\")\n",
        "        else:\n",
        "            print(\"Your ticket costs $15.\")\n",
        "    except ValueError:\n",
        "        print(\"Invalid input. Please enter a valid age.\")\n",
        "\n",
        "active = True\n",
        "while active:\n",
        "    try:\n",
        "        age = int(input(\"Enter your age (or type '0' to exit): \"))\n",
        "\n",
        "        if age < 0:\n",
        "            print(\"Age cannot be negative. Please enter a valid age.\")\n",
        "        elif age == 0:\n",
        "            print(\"Exiting the program.\")\n",
        "            active = False\n",
        "        elif age < 3:\n",
        "            print(\"Your ticket is free.\")\n",
        "        elif age >= 3 and age <= 12:\n",
        "            print(\"Your ticket costs $10.\")\n",
        "        else:\n",
        "            print(\"Your ticket costs $15.\")\n",
        "    except ValueError:\n",
        "        print(\"Invalid input. Please enter a valid age.\")\n",
        "\n",
        "\n",
        "while True:\n",
        "    try:\n",
        "        age = input(\"Enter your age (or type 'quit' to exit): \")\n",
        "        if age == 'quit':\n",
        "            print(\"Exiting the program.\")\n",
        "            break\n",
        "        age = int(age)\n",
        "\n",
        "        if age < 0:\n",
        "            print(\"Age cannot be negative. Please enter a valid age.\")\n",
        "        elif age < 3:\n",
        "            print(\"Your ticket is free.\")\n",
        "        elif age >= 3 and age <= 12:\n",
        "            print(\"Your ticket costs $10.\")\n",
        "        else:\n",
        "            print(\"Your ticket costs $15.\")\n",
        "    except ValueError:\n",
        "        print(\"Invalid input. Please enter a valid age.\")"
      ],
      "metadata": {
        "colab": {
          "base_uri": "https://localhost:8080/"
        },
        "id": "GjP9VBXYawjW",
        "outputId": "c29e026c-9de5-48a1-c900-944291de749e"
      },
      "execution_count": 7,
      "outputs": [
        {
          "output_type": "stream",
          "name": "stdout",
          "text": [
            "Enter your age (or type '0' to exit): 1\n",
            "Your ticket is free.\n",
            "Enter your age (or type '0' to exit): 11\n",
            "Your ticket costs $10.\n",
            "Enter your age (or type '0' to exit): 21\n",
            "Your ticket costs $15.\n",
            "Enter your age (or type '0' to exit): 0\n",
            "Exiting the program.\n",
            "Enter your age (or type '0' to exit): 1\n",
            "Your ticket is free.\n",
            "Enter your age (or type '0' to exit): 11\n",
            "Your ticket costs $10.\n",
            "Enter your age (or type '0' to exit): 21\n",
            "Your ticket costs $15.\n",
            "Enter your age (or type '0' to exit): 0\n",
            "Exiting the program.\n",
            "Enter your age (or type 'quit' to exit): 1\n",
            "Your ticket is free.\n",
            "Enter your age (or type 'quit' to exit): 11\n",
            "Your ticket costs $10.\n",
            "Enter your age (or type 'quit' to exit): 21\n",
            "Your ticket costs $15.\n",
            "Enter your age (or type 'quit' to exit): quit\n",
            "Exiting the program.\n"
          ]
        }
      ]
    },
    {
      "cell_type": "code",
      "source": [
        "sandwich_orders = [\"tuna\", \"turkey\", \"pastrami\", \"ham and cheese\", \"vegetarian\", \"chicken\"]\n",
        "\n",
        "finished_sandwiches = []\n",
        "\n",
        "while sandwich_orders:\n",
        "  current_order = sandwich_orders.pop(0)\n",
        "  print(f\"I made your {current_order} sandwich.\")\n",
        "  finished_sandwiches.append(current_order)\n",
        "\n",
        "print(\"\\nList of finished sandwiches:\")\n",
        "for sandwich in finished_sandwiches:\n",
        "    print(sandwich)"
      ],
      "metadata": {
        "colab": {
          "base_uri": "https://localhost:8080/"
        },
        "id": "stpJF15ecg2V",
        "outputId": "112d33f4-942a-4d8b-9eed-688c818832a5"
      },
      "execution_count": 8,
      "outputs": [
        {
          "output_type": "stream",
          "name": "stdout",
          "text": [
            "I made your tuna sandwich.\n",
            "I made your turkey sandwich.\n",
            "I made your pastrami sandwich.\n",
            "I made your ham and cheese sandwich.\n",
            "I made your vegetarian sandwich.\n",
            "I made your chicken sandwich.\n",
            "\n",
            "List of finished sandwiches:\n",
            "tuna\n",
            "turkey\n",
            "pastrami\n",
            "ham and cheese\n",
            "vegetarian\n",
            "chicken\n"
          ]
        }
      ]
    },
    {
      "cell_type": "code",
      "source": [
        "total = 0\n",
        "\n",
        "while True:\n",
        "\n",
        "  user_input = input(\"Enter a number (or 'q' to quit): \")\n",
        "  if user_input.lower() == 'q':\n",
        "          break\n",
        "  try:\n",
        "    num = float(user_input)\n",
        "  except ValueError:\n",
        "        print(\"Invalid input. Please enter a valid number.\")\n",
        "        continue\n",
        "\n",
        "  operator = input(\"Enter an operator (+, -, *, /) or enter 'q' to quit: \")\n",
        "  if operator == 'q':\n",
        "        break\n",
        "  if operator == '+':\n",
        "        total += num\n",
        "  elif operator == '-':\n",
        "        total -= num\n",
        "  elif operator == '*':\n",
        "        total *= num\n",
        "  elif operator == '/':\n",
        "\n",
        "      if num == 0:\n",
        "            print(\"Division by zero is not allowed.\")\n",
        "      else:\n",
        "            total /= num\n",
        "  else:\n",
        "        print(\"Invalid operator. Please enter +, -, *, /, or 'q' to quit.\")\n",
        "\n",
        "  print(f\"Current total: {total}\")\n",
        "\n",
        "print(\"Calculator program has ended.\")"
      ],
      "metadata": {
        "colab": {
          "base_uri": "https://localhost:8080/"
        },
        "id": "Z83HgmnEdEIh",
        "outputId": "50faf8f8-eaec-47bd-d44c-b1453d41e0c2"
      },
      "execution_count": 19,
      "outputs": [
        {
          "output_type": "stream",
          "name": "stdout",
          "text": [
            "Enter a number (or 'q' to quit): 10\n",
            "Enter an operator (+, -, *, /) or enter 'q' to quit: +\n",
            "Current total: 10.0\n",
            "Enter a number (or 'q' to quit): 10\n",
            "Enter an operator (+, -, *, /) or enter 'q' to quit: -\n",
            "Current total: 0.0\n",
            "Enter a number (or 'q' to quit): 10\n",
            "Enter an operator (+, -, *, /) or enter 'q' to quit: *\n",
            "Current total: 0.0\n",
            "Enter a number (or 'q' to quit): 10\n",
            "Enter an operator (+, -, *, /) or enter 'q' to quit: /\n",
            "Current total: 0.0\n",
            "Enter a number (or 'q' to quit): 10\n",
            "Enter an operator (+, -, *, /) or enter 'q' to quit: +\n",
            "Current total: 10.0\n",
            "Enter a number (or 'q' to quit): 20\n",
            "Enter an operator (+, -, *, /) or enter 'q' to quit: *\n",
            "Current total: 200.0\n",
            "Enter a number (or 'q' to quit): 5\n",
            "Enter an operator (+, -, *, /) or enter 'q' to quit: /\n",
            "Current total: 40.0\n",
            "Enter a number (or 'q' to quit): q\n",
            "Calculator program has ended.\n"
          ]
        }
      ]
    },
    {
      "cell_type": "code",
      "source": [],
      "metadata": {
        "id": "wdAGPC6UefwL"
      },
      "execution_count": null,
      "outputs": []
    }
  ]
}