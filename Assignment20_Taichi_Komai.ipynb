{
  "nbformat": 4,
  "nbformat_minor": 0,
  "metadata": {
    "colab": {
      "provenance": [],
      "include_colab_link": true
    },
    "kernelspec": {
      "name": "python3",
      "display_name": "Python 3"
    },
    "language_info": {
      "name": "python"
    }
  },
  "cells": [
    {
      "cell_type": "markdown",
      "metadata": {
        "id": "view-in-github",
        "colab_type": "text"
      },
      "source": [
        "<a href=\"https://colab.research.google.com/github/tkoma1122/CSC221_tkoma001/blob/main/Assignment20_Taichi_Komai.ipynb\" target=\"_parent\"><img src=\"https://colab.research.google.com/assets/colab-badge.svg\" alt=\"Open In Colab\"/></a>"
      ]
    },
    {
      "cell_type": "markdown",
      "source": [
        "# Assignment 20\n",
        "## CSC 221\n",
        "Taichi Komai\n",
        "\n",
        "### Instructions:\n",
        "Fill in each code cell below the question. We are following along in Chapter 4 of Python Distilled."
      ],
      "metadata": {
        "id": "IAOUzGWE1eDx"
      }
    },
    {
      "cell_type": "code",
      "execution_count": 2,
      "metadata": {
        "id": "Gnj3su7i5-lx",
        "colab": {
          "base_uri": "https://localhost:8080/"
        },
        "outputId": "18cd5b45-3eb9-479b-bce6-796bd6868d6a"
      },
      "outputs": [
        {
          "output_type": "stream",
          "name": "stdout",
          "text": [
            "19\n",
            "44.5\n",
            "asdfg13\n"
          ]
        }
      ],
      "source": [
        "# 4.1 Essential Concepts\n",
        "\n",
        "# When we write \"a + b\" in Python, the interpreter tries to execute a.__add__(b)\n",
        "\n",
        "# Show that this is true by trying the following:\n",
        "a = 6\n",
        "b = 31.5\n",
        "c = 'asdfg'\n",
        "a1 = a.__add__(13)\n",
        "b1 = b.__add__(13)\n",
        "c1 = c.__add__('13')\n",
        "print(a1)\n",
        "print(b1)\n",
        "print(c1)\n",
        "\n",
        "# What are the types of a, b, and c?\n",
        "# a is an integer, b is a float, c is a string.\n",
        "\n",
        "# Explain the results\n",
        "# a1 = adds 13 to the integer value of a (6).\n",
        "# b1 = adds 13 to the float value of b (31.5).\n",
        "# c1 = concatenates the string value of c ('asdfg')."
      ]
    },
    {
      "cell_type": "code",
      "source": [
        "# 4.2 through 4.4 will be covered in the next assignment\n"
      ],
      "metadata": {
        "id": "w2uYd3DO2do6"
      },
      "execution_count": null,
      "outputs": []
    },
    {
      "cell_type": "code",
      "source": [
        "# 4.5 str and repr\n",
        "# How many categpries of printing are shown below for a datetime object?\n",
        "# What in the Pythion code makes each one get callled?\n",
        "\n",
        "from datetime import date\n",
        "d = date(2023, 11, 7)\n",
        "\n",
        "# Standard print - calls __str__ if available, otherwise falls back to __repr__\n",
        "print(d)\n",
        "\n",
        "# Using f-string - similar to the standard print, it calls __str__ if available\n",
        "print(f'{d}')\n",
        "\n",
        "# Explicitly calling __str__ with the !s format specifier\n",
        "print(f'{d!s}')\n",
        "\n",
        "# Explicitly calling __repr__ with the !r format specifier\n",
        "print(f'{d!r}')\n",
        "\n",
        "# Calling str() function\n",
        "print(str(d))\n",
        "\n",
        "# Calling repr() function\n",
        "print(repr(d))\n",
        "\n",
        "# Explicitly calling __str__ method\n",
        "print(d.__str__())\n",
        "\n",
        "# Explicitly calling __repr__ method\n",
        "print(d.__repr__())\n",
        "\n"
      ],
      "metadata": {
        "id": "Aa3ylzmV2wNF",
        "colab": {
          "base_uri": "https://localhost:8080/"
        },
        "outputId": "ed6ea35d-9349-4904-dac6-120dc8642a3a"
      },
      "execution_count": 3,
      "outputs": [
        {
          "output_type": "stream",
          "name": "stdout",
          "text": [
            "2023-11-07\n",
            "2023-11-07\n",
            "2023-11-07\n",
            "datetime.date(2023, 11, 7)\n",
            "2023-11-07\n",
            "datetime.date(2023, 11, 7)\n",
            "2023-11-07\n",
            "datetime.date(2023, 11, 7)\n"
          ]
        }
      ]
    },
    {
      "cell_type": "code",
      "source": [
        "# 4.6 First-Class Objects\n",
        "# What is the significance of all objects being \"first-class\" in Python?\n",
        "\n",
        "# Explain by typing in the code to create and use the 'items' dictionary shown in section 4.6.\n",
        "# Explain each of the lines starting with '>>>' in the section.\n",
        "\n",
        "# Creating a dictionary named 'items'\n",
        "items = {\n",
        "    'apple': 2.99,\n",
        "    'banana': 1.99,\n",
        "    'orange': 3.49\n",
        "}\n",
        "\n",
        "# Accessing the value associated with the key 'banana'\n",
        "# >>> items['banana']\n",
        "# Output: 1.99\n",
        "\n",
        "# Assigning the value associated with the key 'orange' to the variable 'price'\n",
        "# >>> price = items['orange']\n",
        "# Now 'price' holds the value 3.49\n",
        "\n",
        "# Defining a function 'calculate_total' that takes a dictionary and returns the total value of all items\n",
        "# >>> def calculate_total(items):\n",
        "# ...     total = sum(items.values())\n",
        "# ...     return total\n",
        "# ...\n",
        "# >>> calculate_total(items)\n",
        "# Output: 8.47\n",
        "\n",
        "# Assigning the function 'calculate_total' to the variable 'calculate'\n",
        "# >>> calculate = calculate_total\n",
        "# >>> calculate(items)\n",
        "# Output: 8.47\n"
      ],
      "metadata": {
        "id": "9LRpP06Vsw6n"
      },
      "execution_count": 5,
      "outputs": []
    },
    {
      "cell_type": "code",
      "source": [
        "# 4.7 Using None\n",
        "# Write a function that takes two parameters and returns their sum if they are\n",
        "#  integers or returns None if either one is not.\n",
        "\n",
        "# Put in some test code to show that your function works\n",
        "\n",
        "# INSERT YOUR CODE HERE\n",
        "\n",
        "def add_integers(x, y):\n",
        "    if isinstance(x, int) and isinstance(y, int):\n",
        "        return x + y\n",
        "    else:\n",
        "        return None\n",
        "\n",
        "# Test cases\n",
        "result1 = add_integers(3, 5)\n",
        "print(result1)  # Output: 8\n",
        "\n",
        "result2 = add_integers(4, '7')\n",
        "print(result2)  # Output: None, as '7' is not an integer\n",
        "\n",
        "result3 = add_integers('2', 6)\n",
        "print(result3)  # Output: None, as '2' is not an integer\n"
      ],
      "metadata": {
        "id": "dUhRWGnCtewU",
        "colab": {
          "base_uri": "https://localhost:8080/"
        },
        "outputId": "031d5194-21c3-487f-feb9-6c58b427931e"
      },
      "execution_count": 6,
      "outputs": [
        {
          "output_type": "stream",
          "name": "stdout",
          "text": [
            "8\n",
            "None\n",
            "None\n"
          ]
        }
      ]
    },
    {
      "cell_type": "code",
      "source": [
        "# 4.9 Object Protocol\n",
        "# Create a simple object that has methods for:\n",
        "#  __new__\n",
        "#  __init__\n",
        "#  __del__\n",
        "#  __repr__\n",
        "#  __str__\n",
        "\n",
        "# Put in some test code to show how and when each of these 'magic' functions gets called.\n",
        "\n",
        "# INSERT YOUR CODE HERE\n",
        "\n",
        "class SimpleObject:\n",
        "    def __new__(cls, *args, **kwargs):\n",
        "        # This method is called before __init__\n",
        "        print(\"__new__ is called\")\n",
        "        instance = super().__new__(cls)\n",
        "        return instance\n",
        "\n",
        "    def __init__(self, name):\n",
        "        # This method is called after __new__\n",
        "        print(\"__init__ is called\")\n",
        "        self.name = name\n",
        "\n",
        "    def __del__(self):\n",
        "        # This method is called when the object is about to be destroyed\n",
        "        print(\"__del__ is called\")\n",
        "\n",
        "    def __repr__(self):\n",
        "        # This method returns a string representation of the object, used by repr()\n",
        "        return f\"SimpleObject(name={self.name})\"\n",
        "\n",
        "    def __str__(self):\n",
        "        # This method returns a human-readable string, used by str()\n",
        "        return f\"SimpleObject: {self.name}\"\n",
        "\n",
        "# Creating an instance of SimpleObject\n",
        "obj = SimpleObject(\"Example\")\n",
        "\n",
        "# Printing the object triggers the __repr__ method\n",
        "print(obj)  # Output: SimpleObject: Example\n",
        "\n",
        "# Deleting the object triggers the __del__ method\n",
        "del obj  # Output: __del__ is called\n"
      ],
      "metadata": {
        "id": "4M-CQevEt2xQ",
        "colab": {
          "base_uri": "https://localhost:8080/"
        },
        "outputId": "f7f481e3-5517-4e82-8368-56c474f4763e"
      },
      "execution_count": 7,
      "outputs": [
        {
          "output_type": "stream",
          "name": "stdout",
          "text": [
            "__new__ is called\n",
            "__init__ is called\n",
            "SimpleObject: Example\n",
            "__del__ is called\n"
          ]
        }
      ]
    }
  ]
}