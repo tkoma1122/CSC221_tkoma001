{
  "nbformat": 4,
  "nbformat_minor": 0,
  "metadata": {
    "colab": {
      "provenance": [],
      "authorship_tag": "ABX9TyMJB6mMhPYASPDxz+/Hh+1C",
      "include_colab_link": true
    },
    "kernelspec": {
      "name": "python3",
      "display_name": "Python 3"
    },
    "language_info": {
      "name": "python"
    }
  },
  "cells": [
    {
      "cell_type": "markdown",
      "metadata": {
        "id": "view-in-github",
        "colab_type": "text"
      },
      "source": [
        "<a href=\"https://colab.research.google.com/github/tkoma1122/CSC221_tkoma001/blob/main/Assignment23_25_Taichi_Komai.ipynb\" target=\"_parent\"><img src=\"https://colab.research.google.com/assets/colab-badge.svg\" alt=\"Open In Colab\"/></a>"
      ]
    },
    {
      "cell_type": "markdown",
      "source": [
        "###Function With Positional Arguments"
      ],
      "metadata": {
        "id": "KoWJb1QY35pS"
      }
    },
    {
      "cell_type": "code",
      "execution_count": 1,
      "metadata": {
        "colab": {
          "base_uri": "https://localhost:8080/"
        },
        "id": "4pxXJhGF3fa6",
        "outputId": "0b9d7ba1-0185-4149-bb80-e8aa317c7861"
      },
      "outputs": [
        {
          "output_type": "stream",
          "name": "stdout",
          "text": [
            "7\n"
          ]
        }
      ],
      "source": [
        "def func(a, b):\n",
        "    return a + b\n",
        "\n",
        "# Test\n",
        "result = func(3, 4)\n",
        "print(result)  # Output: 7\n"
      ]
    },
    {
      "cell_type": "markdown",
      "source": [
        "###Function with Variadic Arguments"
      ],
      "metadata": {
        "id": "3tVoM-ti4Epl"
      }
    },
    {
      "cell_type": "code",
      "source": [
        "def func(*args):\n",
        "    return sum(args)\n",
        "\n",
        "# Test\n",
        "result = func(1, 2, 3, 4)\n",
        "print(result)  # Output: 10\n"
      ],
      "metadata": {
        "colab": {
          "base_uri": "https://localhost:8080/"
        },
        "id": "3RsvYgZE3pLS",
        "outputId": "5947fd48-e064-4603-d5dc-3947df2d027b"
      },
      "execution_count": 2,
      "outputs": [
        {
          "output_type": "stream",
          "name": "stdout",
          "text": [
            "10\n"
          ]
        }
      ]
    },
    {
      "cell_type": "markdown",
      "source": [
        "###Function with Keyword Arguments"
      ],
      "metadata": {
        "id": "pw7ekEob4IuA"
      }
    },
    {
      "cell_type": "code",
      "source": [
        "def func(**kwargs):\n",
        "    return kwargs\n",
        "\n",
        "# Test\n",
        "result = func(a=1, b=2, c=3)\n",
        "print(result)  # Output: {'a': 1, 'b': 2, 'c': 3}\n"
      ],
      "metadata": {
        "colab": {
          "base_uri": "https://localhost:8080/"
        },
        "id": "JFqS0TlM3tWJ",
        "outputId": "bd5029b7-14aa-4f5b-b004-94b98a0529fd"
      },
      "execution_count": 3,
      "outputs": [
        {
          "output_type": "stream",
          "name": "stdout",
          "text": [
            "{'a': 1, 'b': 2, 'c': 3}\n"
          ]
        }
      ]
    },
    {
      "cell_type": "markdown",
      "source": [
        "###Function with Mixed Arguments"
      ],
      "metadata": {
        "id": "-Igw06dS4Lvn"
      }
    },
    {
      "cell_type": "code",
      "source": [
        "def func(*args, **kwargs):\n",
        "    operator = kwargs.get('operator', '+')\n",
        "    if operator == '+':\n",
        "        return sum(args)\n",
        "    elif operator == '-':\n",
        "        return args[0] - sum(args[1:])\n",
        "\n",
        "# Test\n",
        "result_add = func(1, 2, 3, 4, operator='+')\n",
        "print(result_add)  # Output: 10\n",
        "\n",
        "result_sub = func(10, 2, 3, 4, operator='-')\n",
        "print(result_sub)  # Output: 1\n"
      ],
      "metadata": {
        "colab": {
          "base_uri": "https://localhost:8080/"
        },
        "id": "oRwfSXRk3vrT",
        "outputId": "728ac9f2-3065-4dc4-aad6-1874c155233e"
      },
      "execution_count": 4,
      "outputs": [
        {
          "output_type": "stream",
          "name": "stdout",
          "text": [
            "10\n",
            "1\n"
          ]
        }
      ]
    },
    {
      "cell_type": "markdown",
      "source": [
        "###Global Variable and Function to Modify Its Value"
      ],
      "metadata": {
        "id": "JUgpjGfX4PUW"
      }
    },
    {
      "cell_type": "code",
      "source": [
        "global_var = 10\n",
        "\n",
        "def modify_global():\n",
        "    global global_var\n",
        "    global_var += 5\n",
        "\n",
        "modify_global()\n",
        "print(global_var)  # Output: 15\n"
      ],
      "metadata": {
        "colab": {
          "base_uri": "https://localhost:8080/"
        },
        "id": "3b13Y6eX3zDL",
        "outputId": "667bbceb-7b28-4265-d653-aea75b38bb02"
      },
      "execution_count": 5,
      "outputs": [
        {
          "output_type": "stream",
          "name": "stdout",
          "text": [
            "15\n"
          ]
        }
      ]
    },
    {
      "cell_type": "markdown",
      "source": [
        "###Lambda Function for Sorting by Number of Vowels"
      ],
      "metadata": {
        "id": "riLjphCD4Sc4"
      }
    },
    {
      "cell_type": "code",
      "source": [
        "sorted_by_vowels = lambda words: sorted(words, key=lambda word: sum(1 for char in word if char.lower() in 'aeiou'))\n",
        "\n",
        "# Test\n",
        "words = ['apple', 'banana', 'pear', 'grape']\n",
        "sorted_words = sorted_by_vowels(words)\n",
        "print(sorted_words)  # Output: ['pear', 'grape', 'apple', 'banana']\n"
      ],
      "metadata": {
        "colab": {
          "base_uri": "https://localhost:8080/"
        },
        "id": "58U3V8Hu33N7",
        "outputId": "7e5e34b7-a977-4c07-9c75-ef142d7d9bfa"
      },
      "execution_count": 6,
      "outputs": [
        {
          "output_type": "stream",
          "name": "stdout",
          "text": [
            "['apple', 'pear', 'grape', 'banana']\n"
          ]
        }
      ]
    },
    {
      "cell_type": "markdown",
      "source": [
        "###Logger Decorator"
      ],
      "metadata": {
        "id": "-diiV9x_34bo"
      }
    },
    {
      "cell_type": "code",
      "source": [
        "def logger(func):\n",
        "    def wrapper(*args, **kwargs):\n",
        "        result = func(*args, **kwargs)\n",
        "        with open('log.txt', 'a') as file:\n",
        "            file.write(f\"Function: {func.__name__}, Args: {args}, Kwargs: {kwargs}, Result: {result}\\n\")\n",
        "        return result\n",
        "    return wrapper\n",
        "\n",
        "# Example function to decorate\n",
        "@logger\n",
        "def add(a, b):\n",
        "    return a + b\n",
        "\n",
        "# Test\n",
        "result = add(3, 5)\n",
        "# Check log.txt file for logged information\n"
      ],
      "metadata": {
        "id": "NIvtBENa4gCO"
      },
      "execution_count": 7,
      "outputs": []
    },
    {
      "cell_type": "markdown",
      "source": [
        "###Map, Filter, Reduce Operations\n"
      ],
      "metadata": {
        "id": "vEdsWqM54cb1"
      }
    },
    {
      "cell_type": "code",
      "source": [
        "# Map\n",
        "numbers = [1, 2, 3, 4, 5]\n",
        "squared = list(map(lambda x: x**2, numbers))\n",
        "print(squared)  # Output: [1, 4, 9, 16, 25]\n",
        "\n",
        "# Filter\n",
        "even_numbers = list(filter(lambda x: x % 2 == 0, numbers))\n",
        "print(even_numbers)  # Output: [2, 4]\n",
        "\n",
        "# Reduce\n",
        "from functools import reduce\n",
        "product = reduce(lambda x, y: x * y, numbers)\n",
        "print(product)  # Output: 120 (1 * 2 * 3 * 4 * 5)\n"
      ],
      "metadata": {
        "colab": {
          "base_uri": "https://localhost:8080/"
        },
        "id": "FdqvhHuh4uF7",
        "outputId": "36cd452a-27d7-49a2-abf8-724eceeddf99"
      },
      "execution_count": 8,
      "outputs": [
        {
          "output_type": "stream",
          "name": "stdout",
          "text": [
            "[1, 4, 9, 16, 25]\n",
            "[2, 4]\n",
            "120\n"
          ]
        }
      ]
    },
    {
      "cell_type": "markdown",
      "source": [
        "###Simple Calculator Using exec"
      ],
      "metadata": {
        "id": "u9xzwPaR4wdW"
      }
    },
    {
      "cell_type": "code",
      "source": [
        "while True:\n",
        "    expression = input(\"Enter an expression (e.g., '5 + 3 - 8 / 12'): \")\n",
        "    if expression.lower() == 'exit':\n",
        "        break\n",
        "    try:\n",
        "        result = eval(expression)\n",
        "        print(\"Result:\", result)\n",
        "    except Exception as e:\n",
        "        print(\"Error:\", e)\n"
      ],
      "metadata": {
        "colab": {
          "base_uri": "https://localhost:8080/"
        },
        "id": "k1m2buPr4zzf",
        "outputId": "6fdd5703-ca33-4956-ccd7-58130613c86b"
      },
      "execution_count": 9,
      "outputs": [
        {
          "name": "stdout",
          "output_type": "stream",
          "text": [
            "Enter an expression (e.g., '5 + 3 - 8 / 12'): 5+38*2/3\n",
            "Result: 30.333333333333332\n",
            "Enter an expression (e.g., '5 + 3 - 8 / 12'): exit\n"
          ]
        }
      ]
    }
  ]
}