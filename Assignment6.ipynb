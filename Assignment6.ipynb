{
  "nbformat": 4,
  "nbformat_minor": 0,
  "metadata": {
    "colab": {
      "provenance": []
    },
    "kernelspec": {
      "name": "python3",
      "display_name": "Python 3"
    },
    "language_info": {
      "name": "python"
    }
  },
  "cells": [
    {
      "cell_type": "code",
      "execution_count": 1,
      "metadata": {
        "colab": {
          "base_uri": "https://localhost:8080/"
        },
        "id": "fBhBeyMpOdK4",
        "outputId": "7b6cc55b-910e-4e1d-fb1f-b57c4e97f2b7"
      },
      "outputs": [
        {
          "output_type": "stream",
          "name": "stdout",
          "text": [
            "Audi\n",
            "BMW\n",
            "Subaru\n",
            "Toyota\n"
          ]
        }
      ],
      "source": [
        "cars = ['audi', 'bmw', 'subaru', 'toyota']\n",
        "\n",
        "for car in cars:\n",
        "  if car == 'bmw':\n",
        "    print(car.upper())\n",
        "  else:\n",
        "    print(car.title())"
      ]
    },
    {
      "cell_type": "code",
      "source": [
        "car = 'bmw'\n",
        "car == 'bmw'"
      ],
      "metadata": {
        "colab": {
          "base_uri": "https://localhost:8080/"
        },
        "id": "xpHqzUV2HYKX",
        "outputId": "65ed2ce3-4647-4be3-9140-24bab5aba50a"
      },
      "execution_count": 2,
      "outputs": [
        {
          "output_type": "execute_result",
          "data": {
            "text/plain": [
              "True"
            ]
          },
          "metadata": {},
          "execution_count": 2
        }
      ]
    },
    {
      "cell_type": "code",
      "source": [
        "car = 'audi'\n",
        "car == 'bmw'"
      ],
      "metadata": {
        "colab": {
          "base_uri": "https://localhost:8080/"
        },
        "id": "yb1b1yYAHg7z",
        "outputId": "9ece9659-42de-4f3a-d02f-86c8ca8f20f1"
      },
      "execution_count": 3,
      "outputs": [
        {
          "output_type": "execute_result",
          "data": {
            "text/plain": [
              "False"
            ]
          },
          "metadata": {},
          "execution_count": 3
        }
      ]
    },
    {
      "cell_type": "code",
      "source": [
        "car = 'Audi'\n",
        "car == 'audi'"
      ],
      "metadata": {
        "colab": {
          "base_uri": "https://localhost:8080/"
        },
        "id": "_Fw-50WEHlz7",
        "outputId": "196a1ff9-624c-468d-b384-3bd6b0c207ce"
      },
      "execution_count": 4,
      "outputs": [
        {
          "output_type": "execute_result",
          "data": {
            "text/plain": [
              "False"
            ]
          },
          "metadata": {},
          "execution_count": 4
        }
      ]
    },
    {
      "cell_type": "code",
      "source": [
        "car = 'Audi'\n",
        "car.lower() =='audi'"
      ],
      "metadata": {
        "colab": {
          "base_uri": "https://localhost:8080/"
        },
        "id": "QUVgm-8fHrHJ",
        "outputId": "843f117a-5278-4192-fbf2-c8369a386835"
      },
      "execution_count": 5,
      "outputs": [
        {
          "output_type": "execute_result",
          "data": {
            "text/plain": [
              "True"
            ]
          },
          "metadata": {},
          "execution_count": 5
        }
      ]
    },
    {
      "cell_type": "code",
      "source": [
        "car = 'Audi'\n",
        "car.lower() == 'audi'\n",
        "car"
      ],
      "metadata": {
        "colab": {
          "base_uri": "https://localhost:8080/",
          "height": 35
        },
        "id": "wfHGtGjsJCr6",
        "outputId": "5e6e42ed-9a55-487a-c7f5-f35c65c3de23"
      },
      "execution_count": 6,
      "outputs": [
        {
          "output_type": "execute_result",
          "data": {
            "text/plain": [
              "'Audi'"
            ],
            "application/vnd.google.colaboratory.intrinsic+json": {
              "type": "string"
            }
          },
          "metadata": {},
          "execution_count": 6
        }
      ]
    },
    {
      "cell_type": "code",
      "source": [
        "requested_toppings = 'mushrooms'\n",
        "\n",
        "if requested_toppings != 'anchovies':\n",
        "  print(\"Hold the anchovies!\")"
      ],
      "metadata": {
        "colab": {
          "base_uri": "https://localhost:8080/"
        },
        "id": "zhieP1JsJQv3",
        "outputId": "f7e95751-a0f1-4896-aabe-534a78440ef5"
      },
      "execution_count": 7,
      "outputs": [
        {
          "output_type": "stream",
          "name": "stdout",
          "text": [
            "Hold the anchovies!\n"
          ]
        }
      ]
    },
    {
      "cell_type": "code",
      "source": [
        "age = 18\n",
        "age == 18"
      ],
      "metadata": {
        "colab": {
          "base_uri": "https://localhost:8080/"
        },
        "id": "bLzPBeRqKrkw",
        "outputId": "e4d15282-8645-4713-be64-ca4816bdf51d"
      },
      "execution_count": 9,
      "outputs": [
        {
          "output_type": "execute_result",
          "data": {
            "text/plain": [
              "True"
            ]
          },
          "metadata": {},
          "execution_count": 9
        }
      ]
    },
    {
      "cell_type": "code",
      "source": [
        "answer = 17\n",
        "if answer != 42:\n",
        "  print(\"That is not the correct answer. Please try again!\")"
      ],
      "metadata": {
        "colab": {
          "base_uri": "https://localhost:8080/"
        },
        "id": "N9q5Z-g2Ku08",
        "outputId": "ebbdb5dc-2fc3-427e-b5cb-1df32fa21fb7"
      },
      "execution_count": 10,
      "outputs": [
        {
          "output_type": "stream",
          "name": "stdout",
          "text": [
            "That is not the correct answer. Please try again!\n"
          ]
        }
      ]
    },
    {
      "cell_type": "code",
      "source": [
        "age = 19\n",
        "age < 21"
      ],
      "metadata": {
        "colab": {
          "base_uri": "https://localhost:8080/"
        },
        "id": "wc3VFwpIK-VH",
        "outputId": "89511fa6-ae39-488a-ce13-00b7e30e20c1"
      },
      "execution_count": 12,
      "outputs": [
        {
          "output_type": "execute_result",
          "data": {
            "text/plain": [
              "True"
            ]
          },
          "metadata": {},
          "execution_count": 12
        }
      ]
    },
    {
      "cell_type": "code",
      "source": [
        "age <= 21"
      ],
      "metadata": {
        "colab": {
          "base_uri": "https://localhost:8080/"
        },
        "id": "HYXRhdDBLgGm",
        "outputId": "e6644003-ffa5-4575-f031-4536dd4e5b3c"
      },
      "execution_count": 13,
      "outputs": [
        {
          "output_type": "execute_result",
          "data": {
            "text/plain": [
              "True"
            ]
          },
          "metadata": {},
          "execution_count": 13
        }
      ]
    },
    {
      "cell_type": "code",
      "source": [
        "age > 21"
      ],
      "metadata": {
        "colab": {
          "base_uri": "https://localhost:8080/"
        },
        "id": "XPtG_XA5Lhi0",
        "outputId": "e9f99183-4cc6-4b72-83df-773a02dcbcda"
      },
      "execution_count": 14,
      "outputs": [
        {
          "output_type": "execute_result",
          "data": {
            "text/plain": [
              "False"
            ]
          },
          "metadata": {},
          "execution_count": 14
        }
      ]
    },
    {
      "cell_type": "code",
      "source": [
        "age >= 21"
      ],
      "metadata": {
        "colab": {
          "base_uri": "https://localhost:8080/"
        },
        "id": "OOsIwwDpLj-j",
        "outputId": "061248fc-a460-4eab-c95c-80e72ea1a692"
      },
      "execution_count": 15,
      "outputs": [
        {
          "output_type": "execute_result",
          "data": {
            "text/plain": [
              "False"
            ]
          },
          "metadata": {},
          "execution_count": 15
        }
      ]
    },
    {
      "cell_type": "code",
      "source": [
        "age_0 = 22\n",
        "age_1 = 18\n",
        "age_0 >= 21 and age_1 >= 21"
      ],
      "metadata": {
        "colab": {
          "base_uri": "https://localhost:8080/"
        },
        "id": "OntIZQVPLmTD",
        "outputId": "86a1cee1-78e8-4901-fdc6-ce056a9bffb1"
      },
      "execution_count": 16,
      "outputs": [
        {
          "output_type": "execute_result",
          "data": {
            "text/plain": [
              "False"
            ]
          },
          "metadata": {},
          "execution_count": 16
        }
      ]
    },
    {
      "cell_type": "code",
      "source": [
        "age_0 = 22\n",
        "age_1 = 18\n",
        "age_0 >= 21 and age_1 >=21"
      ],
      "metadata": {
        "colab": {
          "base_uri": "https://localhost:8080/"
        },
        "id": "2e3QMAmhL11i",
        "outputId": "0b306b65-deeb-4284-eb36-c070a61d6fe7"
      },
      "execution_count": 19,
      "outputs": [
        {
          "output_type": "execute_result",
          "data": {
            "text/plain": [
              "False"
            ]
          },
          "metadata": {},
          "execution_count": 19
        }
      ]
    },
    {
      "cell_type": "code",
      "source": [
        "age_1 = 22\n",
        "age_0 >= 21 and age_1 >= 21"
      ],
      "metadata": {
        "colab": {
          "base_uri": "https://localhost:8080/"
        },
        "id": "JTBdVtZXMBTL",
        "outputId": "ff287c56-07ca-4819-a380-9f0682fe9569"
      },
      "execution_count": 20,
      "outputs": [
        {
          "output_type": "execute_result",
          "data": {
            "text/plain": [
              "True"
            ]
          },
          "metadata": {},
          "execution_count": 20
        }
      ]
    },
    {
      "cell_type": "code",
      "source": [
        "(age_0 >= 21) and (age_1 >= 21)"
      ],
      "metadata": {
        "colab": {
          "base_uri": "https://localhost:8080/"
        },
        "id": "hY5_zhgpMJVa",
        "outputId": "ea9f1fec-3451-490b-c9dd-54b223385c35"
      },
      "execution_count": 21,
      "outputs": [
        {
          "output_type": "execute_result",
          "data": {
            "text/plain": [
              "True"
            ]
          },
          "metadata": {},
          "execution_count": 21
        }
      ]
    },
    {
      "cell_type": "code",
      "source": [
        "age_0 = 22\n",
        "age_1 = 18\n",
        "age_0 >= 21 or age_1 >= 21"
      ],
      "metadata": {
        "colab": {
          "base_uri": "https://localhost:8080/"
        },
        "id": "Gmm_fg0tMmXJ",
        "outputId": "2dd2100e-66a6-46cc-e51d-d6cdebcc4440"
      },
      "execution_count": 22,
      "outputs": [
        {
          "output_type": "execute_result",
          "data": {
            "text/plain": [
              "True"
            ]
          },
          "metadata": {},
          "execution_count": 22
        }
      ]
    },
    {
      "cell_type": "code",
      "source": [
        "age_0 = 18\n",
        "age_0 >= 21 or age_1 >= 21"
      ],
      "metadata": {
        "colab": {
          "base_uri": "https://localhost:8080/"
        },
        "id": "xlPDycnyMy07",
        "outputId": "dd8bf5b3-6127-4df3-bfd3-2673629ae5c9"
      },
      "execution_count": 23,
      "outputs": [
        {
          "output_type": "execute_result",
          "data": {
            "text/plain": [
              "False"
            ]
          },
          "metadata": {},
          "execution_count": 23
        }
      ]
    },
    {
      "cell_type": "code",
      "source": [
        "requested_toppings = ['mushrooms', 'onions', 'pineapple']\n",
        "'mushrooms' in requested_toppings"
      ],
      "metadata": {
        "colab": {
          "base_uri": "https://localhost:8080/"
        },
        "id": "9zAKEoZeM6tZ",
        "outputId": "133fc0e3-29be-4072-de00-dd02800b8f0f"
      },
      "execution_count": 24,
      "outputs": [
        {
          "output_type": "execute_result",
          "data": {
            "text/plain": [
              "True"
            ]
          },
          "metadata": {},
          "execution_count": 24
        }
      ]
    },
    {
      "cell_type": "code",
      "source": [
        "'pepperoni' in requested_topping"
      ],
      "metadata": {
        "colab": {
          "base_uri": "https://localhost:8080/"
        },
        "id": "az7b1r52NL-Z",
        "outputId": "0dd38ecc-d3d0-485a-c318-a04d9c714ceb"
      },
      "execution_count": 25,
      "outputs": [
        {
          "output_type": "execute_result",
          "data": {
            "text/plain": [
              "False"
            ]
          },
          "metadata": {},
          "execution_count": 25
        }
      ]
    },
    {
      "cell_type": "code",
      "source": [
        "banned_users = ['andrew', 'carolina', 'david']\n",
        "user = 'marie'\n",
        "if user not in banned_users:\n",
        "  print(f\"{user.title()}, you can post a response if you wish.\")"
      ],
      "metadata": {
        "colab": {
          "base_uri": "https://localhost:8080/"
        },
        "id": "bGiLl9FANRLZ",
        "outputId": "7a562aec-2912-4e70-bb76-08a0c3d6b44f"
      },
      "execution_count": 27,
      "outputs": [
        {
          "output_type": "stream",
          "name": "stdout",
          "text": [
            "Marie, you can post a response if you wish.\n"
          ]
        }
      ]
    },
    {
      "cell_type": "code",
      "source": [
        "game_active = True\n",
        "can_edit = False"
      ],
      "metadata": {
        "id": "hB_YwGpJN0X4"
      },
      "execution_count": 28,
      "outputs": []
    },
    {
      "cell_type": "code",
      "source": [
        "#if conditional_test:\n",
        "  #do something"
      ],
      "metadata": {
        "id": "IhFiYH_2OI-t"
      },
      "execution_count": 31,
      "outputs": []
    },
    {
      "cell_type": "code",
      "source": [
        "age = 19\n",
        "if age >= 18:\n",
        "  print(\"You are old enough to vote!\")"
      ],
      "metadata": {
        "colab": {
          "base_uri": "https://localhost:8080/"
        },
        "id": "2zvp8PtCOcK1",
        "outputId": "588a242f-1876-4836-ecbd-31bb2c6944f5"
      },
      "execution_count": 32,
      "outputs": [
        {
          "output_type": "stream",
          "name": "stdout",
          "text": [
            "You are old enough to vote!\n"
          ]
        }
      ]
    },
    {
      "cell_type": "code",
      "source": [
        "age = 19\n",
        "if age >= 18:\n",
        "  print(\"You are old enough to vote!\")\n",
        "  print(\"Have you registered to vote yet?\")"
      ],
      "metadata": {
        "colab": {
          "base_uri": "https://localhost:8080/"
        },
        "id": "6VfguksWPoBb",
        "outputId": "4f8c308e-7087-495e-a908-e93079ddd3f4"
      },
      "execution_count": 33,
      "outputs": [
        {
          "output_type": "stream",
          "name": "stdout",
          "text": [
            "You are old enough to vote!\n",
            "Have you registered to vote yet?\n"
          ]
        }
      ]
    },
    {
      "cell_type": "code",
      "source": [
        "age = 17\n",
        "if age >= 18:\n",
        "  print(\"You are old enough to vote!\")\n",
        "  print(\"Have you registered to vote yet?\")\n",
        "else:\n",
        "  print(\"Sorry, you are too young to vote.\")\n",
        "  print(\"Please register to vote as soon as you turn 18!\")"
      ],
      "metadata": {
        "colab": {
          "base_uri": "https://localhost:8080/"
        },
        "id": "KO5FgkN0PzKb",
        "outputId": "e29d4543-1146-4832-b909-6062f8bc8ad1"
      },
      "execution_count": 34,
      "outputs": [
        {
          "output_type": "stream",
          "name": "stdout",
          "text": [
            "Sorry, you are too young to vote.\n",
            "Please register to vote as soon as you turn 18!\n"
          ]
        }
      ]
    },
    {
      "cell_type": "code",
      "source": [
        "age = 12\n",
        "if age < 4:\n",
        "  print(\"Your admission cost is $0.\")\n",
        "elif age < 18:\n",
        "  print(\"Your admission cost is $25.\")\n",
        "else:\n",
        "  print(\"Your admission cost is $40.\")"
      ],
      "metadata": {
        "colab": {
          "base_uri": "https://localhost:8080/"
        },
        "id": "DbmMCLfkQIFi",
        "outputId": "c68ee93f-6020-4cac-f3a0-6deea40a056b"
      },
      "execution_count": 35,
      "outputs": [
        {
          "output_type": "stream",
          "name": "stdout",
          "text": [
            "Your admission cost is $25.\n"
          ]
        }
      ]
    },
    {
      "cell_type": "code",
      "source": [
        "age = 12\n",
        "\n",
        "if age < 4:\n",
        "  price = 0\n",
        "elif age < 18:\n",
        "  price = 25\n",
        "else:\n",
        "  price = 40\n",
        "\n",
        "print(f\"Your admission cost is ${price}.\")"
      ],
      "metadata": {
        "colab": {
          "base_uri": "https://localhost:8080/"
        },
        "id": "vIe6JD0XQhto",
        "outputId": "30aef297-017c-426b-afca-7129cc31b727"
      },
      "execution_count": 36,
      "outputs": [
        {
          "output_type": "stream",
          "name": "stdout",
          "text": [
            "Your admission cost is $25.\n"
          ]
        }
      ]
    },
    {
      "cell_type": "code",
      "source": [
        "age = 12\n",
        "\n",
        "if age < 4:\n",
        "  price = 0\n",
        "elif age < 18:\n",
        "  price = 25\n",
        "elif age < 65:\n",
        "  price = 40\n",
        "else:\n",
        "  price = 20\n",
        "\n",
        "print(f\"Your admission cost is ${price}.\")"
      ],
      "metadata": {
        "colab": {
          "base_uri": "https://localhost:8080/"
        },
        "id": "7kNiUm5dQ6vg",
        "outputId": "06687702-df7f-4fea-dc38-9eb014b5b097"
      },
      "execution_count": 37,
      "outputs": [
        {
          "output_type": "stream",
          "name": "stdout",
          "text": [
            "Your admission cost is $25.\n"
          ]
        }
      ]
    },
    {
      "cell_type": "code",
      "source": [
        "age = 12\n",
        "\n",
        "if age < 4:\n",
        "  price = 0\n",
        "elif age < 18:\n",
        "  price = 25\n",
        "elif age < 65:\n",
        "  price = 40\n",
        "elif age >= 65:\n",
        "  price = 20\n",
        "\n",
        "print(f\"Your admission cost is ${price}.\")"
      ],
      "metadata": {
        "colab": {
          "base_uri": "https://localhost:8080/"
        },
        "id": "ME09NZ7VRPdH",
        "outputId": "3a529983-e163-4931-920f-f7bd6cd766e0"
      },
      "execution_count": 38,
      "outputs": [
        {
          "output_type": "stream",
          "name": "stdout",
          "text": [
            "Your admission cost is $25.\n"
          ]
        }
      ]
    },
    {
      "cell_type": "code",
      "source": [
        "requested_toppings = ['mushrooms', 'extra cheese']\n",
        "\n",
        "if 'mushrooms' in requested_toppings:\n",
        "  print(\"Adding mushrooms.\")\n",
        "if 'pepperoni' in requested_toppings:\n",
        "  print(\"Adding pepperoni.\")\n",
        "if 'extra cheese' in requested_toppings:\n",
        "  print(\"Adding extra cheese.\")\n",
        "\n",
        "print(\"\\nFinished making your pizza!\")"
      ],
      "metadata": {
        "colab": {
          "base_uri": "https://localhost:8080/"
        },
        "id": "Gip5k7z3RfAo",
        "outputId": "1de5cbae-066c-4f57-f31d-2637aa29a777"
      },
      "execution_count": 42,
      "outputs": [
        {
          "output_type": "stream",
          "name": "stdout",
          "text": [
            "Adding mushrooms.\n",
            "Adding extra cheese.\n",
            "\n",
            "Finished making your pizza!\n"
          ]
        }
      ]
    },
    {
      "cell_type": "code",
      "source": [
        "requested_toppings = ['mushrooms', 'extra cheese']\n",
        "\n",
        "if 'mushrooms' in requested_toppings:\n",
        "  print(\"Adding mushrooms.\")\n",
        "elif 'pepperoni' in requested_toppings:\n",
        "  print(\"Adding pepperoni.\")\n",
        "elif 'extra cheese' in requested_toppings:\n",
        "  print(\"Adding extra cheese.\")\n",
        "\n",
        "print(\"\\nFinished making your pizza!\")"
      ],
      "metadata": {
        "colab": {
          "base_uri": "https://localhost:8080/"
        },
        "id": "XpRJbKqiSGqx",
        "outputId": "073ff3ea-f2a9-4aaf-95a0-87b646e72bb7"
      },
      "execution_count": 41,
      "outputs": [
        {
          "output_type": "stream",
          "name": "stdout",
          "text": [
            "Adding mushrooms.\n",
            "\n",
            "Finished making your pizza!\n"
          ]
        }
      ]
    },
    {
      "cell_type": "code",
      "source": [
        "requested_toppings = ['mushrooms', 'green peppers', 'extra cheese']\n",
        "\n",
        "for requested_topping in requested_toppings:\n",
        "  print(f\"Adding {requested_topping}.\")\n",
        "\n",
        "print(\"\\nFinished making your pizza!\")"
      ],
      "metadata": {
        "colab": {
          "base_uri": "https://localhost:8080/"
        },
        "id": "myCOWuXYSSTj",
        "outputId": "b0038f04-0356-4378-e780-e3af53b041b6"
      },
      "execution_count": 43,
      "outputs": [
        {
          "output_type": "stream",
          "name": "stdout",
          "text": [
            "Adding mushrooms.\n",
            "Adding green peppers.\n",
            "Adding extra cheese.\n",
            "\n",
            "Finished making your pizza!\n"
          ]
        }
      ]
    },
    {
      "cell_type": "code",
      "source": [
        "requested_toppings = ['mushrooms', 'green peppers', 'extra cheese']\n",
        "\n",
        "for requested_topping in requested_toppings:\n",
        "  if requested_topping == 'green peppers':\n",
        "    print(\"Sorry, we are out of green peppers right now.\")\n",
        "  else:\n",
        "    print(f\"Adding {requested_topping}.\")\n",
        "\n",
        "print(\"\\nFinished making your pizza!\")"
      ],
      "metadata": {
        "colab": {
          "base_uri": "https://localhost:8080/"
        },
        "id": "oQmOQNisTBQI",
        "outputId": "c3776e82-9a60-42f1-8a32-233088b8f220"
      },
      "execution_count": 44,
      "outputs": [
        {
          "output_type": "stream",
          "name": "stdout",
          "text": [
            "Adding mushrooms.\n",
            "Sorry, we are out of green peppers right now.\n",
            "Adding extra cheese.\n",
            "\n",
            "Finished making your pizza!\n"
          ]
        }
      ]
    },
    {
      "cell_type": "code",
      "source": [
        "requested_toppings = []\n",
        "\n",
        "if requested_toppings:\n",
        "  for requested_topping in requested_toppings:\n",
        "    print(f\"Adding {requested_topping}.\")\n",
        "  print(\"\\nFinished making your pizza!\")\n",
        "else:\n",
        "  print(\"Are you sure you want a plain pizza?\")"
      ],
      "metadata": {
        "colab": {
          "base_uri": "https://localhost:8080/"
        },
        "id": "EyMnyhy_TdRI",
        "outputId": "ac1b86a2-a8ec-40f7-954c-2d1d8cf6ca2d"
      },
      "execution_count": 45,
      "outputs": [
        {
          "output_type": "stream",
          "name": "stdout",
          "text": [
            "Are you sure you want a plain pizza?\n"
          ]
        }
      ]
    },
    {
      "cell_type": "code",
      "source": [
        "available_toppings = ['mushrooms', 'olives', 'green peppers', 'pepperoni', 'pineapple', 'extra cheese']\n",
        "\n",
        "requested_toppings = ['mushrooms', 'french fries', 'extra cheese']\n",
        "\n",
        "for requested_topping in requested_toppings:\n",
        "  if requested_topping in available_toppings:\n",
        "    print(f\"Adding {requested_topping}.\")\n",
        "  else:\n",
        "    print(f\"Sorry, we don't have {requested_topping}.\")\n",
        "\n",
        "print(\"\\nFinished making your pizza!\")"
      ],
      "metadata": {
        "colab": {
          "base_uri": "https://localhost:8080/"
        },
        "id": "X5UR6f0PT90L",
        "outputId": "dda83877-1f3a-4d88-aafb-7e0d98632db8"
      },
      "execution_count": 47,
      "outputs": [
        {
          "output_type": "stream",
          "name": "stdout",
          "text": [
            "Adding mushrooms.\n",
            "Sorry, we don't have french fries.\n",
            "Adding extra cheese.\n",
            "\n",
            "Finished making your pizza!\n"
          ]
        }
      ]
    },
    {
      "cell_type": "markdown",
      "source": [
        "Try it yourself 5-1, 5-2, 5-3, 5-6, and 5-12."
      ],
      "metadata": {
        "id": "DohEOPEKcIWo"
      }
    },
    {
      "cell_type": "code",
      "source": [
        "# Test 1\n",
        "number = 42\n",
        "print(\"Is number == 42? I predict True.\")\n",
        "print(number == 42)\n",
        "\n",
        "# Test 2\n",
        "name = 'Alice'\n",
        "print(\"\\nIs name != 'Bob'? I predict True.\")\n",
        "print(name != 'Bob')\n",
        "\n",
        "# Test 3\n",
        "age = 25\n",
        "print(\"\\nIs age < 30? I predict True.\")\n",
        "print(age < 30)\n",
        "\n",
        "# Test 4\n",
        "is_sunny = True\n",
        "is_warm = False\n",
        "print(\"\\nIs it sunny OR warm? I predict True.\")\n",
        "print(is_sunny or is_warm)\n",
        "\n",
        "# Test 5\n",
        "is_raining = True\n",
        "is_cold = True\n",
        "print(\"\\nIs it raining AND cold? I predict True.\")\n",
        "print(is_raining and is_cold)\n",
        "\n",
        "# Test 6\n",
        "fruits = ['apple', 'banana', 'cherry']\n",
        "print(\"\\nIs 'pineapple' in fruits? I predict False.\")\n",
        "print('pineapple' in fruits)\n",
        "\n",
        "# Test 7\n",
        "vegetables = ['carrot', 'broccoli', 'green pepper']\n",
        "print(\"\\nIs 'zucchini' in vegetables? I predict False.\")\n",
        "print('zucchini' in vegetables)\n",
        "\n",
        "# Test 8\n",
        "empty_string = \"!\"\n",
        "print(\"\\nIs empty_string empty? I predict False.\")\n",
        "print(not empty_string)\n",
        "\n",
        "# Test 9\n",
        "price1 = 10.99\n",
        "price2 = 9.99\n",
        "print(\"\\nIs price1 < price2? I predict False.\")\n",
        "print(price1 < price2)\n",
        "\n",
        "# Test 10\n",
        "score = 75\n",
        "print(\"\\nIs score < 60 or score > 90? I predict True.\")\n",
        "print(score < 60 or score > 90)"
      ],
      "metadata": {
        "colab": {
          "base_uri": "https://localhost:8080/"
        },
        "id": "bS_jwiOqezJm",
        "outputId": "db1ef43a-7c28-4bed-ca4d-fb5cbe4ce7a9"
      },
      "execution_count": 55,
      "outputs": [
        {
          "output_type": "stream",
          "name": "stdout",
          "text": [
            "Is number == 42? I predict True.\n",
            "True\n",
            "\n",
            "Is name != 'Bob'? I predict True.\n",
            "True\n",
            "\n",
            "Is age < 30? I predict True.\n",
            "True\n",
            "\n",
            "Is it sunny OR warm? I predict True.\n",
            "True\n",
            "\n",
            "Is it raining AND cold? I predict True.\n",
            "True\n",
            "\n",
            "Is 'pineapple' in fruits? I predict False.\n",
            "False\n",
            "\n",
            "Is 'zucchini' in vegetables? I predict False.\n",
            "False\n",
            "\n",
            "Is empty_string empty? I predict False.\n",
            "False\n",
            "\n",
            "Is price1 < price2? I predict False.\n",
            "False\n",
            "\n",
            "Is score < 60 or score > 90? I predict True.\n",
            "False\n"
          ]
        }
      ]
    },
    {
      "cell_type": "code",
      "source": [
        "# Tests for equality and inequality with strings\n",
        "name1 = 'John'\n",
        "name2 = 'Alice'\n",
        "print(\"\\nIs name1 == 'John'? I predict True.\")\n",
        "print(name1 == 'John')\n",
        "print(\"\\nIs name2 != 'John'? I predict False.\")\n",
        "print(name2 == 'John')\n",
        "\n",
        "# Tests using the lower() method\n",
        "text = 'Hello, World!'\n",
        "text_1 = 'Hello, World!'\n",
        "print(\"\\nIs 'hello, world!' == text.lower()? I predict True.\")\n",
        "print('hello, world!' == text.lower())\n",
        "print(\"\\nIs 'Hello World!' == text_1.lower()? I predict False.\")\n",
        "print('Hello World!' == text_1.lower())\n",
        "\n",
        "# Numerical tests\n",
        "num1 = 42\n",
        "num2 = 30\n",
        "print(\"\\nIs num1 > num2? I predict True.\")\n",
        "print(num1 > num2)\n",
        "print(\"\\nIs num1 <= num2? I predict False.\")\n",
        "print(num1 <= num2)\n",
        "\n",
        "# Tests using the and keyword and the or keyword\n",
        "is_sunny = True\n",
        "is_warm = False\n",
        "print(\"\\nIs it sunny and warm? I predict False.\")\n",
        "print(is_sunny and is_warm)\n",
        "print(\"\\nIs it sunny or warm? I predict True.\")\n",
        "print(is_sunny or is_warm)\n",
        "\n",
        "# Test whether an item is in a list\n",
        "fruits = ['apple', 'banana', 'cherry']\n",
        "print(\"\\nIs 'apple' in fruits? I predict True.\")\n",
        "print('apple' in fruits)\n",
        "print(\"\\nIs 'strawberry' in fruits? I predict False.\")\n",
        "print('strawberry' in fruits)\n",
        "\n",
        "# Test whether an item is not in a list\n",
        "vegetables = ['carrot', 'broccoli', 'spinach']\n",
        "print(\"\\nIs 'zucchini' not in vegetables? I predict True.\")\n",
        "print('zucchini' not in vegetables)\n",
        "print(\"\\nIs 'carrot' not in vegetables? I predict False.\")\n",
        "print('carrot' not in vegetables)"
      ],
      "metadata": {
        "colab": {
          "base_uri": "https://localhost:8080/"
        },
        "id": "mG5bA2EHgS-0",
        "outputId": "a5fe8f25-c400-4d7e-a55a-a54fda115de3"
      },
      "execution_count": 62,
      "outputs": [
        {
          "output_type": "stream",
          "name": "stdout",
          "text": [
            "\n",
            "Is name1 == 'John'? I predict True.\n",
            "True\n",
            "\n",
            "Is name2 != 'John'? I predict False.\n",
            "False\n",
            "\n",
            "Is 'hello, world!' == text.lower()? I predict True.\n",
            "True\n",
            "\n",
            "Is 'Hello World!' == text_1.lower()? I predict False.\n",
            "False\n",
            "\n",
            "Is num1 > num2? I predict True.\n",
            "True\n",
            "\n",
            "Is num1 <= num2? I predict False.\n",
            "False\n",
            "\n",
            "Is it sunny and warm? I predict False.\n",
            "False\n",
            "\n",
            "Is it sunny or warm? I predict True.\n",
            "True\n",
            "\n",
            "Is 'apple' in fruits? I predict True.\n",
            "True\n",
            "\n",
            "Is 'strawberry' in fruits? I predict False.\n",
            "False\n",
            "\n",
            "Is 'zucchini' not in vegetables? I predict True.\n",
            "True\n",
            "\n",
            "Is 'carrot' not in vegetables? I predict False.\n",
            "False\n"
          ]
        }
      ]
    },
    {
      "cell_type": "code",
      "source": [
        "alien_color = 'green'\n",
        "\n",
        "if alien_color == 'green':\n",
        "    print(\"The player just earned 5 points.\")"
      ],
      "metadata": {
        "colab": {
          "base_uri": "https://localhost:8080/"
        },
        "id": "LeIYJgXYionb",
        "outputId": "337a1a64-7c85-4540-e9bb-1b0e35037abb"
      },
      "execution_count": 63,
      "outputs": [
        {
          "output_type": "stream",
          "name": "stdout",
          "text": [
            "The player just earned 5 points.\n"
          ]
        }
      ]
    },
    {
      "cell_type": "code",
      "source": [
        "alien_color = 'red'\n",
        "\n",
        "if alien_color == 'green':\n",
        "    print(\"The player just earned 5 points.\")"
      ],
      "metadata": {
        "id": "xKjIj0LtlYaQ"
      },
      "execution_count": 64,
      "outputs": []
    },
    {
      "cell_type": "code",
      "source": [
        "age = 25\n",
        "\n",
        "if age < 2:\n",
        "    print(\"The person is a baby.\")\n",
        "elif age < 4:\n",
        "    print(\"The person is a toddler.\")\n",
        "elif age < 13:\n",
        "    print(\"The person is a kid.\")\n",
        "elif age < 20:\n",
        "    print(\"The person is a teenager.\")\n",
        "elif age < 65:\n",
        "    print(\"The person is an adult.\")\n",
        "else:\n",
        "    print(\"The person is an elder.\")"
      ],
      "metadata": {
        "colab": {
          "base_uri": "https://localhost:8080/"
        },
        "id": "id1ixrLIlafx",
        "outputId": "206f5efd-442f-4c18-d346-b72a3d0df748"
      },
      "execution_count": 65,
      "outputs": [
        {
          "output_type": "stream",
          "name": "stdout",
          "text": [
            "The person is an adult.\n"
          ]
        }
      ]
    },
    {
      "cell_type": "code",
      "source": [
        "x = 5\n",
        "y = 10\n",
        "\n",
        "if x == 5:\n",
        "    print(\"x is equal to 5.\")\n",
        "\n",
        "elif y < 10:\n",
        "    print(\"y is less than 10.\")\n",
        "\n",
        "else:\n",
        "    print(\"None of the conditions match.\")"
      ],
      "metadata": {
        "colab": {
          "base_uri": "https://localhost:8080/"
        },
        "id": "g9bhWDaOly5T",
        "outputId": "0c230d16-0a94-4d6b-f399-0a60991428bb"
      },
      "execution_count": 66,
      "outputs": [
        {
          "output_type": "stream",
          "name": "stdout",
          "text": [
            "x is equal to 5.\n"
          ]
        }
      ]
    },
    {
      "cell_type": "code",
      "source": [
        "correct_name = 'Taichi'\n",
        "\n",
        "name_list = ['Taichi', 'John', 'Alice', 'Tom']\n",
        "print(\"This is the name guessing game!\")\n",
        "print(\"You have to guess the name who is the writer from the list of the name in below.\")\n",
        "print(\"While this game, you only have 5 chances to guess the name! You should try carefully.\")\n",
        "print(\"\\nHere is the list of the writers name.\")\n",
        "print(name_list)\n",
        "\n",
        "tries = 3\n",
        "\n",
        "while tries > 0:\n",
        "  guess = input(\"Please enter your guess: \")\n",
        "\n",
        "  if guess == correct_name:\n",
        "    print(f\"Congrats! your guess is correct! The correct name is {correct_name}.\")\n",
        "    break\n",
        "\n",
        "  else:\n",
        "    print(\"Oops, your guess is incorrect.\")\n",
        "    tries -= 1\n",
        "    if tries > 0:\n",
        "      print(f\"You still have {tries}/3 attemps.\")\n",
        "    else:\n",
        "      print(f\"You failed this game, unfortunately. The correct name is {correct_name}.\")"
      ],
      "metadata": {
        "colab": {
          "base_uri": "https://localhost:8080/"
        },
        "id": "qAsOaGoYnE3Z",
        "outputId": "f8718865-cfd0-4ea4-85dc-66c954353dc5"
      },
      "execution_count": 70,
      "outputs": [
        {
          "output_type": "stream",
          "name": "stdout",
          "text": [
            "This is the name guessing game!\n",
            "You have to guess the name who is the writer from the list of the name in below.\n",
            "While this game, you only have 5 chances to guess the name! You should try carefully.\n",
            "\n",
            "Here is the list of the writers name.\n",
            "['Taichi', 'John', 'Alice', 'Tom']\n",
            "Please enter your guess: John\n",
            "Oops, your guess is incorrect.\n",
            "You still have 2/3 attemps.\n",
            "Please enter your guess: Alice\n",
            "Oops, your guess is incorrect.\n",
            "You still have 1/3 attemps.\n",
            "Please enter your guess: Tom\n",
            "Oops, your guess is incorrect.\n",
            "You failed this game, unfortunately. The correct name is Taichi.\n"
          ]
        }
      ]
    },
    {
      "cell_type": "code",
      "source": [],
      "metadata": {
        "id": "DXov6AdWqaJB"
      },
      "execution_count": null,
      "outputs": []
    }
  ]
}