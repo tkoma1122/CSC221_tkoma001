{
  "nbformat": 4,
  "nbformat_minor": 0,
  "metadata": {
    "colab": {
      "provenance": []
    },
    "kernelspec": {
      "name": "python3",
      "display_name": "Python 3"
    },
    "language_info": {
      "name": "python"
    }
  },
  "cells": [
    {
      "cell_type": "code",
      "execution_count": null,
      "metadata": {
        "colab": {
          "base_uri": "https://localhost:8080/"
        },
        "id": "zgSZLLf4SmtE",
        "outputId": "8bba0a18-b1d4-4d60-f111-b1100b647511"
      },
      "outputs": [
        {
          "output_type": "stream",
          "name": "stdout",
          "text": [
            "Trek\n"
          ]
        }
      ],
      "source": [
        "bicycles = ['trek', 'cannondale', 'redline', 'specialized']\n",
        "print(bicycles[0].title())"
      ]
    },
    {
      "cell_type": "code",
      "source": [
        "bicycles = ['trek', 'cannondale', 'redline', 'specialized']\n",
        "print(bicycles[1])\n",
        "print(bicycles[3])"
      ],
      "metadata": {
        "colab": {
          "base_uri": "https://localhost:8080/"
        },
        "id": "ETgnPu0FTOag",
        "outputId": "2b9cbdab-81a1-457a-f35a-dde1041b4a57"
      },
      "execution_count": null,
      "outputs": [
        {
          "output_type": "stream",
          "name": "stdout",
          "text": [
            "cannondale\n",
            "specialized\n"
          ]
        }
      ]
    },
    {
      "cell_type": "code",
      "source": [
        "bicycles = ['trek', 'cannondale', 'redline', 'specialized']\n",
        "print(bicycles[-1])"
      ],
      "metadata": {
        "colab": {
          "base_uri": "https://localhost:8080/"
        },
        "id": "oCICuB74Tcgb",
        "outputId": "ec6867ea-c279-4fb7-a180-79ce88bf890a"
      },
      "execution_count": null,
      "outputs": [
        {
          "output_type": "stream",
          "name": "stdout",
          "text": [
            "specialized\n"
          ]
        }
      ]
    },
    {
      "cell_type": "code",
      "source": [
        "bicycles = ['trek', 'cannondale', 'redline', 'specialized']\n",
        "message = f\"My first bicycle was a {bicycles[0].title()}\"\n",
        "\n",
        "print(message)"
      ],
      "metadata": {
        "colab": {
          "base_uri": "https://localhost:8080/"
        },
        "id": "dflLMO0ZTfk9",
        "outputId": "0e119e70-390d-4478-d0e7-81ded05f2c30"
      },
      "execution_count": null,
      "outputs": [
        {
          "output_type": "stream",
          "name": "stdout",
          "text": [
            "My first bicycle was a Trek\n"
          ]
        }
      ]
    },
    {
      "cell_type": "code",
      "source": [
        "motorcycles = ['honda', 'yamaha', 'suzuki']\n",
        "print(motorcycles)\n",
        "\n",
        "motorcycles[0] = 'ducati'\n",
        "print(motorcycles)"
      ],
      "metadata": {
        "colab": {
          "base_uri": "https://localhost:8080/"
        },
        "id": "UJi0nVZ2T1hY",
        "outputId": "41112e1d-eb92-49ec-ca39-9c1c1e79ac6a"
      },
      "execution_count": null,
      "outputs": [
        {
          "output_type": "stream",
          "name": "stdout",
          "text": [
            "['honda', 'yamaha', 'suzuki']\n",
            "['ducati', 'yamaha', 'suzuki']\n"
          ]
        }
      ]
    },
    {
      "cell_type": "code",
      "source": [
        "motorcycles = ['honda', 'yamaha', 'suzuki']\n",
        "print(motorcycles)\n",
        "\n",
        "motorcycles.append('ducati')\n",
        "print(motorcycles)"
      ],
      "metadata": {
        "colab": {
          "base_uri": "https://localhost:8080/"
        },
        "id": "lAl1rwoLUOsp",
        "outputId": "0ffcb30a-e723-4b44-c655-42c92dec7283"
      },
      "execution_count": null,
      "outputs": [
        {
          "output_type": "stream",
          "name": "stdout",
          "text": [
            "['honda', 'yamaha', 'suzuki']\n",
            "['honda', 'yamaha', 'suzuki', 'ducati']\n"
          ]
        }
      ]
    },
    {
      "cell_type": "code",
      "source": [
        "motorcycles =[]\n",
        "\n",
        "motorcycles.append('honda')\n",
        "motorcycles.append('yamaha')\n",
        "motorcycles.append('suzuki')\n",
        "\n",
        "print(motorcycles)"
      ],
      "metadata": {
        "colab": {
          "base_uri": "https://localhost:8080/"
        },
        "id": "sk6OJL8sUaE0",
        "outputId": "2b65a2d6-029c-4802-ede1-38babc8bf34a"
      },
      "execution_count": null,
      "outputs": [
        {
          "output_type": "stream",
          "name": "stdout",
          "text": [
            "['honda', 'yamaha', 'suzuki']\n"
          ]
        }
      ]
    },
    {
      "cell_type": "code",
      "source": [
        "motorcycles = ['honda', 'yamaha', 'suzuki']\n",
        "\n",
        "motorcycles.insert(0, 'ducati')\n",
        "print(motorcycles)"
      ],
      "metadata": {
        "colab": {
          "base_uri": "https://localhost:8080/"
        },
        "id": "cxZ-ja5lUoHO",
        "outputId": "76364930-eada-4ced-e49e-43f7a5613728"
      },
      "execution_count": null,
      "outputs": [
        {
          "output_type": "stream",
          "name": "stdout",
          "text": [
            "['ducati', 'honda', 'yamaha', 'suzuki']\n"
          ]
        }
      ]
    },
    {
      "cell_type": "code",
      "source": [
        "motorcycles = ['honda', 'yamaha', 'suzuki']\n",
        "print(motorcycles)\n",
        "\n",
        "del motorcycles[0]\n",
        "print(motorcycles)"
      ],
      "metadata": {
        "colab": {
          "base_uri": "https://localhost:8080/"
        },
        "id": "C0gqN5iiU4eu",
        "outputId": "a4658319-b7eb-46ea-a730-170f9e341afd"
      },
      "execution_count": null,
      "outputs": [
        {
          "output_type": "stream",
          "name": "stdout",
          "text": [
            "['honda', 'yamaha', 'suzuki']\n",
            "['yamaha', 'suzuki']\n"
          ]
        }
      ]
    },
    {
      "cell_type": "code",
      "source": [
        "motorcycles = ['honda', 'yamaha', 'suzuki']\n",
        "print(motorcycles)\n",
        "\n",
        "del motorcycles[1]\n",
        "print(motorcycles)"
      ],
      "metadata": {
        "colab": {
          "base_uri": "https://localhost:8080/"
        },
        "id": "xWZ17VKqVCzK",
        "outputId": "f291bd74-ae02-4897-fa13-9f804e87dc4a"
      },
      "execution_count": null,
      "outputs": [
        {
          "output_type": "stream",
          "name": "stdout",
          "text": [
            "['honda', 'yamaha', 'suzuki']\n",
            "['honda', 'suzuki']\n"
          ]
        }
      ]
    },
    {
      "cell_type": "code",
      "source": [
        "motorcycles = ['honda', 'yamaha', 'suzuki']\n",
        "print(motorcycles)\n",
        "\n",
        "popped_motorcycle = motorcycles.pop()\n",
        "print(motorcycles)\n",
        "print(popped_motorcycle)"
      ],
      "metadata": {
        "colab": {
          "base_uri": "https://localhost:8080/"
        },
        "id": "s7kn47VEVOgH",
        "outputId": "eadfc414-1787-4703-e69e-08ce3a9ff5b7"
      },
      "execution_count": null,
      "outputs": [
        {
          "output_type": "stream",
          "name": "stdout",
          "text": [
            "['honda', 'yamaha', 'suzuki']\n",
            "['honda', 'yamaha']\n",
            "suzuki\n"
          ]
        }
      ]
    },
    {
      "cell_type": "code",
      "source": [
        "motorcycles = ['honda', 'yamaha', 'suzuki']\n",
        "\n",
        "last_owned = motorcycles.pop()\n",
        "print(f\"The last motorcycle I owned was a {last_owned.title()}\")"
      ],
      "metadata": {
        "colab": {
          "base_uri": "https://localhost:8080/"
        },
        "id": "bZt9RfimVjm1",
        "outputId": "c88c32c1-0304-443c-e25d-9de66f21f154"
      },
      "execution_count": null,
      "outputs": [
        {
          "output_type": "stream",
          "name": "stdout",
          "text": [
            "The last motorcycle I owned was a Suzuki\n"
          ]
        }
      ]
    },
    {
      "cell_type": "code",
      "source": [
        "motorcycles = ['honda', 'yamaha', 'suzuki']\n",
        "\n",
        "first_owned = motorcycles.pop(0)\n",
        "print(f\"The first motorcycle I owned was a {first_owned.title()}\")"
      ],
      "metadata": {
        "colab": {
          "base_uri": "https://localhost:8080/"
        },
        "id": "UVz1tiJ7V0A_",
        "outputId": "612033e6-dd99-441e-d088-0a907db5dc7d"
      },
      "execution_count": null,
      "outputs": [
        {
          "output_type": "stream",
          "name": "stdout",
          "text": [
            "The first motorcycle I owned was a Honda\n"
          ]
        }
      ]
    },
    {
      "cell_type": "code",
      "source": [
        "motorcycles = ['honda', 'yamaha', 'suzuki', 'ducati']\n",
        "print(motorcycles)\n",
        "\n",
        "motorcycles.remove('ducati')\n",
        "print(motorcycles)"
      ],
      "metadata": {
        "colab": {
          "base_uri": "https://localhost:8080/"
        },
        "id": "h2MgL72zWF8P",
        "outputId": "4fc51c40-969f-403d-9a7e-f6b5e3037fd1"
      },
      "execution_count": null,
      "outputs": [
        {
          "output_type": "stream",
          "name": "stdout",
          "text": [
            "['honda', 'yamaha', 'suzuki', 'ducati']\n",
            "['honda', 'yamaha', 'suzuki']\n"
          ]
        }
      ]
    },
    {
      "cell_type": "code",
      "source": [
        "motorcycles = ['honda', 'yamaha', 'suzuki', 'ducati']\n",
        "print(motorcycles)\n",
        "\n",
        "too_expensive = 'ducati'\n",
        "motorcycles.remove(too_expensive)\n",
        "print(motorcycles)\n",
        "print(f\"\\nA {too_expensive.title()} is too expensive for me.\")"
      ],
      "metadata": {
        "colab": {
          "base_uri": "https://localhost:8080/"
        },
        "id": "45Y4gJVmWSbX",
        "outputId": "1d723c0f-02b0-4010-ccce-f5a7168b474d"
      },
      "execution_count": null,
      "outputs": [
        {
          "output_type": "stream",
          "name": "stdout",
          "text": [
            "['honda', 'yamaha', 'suzuki', 'ducati']\n",
            "['honda', 'yamaha', 'suzuki']\n",
            "\n",
            "A Ducati is too expensive for me.\n"
          ]
        }
      ]
    },
    {
      "cell_type": "code",
      "source": [
        "cars = ['bmw', 'audi', 'toyota', 'subaru']\n",
        "cars.sort()\n",
        "print(cars)"
      ],
      "metadata": {
        "colab": {
          "base_uri": "https://localhost:8080/"
        },
        "id": "GqQtxX1aWudl",
        "outputId": "bd1c677f-bed7-4fb6-c091-f38ca67de1f6"
      },
      "execution_count": null,
      "outputs": [
        {
          "output_type": "stream",
          "name": "stdout",
          "text": [
            "['audi', 'bmw', 'subaru', 'toyota']\n"
          ]
        }
      ]
    },
    {
      "cell_type": "code",
      "source": [
        "cars = ['bmw', 'audi', 'toyota', 'subaru']\n",
        "cars.sort(reverse=True)\n",
        "print(cars)"
      ],
      "metadata": {
        "colab": {
          "base_uri": "https://localhost:8080/"
        },
        "id": "8ma8wgSAXJA_",
        "outputId": "6ceb5908-4304-46ad-99ce-e28e72ab220d"
      },
      "execution_count": null,
      "outputs": [
        {
          "output_type": "stream",
          "name": "stdout",
          "text": [
            "['toyota', 'subaru', 'bmw', 'audi']\n"
          ]
        }
      ]
    },
    {
      "cell_type": "code",
      "source": [
        "cars = ['bmw', 'audi', 'toyota', 'subaru']\n",
        "\n",
        "print(\"Here is the original list:\")\n",
        "print(cars)\n",
        "\n",
        "print(\"\\nHere is the sorted list:\")\n",
        "print(sorted(cars))\n",
        "\n",
        "print(\"\\nHere is the original list again:\")\n",
        "print(cars)"
      ],
      "metadata": {
        "colab": {
          "base_uri": "https://localhost:8080/"
        },
        "id": "MkoVxDjVXVVf",
        "outputId": "a26a2559-7c54-4fb3-f40b-eee455de3a19"
      },
      "execution_count": null,
      "outputs": [
        {
          "output_type": "stream",
          "name": "stdout",
          "text": [
            "Here is the original list:\n",
            "['bmw', 'audi', 'toyota', 'subaru']\n",
            "\n",
            "Here is the sorted list:\n",
            "['audi', 'bmw', 'subaru', 'toyota']\n",
            "\n",
            "Here is the original list again:\n",
            "['bmw', 'audi', 'toyota', 'subaru']\n"
          ]
        }
      ]
    },
    {
      "cell_type": "code",
      "source": [
        "cars = ['bmw', 'audi', 'toyota', 'subaru']\n",
        "print(cars)\n",
        "\n",
        "cars.reverse()\n",
        "print(cars)"
      ],
      "metadata": {
        "id": "nRvhy223YITV",
        "colab": {
          "base_uri": "https://localhost:8080/"
        },
        "outputId": "e2b39b79-4218-40f1-f912-97722e8d410e"
      },
      "execution_count": null,
      "outputs": [
        {
          "output_type": "stream",
          "name": "stdout",
          "text": [
            "['bmw', 'audi', 'toyota', 'subaru']\n",
            "['subaru', 'toyota', 'audi', 'bmw']\n"
          ]
        }
      ]
    },
    {
      "cell_type": "code",
      "source": [
        "cars = ['bmw', 'audi', 'toyota', 'subaru']\n",
        "len(cars)"
      ],
      "metadata": {
        "colab": {
          "base_uri": "https://localhost:8080/"
        },
        "id": "00s4AhaRZHIG",
        "outputId": "f71ac343-ccfb-47de-c1c4-b21a71f14afe"
      },
      "execution_count": null,
      "outputs": [
        {
          "output_type": "execute_result",
          "data": {
            "text/plain": [
              "4"
            ]
          },
          "metadata": {},
          "execution_count": 31
        }
      ]
    },
    {
      "cell_type": "code",
      "source": [
        "motorcycles = ['honda', 'yamaha', 'suzuki']\n",
        "print(motorcycles[-1])"
      ],
      "metadata": {
        "colab": {
          "base_uri": "https://localhost:8080/"
        },
        "id": "apS_rYQMZPaw",
        "outputId": "278ccca9-605d-484a-f6ca-1844fb7b182a"
      },
      "execution_count": null,
      "outputs": [
        {
          "output_type": "stream",
          "name": "stdout",
          "text": [
            "suzuki\n"
          ]
        }
      ]
    },
    {
      "cell_type": "code",
      "source": [
        "motorcycles = []\n",
        "print(motorcycles[-1])"
      ],
      "metadata": {
        "colab": {
          "base_uri": "https://localhost:8080/",
          "height": 201
        },
        "id": "LBwVdRaSZe_j",
        "outputId": "719c8713-126a-4e07-b84e-d0a914e413b9"
      },
      "execution_count": null,
      "outputs": [
        {
          "output_type": "error",
          "ename": "IndexError",
          "evalue": "ignored",
          "traceback": [
            "\u001b[0;31m---------------------------------------------------------------------------\u001b[0m",
            "\u001b[0;31mIndexError\u001b[0m                                Traceback (most recent call last)",
            "\u001b[0;32m<ipython-input-35-08e14d7d6f1a>\u001b[0m in \u001b[0;36m<cell line: 2>\u001b[0;34m()\u001b[0m\n\u001b[1;32m      1\u001b[0m \u001b[0mmotorcycles\u001b[0m \u001b[0;34m=\u001b[0m \u001b[0;34m[\u001b[0m\u001b[0;34m]\u001b[0m\u001b[0;34m\u001b[0m\u001b[0;34m\u001b[0m\u001b[0m\n\u001b[0;32m----> 2\u001b[0;31m \u001b[0mprint\u001b[0m\u001b[0;34m(\u001b[0m\u001b[0mmotorcycles\u001b[0m\u001b[0;34m[\u001b[0m\u001b[0;34m-\u001b[0m\u001b[0;36m1\u001b[0m\u001b[0;34m]\u001b[0m\u001b[0;34m)\u001b[0m\u001b[0;34m\u001b[0m\u001b[0;34m\u001b[0m\u001b[0m\n\u001b[0m",
            "\u001b[0;31mIndexError\u001b[0m: list index out of range"
          ]
        }
      ]
    },
    {
      "cell_type": "markdown",
      "source": [
        "Try It Yourself"
      ],
      "metadata": {
        "id": "8zJ7L3jtZqsE"
      }
    },
    {
      "cell_type": "code",
      "source": [
        "friendsname = ['john', 'tom', 'mark', 'sam']\n",
        "print(friendsname)"
      ],
      "metadata": {
        "colab": {
          "base_uri": "https://localhost:8080/"
        },
        "id": "w_Xk6dS-Zs--",
        "outputId": "ff33b505-8e85-4891-8c26-937332ee2153"
      },
      "execution_count": null,
      "outputs": [
        {
          "output_type": "stream",
          "name": "stdout",
          "text": [
            "['john', 'tom', 'mark', 'sam']\n"
          ]
        }
      ]
    },
    {
      "cell_type": "code",
      "source": [
        "friendsname = ['john', 'tom', 'mark', 'sam']\n",
        "message_template = \"Hello, {}! Thank you for being my friend.\"\n",
        "\n",
        "for name in friendsname:\n",
        "    personalized_message = message_template.format(name.capitalize())\n",
        "    print(personalized_message)"
      ],
      "metadata": {
        "colab": {
          "base_uri": "https://localhost:8080/"
        },
        "id": "m20XHMG7Z-zt",
        "outputId": "1ed20ee7-66eb-4fd9-ea3e-90502684ca92"
      },
      "execution_count": null,
      "outputs": [
        {
          "output_type": "stream",
          "name": "stdout",
          "text": [
            "Hello, John! Thank you for being my friend.\n",
            "Hello, Tom! Thank you for being my friend.\n",
            "Hello, Mark! Thank you for being my friend.\n",
            "Hello, Sam! Thank you for being my friend.\n"
          ]
        }
      ]
    },
    {
      "cell_type": "code",
      "source": [
        "transportation_list = ['motorcycle', 'car', 'bicycle', 'scooter', 'helicopter']\n",
        "\n",
        "for item in transportation_list:\n",
        "    if item == 'motorcycle':\n",
        "        print(\"I would like to own a Ducati motorcycle.\")\n",
        "    elif item == 'car':\n",
        "        print(\"I would like to own a Tesla car.\")\n",
        "    elif item == 'bicycle':\n",
        "        print(\"I enjoy riding my mountain bicycle.\")\n",
        "    elif item == 'scooter':\n",
        "        print(\"A Vespa scooter would be a fun way to get around.\")\n",
        "    elif item == 'helicopter':\n",
        "        print(\"Traveling by helicopter would be an incredible experience.\")\n"
      ],
      "metadata": {
        "colab": {
          "base_uri": "https://localhost:8080/"
        },
        "id": "ZEJukIcucdG9",
        "outputId": "6ddfe532-99ba-414e-a1b1-e253270e2d80"
      },
      "execution_count": null,
      "outputs": [
        {
          "output_type": "stream",
          "name": "stdout",
          "text": [
            "I would like to own a Ducati motorcycle.\n",
            "I would like to own a Tesla car.\n",
            "I enjoy riding my mountain bicycle.\n",
            "A Vespa scooter would be a fun way to get around.\n",
            "Traveling by helicopter would be an incredible experience.\n"
          ]
        }
      ]
    },
    {
      "cell_type": "code",
      "source": [
        "guest_list = ['Tokiya Mizoguchi', 'Keisuke Shimazaki', 'Aoi Inagaki']\n",
        "\n",
        "for guest in guest_list:\n",
        "    print(f\"Dear {guest},\\nYou are cordially invited to join us for dinner at my place. It would be an honor to have your company.\\n\\nSincerely, [Taichi Komai]\")"
      ],
      "metadata": {
        "colab": {
          "base_uri": "https://localhost:8080/"
        },
        "id": "bNDfARMmclQu",
        "outputId": "1c09a628-e46b-40b1-af6b-379f36f7facd"
      },
      "execution_count": null,
      "outputs": [
        {
          "output_type": "stream",
          "name": "stdout",
          "text": [
            "Dear Tokiya Mizoguchi,\n",
            "You are cordially invited to join us for dinner at my place. It would be an honor to have your company.\n",
            "\n",
            "Sincerely, [Taichi Komai]\n",
            "Dear Keisuke Shimazaki,\n",
            "You are cordially invited to join us for dinner at my place. It would be an honor to have your company.\n",
            "\n",
            "Sincerely, [Taichi Komai]\n",
            "Dear Aoi Inagaki,\n",
            "You are cordially invited to join us for dinner at my place. It would be an honor to have your company.\n",
            "\n",
            "Sincerely, [Taichi Komai]\n"
          ]
        }
      ]
    },
    {
      "cell_type": "code",
      "source": [
        "guest_list = ['Tokiya Mizoguchi', 'Keisuke Shimazaki', 'Aoi Inagaki']\n",
        "\n",
        "guest_cant_make_it = 'Tokiya Mizoguchi'\n",
        "\n",
        "print(f\"Unfortunately, {guest_cant_make_it} can't make it to dinner.\")\n",
        "\n",
        "guest_list.remove(guest_cant_make_it)\n",
        "new_guest = 'Isaac Newton'\n",
        "guest_list.append(new_guest)\n",
        "\n",
        "for guest in guest_list:\n",
        "    print(f\"Dear {guest},\\nYou are cordially invited to join us for dinner at my place. It would be an honor to have your company.\\n\")\n",
        "\n",
        "print(f\"We have a new guest, {new_guest}, who will be joining us for dinner.\")\n"
      ],
      "metadata": {
        "colab": {
          "base_uri": "https://localhost:8080/"
        },
        "id": "4wPCrEd5dvU8",
        "outputId": "3d802a8c-edad-448e-d72c-bf7dada167c5"
      },
      "execution_count": null,
      "outputs": [
        {
          "output_type": "stream",
          "name": "stdout",
          "text": [
            "Unfortunately, Tokiya Mizoguchi can't make it to dinner.\n",
            "Dear Keisuke Shimazaki,\n",
            "You are cordially invited to join us for dinner at my place. It would be an honor to have your company.\n",
            "\n",
            "Dear Aoi Inagaki,\n",
            "You are cordially invited to join us for dinner at my place. It would be an honor to have your company.\n",
            "\n",
            "Dear Isaac Newton,\n",
            "You are cordially invited to join us for dinner at my place. It would be an honor to have your company.\n",
            "\n",
            "We have a new guest, Isaac Newton, who will be joining us for dinner.\n"
          ]
        }
      ]
    },
    {
      "cell_type": "code",
      "source": [
        "guest_list = ['Tokiya Mizoguchi', 'Keisuke Shimazaki', 'Aoi Inagaki']\n",
        "\n",
        "guest_cant_make_it = 'Tokiya Mizoguchi'\n",
        "\n",
        "\n",
        "print(f\"Unfortunately, {guest_cant_make_it} can't make it to dinner.\")\n",
        "\n",
        "guest_list.remove(guest_cant_make_it)\n",
        "new_guest = 'Nanami Tsuta'\n",
        "guest_list.append(new_guest)\n",
        "\n",
        "print(\"Great news! I found a bigger table for dinner.\")\n",
        "\n",
        "guest_list.insert(0, 'Shunsei Ishikawa')\n",
        "guest_list.insert(len(guest_list) // 2, 'Caroline Lafon')\n",
        "guest_list.append('Chloe Baker')\n",
        "\n",
        "for guest in guest_list:\n",
        "    print(f\"Dear {guest},\\nYou are cordially invited to join us for dinner at my place. It would be an honor to have your company.\\n\")\n"
      ],
      "metadata": {
        "colab": {
          "base_uri": "https://localhost:8080/"
        },
        "id": "LzDLl8jOfLDH",
        "outputId": "1c6208b8-3b6b-4523-bd9b-fbec1961b6cc"
      },
      "execution_count": null,
      "outputs": [
        {
          "output_type": "stream",
          "name": "stdout",
          "text": [
            "Unfortunately, Tokiya Mizoguchi can't make it to dinner.\n",
            "Great news! I found a bigger table for dinner.\n",
            "Dear Shunsei Ishikawa,\n",
            "You are cordially invited to join us for dinner at my place. It would be an honor to have your company.\n",
            "\n",
            "Dear Keisuke Shimazaki,\n",
            "You are cordially invited to join us for dinner at my place. It would be an honor to have your company.\n",
            "\n",
            "Dear Caroline Lafon,\n",
            "You are cordially invited to join us for dinner at my place. It would be an honor to have your company.\n",
            "\n",
            "Dear Aoi Inagaki,\n",
            "You are cordially invited to join us for dinner at my place. It would be an honor to have your company.\n",
            "\n",
            "Dear Nanami Tsuta,\n",
            "You are cordially invited to join us for dinner at my place. It would be an honor to have your company.\n",
            "\n",
            "Dear Chloe Baker,\n",
            "You are cordially invited to join us for dinner at my place. It would be an honor to have your company.\n",
            "\n"
          ]
        }
      ]
    },
    {
      "cell_type": "code",
      "source": [
        "guest_list = ['Tokiya Mizoguchi', 'Keisuke Shimazaki', 'Aoi Inagaki', 'Nanami Tsuta', 'Caroline Lafon', 'Chole Baker']\n",
        "\n",
        "guest_cant_make_it = 'Tokiya Mizoguchi'\n",
        "\n",
        "print(f\"Unfortunately, {guest_cant_make_it} can't make it to dinner.\")\n",
        "\n",
        "guest_list.remove(guest_cant_make_it)\n",
        "new_guest = 'Ai Kanzaki'\n",
        "guest_list.append(new_guest)\n",
        "\n",
        "print(\"Great news! I found a bigger table for dinner.\")\n",
        "\n",
        "guest_list.insert(0, 'Airi Sasaki')\n",
        "guest_list.insert(len(guest_list) // 2, 'Miku Hatsune')\n",
        "guest_list.append('Minami Minegishi')\n",
        "\n",
        "print(\"Unfortunately, the new dinner table won't arrive in time, so I can invite only two people for dinner.\")\n",
        "\n",
        "while len(guest_list) > 2:\n",
        "    removed_guest = guest_list.pop()\n",
        "    print(f\"Sorry, {removed_guest}, I can't invite you to dinner.\")\n",
        "\n",
        "for guest in guest_list:\n",
        "    print(f\"Dear {guest},\\nYou are cordially invited to join us for dinner at my place. It would be an honor to have your company.\\n\")\n",
        "\n",
        "del guest_list[-2:]\n",
        "\n",
        "print(\"Guest list after removing the last two names:\", guest_list)\n"
      ],
      "metadata": {
        "colab": {
          "base_uri": "https://localhost:8080/"
        },
        "id": "7kgMY5eyfw24",
        "outputId": "d3af37cd-f397-4636-a05a-8a89e8c3f471"
      },
      "execution_count": null,
      "outputs": [
        {
          "output_type": "stream",
          "name": "stdout",
          "text": [
            "Unfortunately, Tokiya Mizoguchi can't make it to dinner.\n",
            "Great news! I found a bigger table for dinner.\n",
            "Unfortunately, the new dinner table won't arrive in time, so I can invite only two people for dinner.\n",
            "Sorry, Minami Minegishi, I can't invite you to dinner.\n",
            "Sorry, Ai Kanzaki, I can't invite you to dinner.\n",
            "Sorry, Chole Baker, I can't invite you to dinner.\n",
            "Sorry, Caroline Lafon, I can't invite you to dinner.\n",
            "Sorry, Nanami Tsuta, I can't invite you to dinner.\n",
            "Sorry, Miku Hatsune, I can't invite you to dinner.\n",
            "Sorry, Aoi Inagaki, I can't invite you to dinner.\n",
            "Dear Airi Sasaki,\n",
            "You are cordially invited to join us for dinner at my place. It would be an honor to have your company.\n",
            "\n",
            "Dear Keisuke Shimazaki,\n",
            "You are cordially invited to join us for dinner at my place. It would be an honor to have your company.\n",
            "\n",
            "Guest list after removing the last two names: []\n"
          ]
        }
      ]
    },
    {
      "cell_type": "code",
      "source": [
        "places_to_visit = ['Tokyo', 'Paris', 'Seoul', 'New York City', 'Machu Picchu']\n",
        "\n",
        "print(\"Original Order:\")\n",
        "print(places_to_visit)\n",
        "\n",
        "print(\"\\nAlphabetical Order:\")\n",
        "print(sorted(places_to_visit))\n",
        "\n",
        "print(\"\\nOriginal Order (after sorted() without modification):\")\n",
        "print(places_to_visit)\n",
        "\n",
        "print(\"\\nReverse Alphabetical Order:\")\n",
        "print(sorted(places_to_visit, reverse=True))\n",
        "\n",
        "places_to_visit.reverse()\n",
        "\n",
        "print(\"\\nChanged Order (after reverse()):\")\n",
        "print(places_to_visit)\n",
        "\n",
        "places_to_visit.reverse()\n",
        "\n",
        "print(\"\\nOriginal Order (after reverse() twice):\")\n",
        "print(places_to_visit)\n",
        "\n",
        "places_to_visit.sort()\n",
        "\n",
        "print(\"\\nAlphabetical Order (after sort()):\")\n",
        "print(places_to_visit)\n",
        "\n",
        "places_to_visit.sort(reverse=True)\n",
        "\n",
        "print(\"\\nReverse Alphabetical Order (after sort(reverse=True)):\")\n",
        "print(places_to_visit)\n"
      ],
      "metadata": {
        "colab": {
          "base_uri": "https://localhost:8080/"
        },
        "id": "xuIqwfweg3Sr",
        "outputId": "1161a09a-70f3-4c27-a68e-a98e615727df"
      },
      "execution_count": null,
      "outputs": [
        {
          "output_type": "stream",
          "name": "stdout",
          "text": [
            "Original Order:\n",
            "['Tokyo', 'Paris', 'Seoul', 'New York City', 'Machu Picchu']\n",
            "\n",
            "Alphabetical Order:\n",
            "['Machu Picchu', 'New York City', 'Paris', 'Seoul', 'Tokyo']\n",
            "\n",
            "Original Order (after sorted() without modification):\n",
            "['Tokyo', 'Paris', 'Seoul', 'New York City', 'Machu Picchu']\n",
            "\n",
            "Reverse Alphabetical Order:\n",
            "['Tokyo', 'Seoul', 'Paris', 'New York City', 'Machu Picchu']\n",
            "\n",
            "Changed Order (after reverse()):\n",
            "['Machu Picchu', 'New York City', 'Seoul', 'Paris', 'Tokyo']\n",
            "\n",
            "Original Order (after reverse() twice):\n",
            "['Tokyo', 'Paris', 'Seoul', 'New York City', 'Machu Picchu']\n",
            "\n",
            "Alphabetical Order (after sort()):\n",
            "['Machu Picchu', 'New York City', 'Paris', 'Seoul', 'Tokyo']\n",
            "\n",
            "Reverse Alphabetical Order (after sort(reverse=True)):\n",
            "['Tokyo', 'Seoul', 'Paris', 'New York City', 'Machu Picchu']\n"
          ]
        }
      ]
    },
    {
      "cell_type": "code",
      "source": [
        "guest_list = ['Tokiya Mizoguchi', 'Keisuke Shimazaki', 'Aoi Inagaki', 'Nanami Tsuta', 'Caroline Lafon', 'Chole Baker']\n",
        "\n",
        "guest_cant_make_it = 'Tokiya Mizoguchi'\n",
        "\n",
        "guest_list.remove(guest_cant_make_it)\n",
        "new_guest = 'Ai Kanzaki'\n",
        "guest_list.append(new_guest)\n",
        "\n",
        "print(\"Great news! I found a bigger table for dinner.\")\n",
        "\n",
        "guest_list.insert(0, 'Airi Sasaki')\n",
        "guest_list.insert(len(guest_list) // 2, 'Miku Hatsune')\n",
        "guest_list.append('Minami Minegishi')\n",
        "\n",
        "while len(guest_list) > 2:\n",
        "    removed_guest = guest_list.pop()\n",
        "    print(f\"Sorry, {removed_guest}, I can't invite you to dinner.\")\n",
        "\n",
        "num_invited = len(guest_list)\n",
        "print(f\"\\nNumber of people invited to dinner: {num_invited}\")\n"
      ],
      "metadata": {
        "colab": {
          "base_uri": "https://localhost:8080/"
        },
        "id": "wJFZPEX8huTy",
        "outputId": "7f2ef19d-ec27-4f83-ace3-9122a650b436"
      },
      "execution_count": null,
      "outputs": [
        {
          "output_type": "stream",
          "name": "stdout",
          "text": [
            "Great news! I found a bigger table for dinner.\n",
            "Sorry, Minami Minegishi, I can't invite you to dinner.\n",
            "Sorry, Ai Kanzaki, I can't invite you to dinner.\n",
            "Sorry, Chole Baker, I can't invite you to dinner.\n",
            "Sorry, Caroline Lafon, I can't invite you to dinner.\n",
            "Sorry, Nanami Tsuta, I can't invite you to dinner.\n",
            "Sorry, Miku Hatsune, I can't invite you to dinner.\n",
            "Sorry, Aoi Inagaki, I can't invite you to dinner.\n",
            "\n",
            "Number of people invited to dinner: 2\n"
          ]
        }
      ]
    },
    {
      "cell_type": "code",
      "source": [
        "countries = [\"USA\", \"Canada\", \"France\", \"Japan\", \"Australia\", \"Brazil\"]\n",
        "\n",
        "print(\"Original List of Countries:\")\n",
        "print(countries)\n",
        "\n",
        "countries.append(\"Spain\")\n",
        "print(\"\\nAfter Appending 'Spain':\")\n",
        "print(countries)\n",
        "\n",
        "countries.insert(2, \"Germany\")\n",
        "print(\"\\nAfter Inserting 'Germany' at Index 2:\")\n",
        "print(countries)\n",
        "\n",
        "countries.remove(\"Canada\")\n",
        "print(\"\\nAfter Removing 'Canada':\")\n",
        "print(countries)\n",
        "\n",
        "removed_country = countries.pop(4)\n",
        "print(f\"\\nRemoved Country at Index 4: {removed_country}\")\n",
        "print(\"Updated List:\")\n",
        "print(countries)\n",
        "\n",
        "countries.sort()\n",
        "print(\"\\nSorted List:\")\n",
        "print(countries)\n",
        "\n",
        "countries.reverse()\n",
        "print(\"\\nReversed List:\")\n",
        "print(countries)\n",
        "\n",
        "index = countries.index(\"Japan\")\n",
        "print(f\"\\nIndex of 'Japan': {index}\")\n",
        "\n",
        "count = countries.count(\"USA\")\n",
        "print(f\"\\nNumber of 'USA' in the List: {count}\")\n",
        "\n",
        "copied_countries = countries.copy()\n",
        "print(\"\\nCopied List:\")\n",
        "print(copied_countries)\n",
        "\n",
        "countries.clear()\n",
        "print(\"\\nCleared List:\")\n",
        "print(countries)\n"
      ],
      "metadata": {
        "colab": {
          "base_uri": "https://localhost:8080/"
        },
        "id": "ucB3-wnXjTg-",
        "outputId": "54e5658c-4c8c-4d97-e76c-6c1817a634f7"
      },
      "execution_count": null,
      "outputs": [
        {
          "output_type": "stream",
          "name": "stdout",
          "text": [
            "Original List of Countries:\n",
            "['USA', 'Canada', 'France', 'Japan', 'Australia', 'Brazil']\n",
            "\n",
            "After Appending 'Spain':\n",
            "['USA', 'Canada', 'France', 'Japan', 'Australia', 'Brazil', 'Spain']\n",
            "\n",
            "After Inserting 'Germany' at Index 2:\n",
            "['USA', 'Canada', 'Germany', 'France', 'Japan', 'Australia', 'Brazil', 'Spain']\n",
            "\n",
            "After Removing 'Canada':\n",
            "['USA', 'Germany', 'France', 'Japan', 'Australia', 'Brazil', 'Spain']\n",
            "\n",
            "Removed Country at Index 4: Australia\n",
            "Updated List:\n",
            "['USA', 'Germany', 'France', 'Japan', 'Brazil', 'Spain']\n",
            "\n",
            "Sorted List:\n",
            "['Brazil', 'France', 'Germany', 'Japan', 'Spain', 'USA']\n",
            "\n",
            "Reversed List:\n",
            "['USA', 'Spain', 'Japan', 'Germany', 'France', 'Brazil']\n",
            "\n",
            "Index of 'Japan': 2\n",
            "\n",
            "Number of 'USA' in the List: 1\n",
            "\n",
            "Copied List:\n",
            "['USA', 'Spain', 'Japan', 'Germany', 'France', 'Brazil']\n",
            "\n",
            "Cleared List:\n",
            "[]\n"
          ]
        }
      ]
    },
    {
      "cell_type": "markdown",
      "source": [
        "Additional Questions"
      ],
      "metadata": {
        "id": "hMtZreGLj2JK"
      }
    },
    {
      "cell_type": "code",
      "source": [
        "for num in range(60, 86):\n",
        "    if num % 7 == 0:\n",
        "        cube = num ** 3\n",
        "        print(f\"The cube of {num} is {cube}\")\n"
      ],
      "metadata": {
        "colab": {
          "base_uri": "https://localhost:8080/"
        },
        "id": "N5Rh3N3kj5nt",
        "outputId": "1dd836b1-3b7f-44f1-cfc8-dcedbd3f97c4"
      },
      "execution_count": null,
      "outputs": [
        {
          "output_type": "stream",
          "name": "stdout",
          "text": [
            "The cube of 63 is 250047\n",
            "The cube of 70 is 343000\n",
            "The cube of 77 is 456533\n",
            "The cube of 84 is 592704\n"
          ]
        }
      ]
    },
    {
      "cell_type": "code",
      "source": [
        "def calculate_y(x):\n",
        "    return 7.4 * x + 51\n",
        "\n",
        "x_values = [40, 50, 120, -8, 6]\n",
        "\n",
        "for x in x_values:\n",
        "    y = calculate_y(x)\n",
        "    print(f\"For x = {x}, y = {y}\")\n"
      ],
      "metadata": {
        "colab": {
          "base_uri": "https://localhost:8080/"
        },
        "id": "UT_disjcj-Nb",
        "outputId": "4026f606-6f5e-413a-a977-78b3360bf0c9"
      },
      "execution_count": null,
      "outputs": [
        {
          "output_type": "stream",
          "name": "stdout",
          "text": [
            "For x = 40, y = 347.0\n",
            "For x = 50, y = 421.0\n",
            "For x = 120, y = 939.0\n",
            "For x = -8, y = -8.200000000000003\n",
            "For x = 6, y = 95.4\n"
          ]
        }
      ]
    }
  ]
}
